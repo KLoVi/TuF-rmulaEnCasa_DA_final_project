{
 "cells": [
  {
   "cell_type": "code",
   "execution_count": 1,
   "id": "186c404c",
   "metadata": {},
   "outputs": [],
   "source": [
    "import pandas as pd\n",
    "import numpy as np"
   ]
  },
  {
   "cell_type": "code",
   "execution_count": 2,
   "id": "583aa6be",
   "metadata": {},
   "outputs": [],
   "source": [
    "url = \"/Users/karollvivianalopezvillegas/GitHub/OKVET_DA_Final_project/02_Datasets_pre_cleaning/OKVET Exámenes de laboratorio.xlsx\""
   ]
  },
  {
   "cell_type": "code",
   "execution_count": 3,
   "id": "90c2a739",
   "metadata": {},
   "outputs": [],
   "source": [
    "df = pd.read_excel(url)"
   ]
  },
  {
   "cell_type": "code",
   "execution_count": 4,
   "id": "e94e7471",
   "metadata": {},
   "outputs": [
    {
     "data": {
      "text/plain": [
       "(378, 19)"
      ]
     },
     "execution_count": 4,
     "metadata": {},
     "output_type": "execute_result"
    }
   ],
   "source": [
    "df.shape"
   ]
  },
  {
   "cell_type": "code",
   "execution_count": 5,
   "id": "49c430d1",
   "metadata": {},
   "outputs": [
    {
     "data": {
      "text/html": [
       "<div>\n",
       "<style scoped>\n",
       "    .dataframe tbody tr th:only-of-type {\n",
       "        vertical-align: middle;\n",
       "    }\n",
       "\n",
       "    .dataframe tbody tr th {\n",
       "        vertical-align: top;\n",
       "    }\n",
       "\n",
       "    .dataframe thead th {\n",
       "        text-align: right;\n",
       "    }\n",
       "</style>\n",
       "<table border=\"1\" class=\"dataframe\">\n",
       "  <thead>\n",
       "    <tr style=\"text-align: right;\">\n",
       "      <th></th>\n",
       "      <th>Fecha</th>\n",
       "      <th>Pruebas de laboratorio</th>\n",
       "      <th>Diagnóstico presuntivo</th>\n",
       "      <th>Nombre</th>\n",
       "      <th>Especie</th>\n",
       "      <th>Otra especie</th>\n",
       "      <th>Raza</th>\n",
       "      <th>Otra Raza</th>\n",
       "      <th>Género</th>\n",
       "      <th>E.Reproductivo</th>\n",
       "      <th>Fecha nacimiento</th>\n",
       "      <th>Edad</th>\n",
       "      <th>Nombre.1</th>\n",
       "      <th>Identificación</th>\n",
       "      <th>Teléfono</th>\n",
       "      <th>Dirección</th>\n",
       "      <th>Autor</th>\n",
       "      <th>Fecha registro</th>\n",
       "      <th>Fecha edición</th>\n",
       "    </tr>\n",
       "  </thead>\n",
       "  <tbody>\n",
       "    <tr>\n",
       "      <th>0</th>\n",
       "      <td>2021-02-21</td>\n",
       "      <td>Profesional: Paula  Andrea Bernal YepesPrueba/...</td>\n",
       "      <td>parasitosis</td>\n",
       "      <td>Flora</td>\n",
       "      <td>Canino</td>\n",
       "      <td>NaN</td>\n",
       "      <td>Otra</td>\n",
       "      <td>Criollo</td>\n",
       "      <td>Hembra</td>\n",
       "      <td>Esterilizado</td>\n",
       "      <td>2010-03-06</td>\n",
       "      <td>14 años, 4 meses y 27 días</td>\n",
       "      <td>Astrid Osorio</td>\n",
       "      <td>42898757</td>\n",
       "      <td>3113094080</td>\n",
       "      <td>Calle 7 Sur N 44-117</td>\n",
       "      <td>Paula  Andrea Bernal Yepes</td>\n",
       "      <td>2024-01-03 11:28:12</td>\n",
       "      <td>2024-01-03 11:28:12</td>\n",
       "    </tr>\n",
       "    <tr>\n",
       "      <th>1</th>\n",
       "      <td>2022-03-11</td>\n",
       "      <td>Profesional: Paula  Andrea Bernal YepesPrueba/...</td>\n",
       "      <td>anemia leve</td>\n",
       "      <td>MerlÍn ferrero</td>\n",
       "      <td>Canino</td>\n",
       "      <td>NaN</td>\n",
       "      <td>Mestizo</td>\n",
       "      <td>NaN</td>\n",
       "      <td>Macho</td>\n",
       "      <td>Esterilizado</td>\n",
       "      <td>2021-12-25</td>\n",
       "      <td>2 años, 7 meses y 8 días</td>\n",
       "      <td>José Lasso</td>\n",
       "      <td>1113643632</td>\n",
       "      <td>NaN</td>\n",
       "      <td>Calle 11A sur #53CC-16 segundo piso la colinit...</td>\n",
       "      <td>Paula  Andrea Bernal Yepes</td>\n",
       "      <td>2024-04-06 20:25:07</td>\n",
       "      <td>2024-04-06 20:25:07</td>\n",
       "    </tr>\n",
       "    <tr>\n",
       "      <th>2</th>\n",
       "      <td>2022-03-17</td>\n",
       "      <td>Profesional: Paula  Andrea Bernal YepesPrueba/...</td>\n",
       "      <td>cistitis bacteriana, diabetes</td>\n",
       "      <td>Flora</td>\n",
       "      <td>Canino</td>\n",
       "      <td>NaN</td>\n",
       "      <td>Otra</td>\n",
       "      <td>Criollo</td>\n",
       "      <td>Hembra</td>\n",
       "      <td>Esterilizado</td>\n",
       "      <td>2010-03-06</td>\n",
       "      <td>14 años, 4 meses y 27 días</td>\n",
       "      <td>Astrid Osorio</td>\n",
       "      <td>42898757</td>\n",
       "      <td>3113094080</td>\n",
       "      <td>Calle 7 Sur N 44-117</td>\n",
       "      <td>Paula  Andrea Bernal Yepes</td>\n",
       "      <td>2024-01-03 11:24:06</td>\n",
       "      <td>2024-01-03 11:24:06</td>\n",
       "    </tr>\n",
       "    <tr>\n",
       "      <th>3</th>\n",
       "      <td>2022-03-17</td>\n",
       "      <td>Profesional: Paula  Andrea Bernal YepesPrueba/...</td>\n",
       "      <td>negativo</td>\n",
       "      <td>Flora</td>\n",
       "      <td>Canino</td>\n",
       "      <td>NaN</td>\n",
       "      <td>Otra</td>\n",
       "      <td>Criollo</td>\n",
       "      <td>Hembra</td>\n",
       "      <td>Esterilizado</td>\n",
       "      <td>2010-03-06</td>\n",
       "      <td>14 años, 4 meses y 27 días</td>\n",
       "      <td>Astrid Osorio</td>\n",
       "      <td>42898757</td>\n",
       "      <td>3113094080</td>\n",
       "      <td>Calle 7 Sur N 44-117</td>\n",
       "      <td>Paula  Andrea Bernal Yepes</td>\n",
       "      <td>2024-01-03 11:25:31</td>\n",
       "      <td>2024-01-03 11:25:31</td>\n",
       "    </tr>\n",
       "    <tr>\n",
       "      <th>4</th>\n",
       "      <td>2022-05-10</td>\n",
       "      <td>Profesional: EN CASA SERVICIOS PARA MASCOTASPr...</td>\n",
       "      <td>Programación desparasitacion</td>\n",
       "      <td>LOLA</td>\n",
       "      <td>Felino</td>\n",
       "      <td>NaN</td>\n",
       "      <td>Criollo(a)</td>\n",
       "      <td>NaN</td>\n",
       "      <td>Hembra</td>\n",
       "      <td>Esterilizado</td>\n",
       "      <td>2008-09-15</td>\n",
       "      <td>15 años, 10 meses y 18 días</td>\n",
       "      <td>MARCELA UPEGUI</td>\n",
       "      <td>32143408</td>\n",
       "      <td>3043352114</td>\n",
       "      <td>calle 10 #30-210  apto 501</td>\n",
       "      <td>Carolina Velasquez</td>\n",
       "      <td>2024-07-08 13:11:05</td>\n",
       "      <td>2024-07-08 13:14:28</td>\n",
       "    </tr>\n",
       "  </tbody>\n",
       "</table>\n",
       "</div>"
      ],
      "text/plain": [
       "        Fecha                             Pruebas de laboratorio  \\\n",
       "0  2021-02-21  Profesional: Paula  Andrea Bernal YepesPrueba/...   \n",
       "1  2022-03-11  Profesional: Paula  Andrea Bernal YepesPrueba/...   \n",
       "2  2022-03-17  Profesional: Paula  Andrea Bernal YepesPrueba/...   \n",
       "3  2022-03-17  Profesional: Paula  Andrea Bernal YepesPrueba/...   \n",
       "4  2022-05-10  Profesional: EN CASA SERVICIOS PARA MASCOTASPr...   \n",
       "\n",
       "          Diagnóstico presuntivo          Nombre Especie Otra especie  \\\n",
       "0                    parasitosis           Flora  Canino          NaN   \n",
       "1                    anemia leve  MerlÍn ferrero  Canino          NaN   \n",
       "2  cistitis bacteriana, diabetes           Flora  Canino          NaN   \n",
       "3                       negativo           Flora  Canino          NaN   \n",
       "4   Programación desparasitacion            LOLA  Felino          NaN   \n",
       "\n",
       "         Raza Otra Raza  Género E.Reproductivo Fecha nacimiento  \\\n",
       "0        Otra   Criollo  Hembra   Esterilizado       2010-03-06   \n",
       "1     Mestizo       NaN   Macho   Esterilizado       2021-12-25   \n",
       "2        Otra   Criollo  Hembra   Esterilizado       2010-03-06   \n",
       "3        Otra   Criollo  Hembra   Esterilizado       2010-03-06   \n",
       "4  Criollo(a)       NaN  Hembra   Esterilizado       2008-09-15   \n",
       "\n",
       "                          Edad        Nombre.1 Identificación    Teléfono  \\\n",
       "0   14 años, 4 meses y 27 días   Astrid Osorio       42898757  3113094080   \n",
       "1     2 años, 7 meses y 8 días      José Lasso     1113643632         NaN   \n",
       "2   14 años, 4 meses y 27 días   Astrid Osorio       42898757  3113094080   \n",
       "3   14 años, 4 meses y 27 días   Astrid Osorio       42898757  3113094080   \n",
       "4  15 años, 10 meses y 18 días  MARCELA UPEGUI       32143408  3043352114   \n",
       "\n",
       "                                           Dirección  \\\n",
       "0                               Calle 7 Sur N 44-117   \n",
       "1  Calle 11A sur #53CC-16 segundo piso la colinit...   \n",
       "2                               Calle 7 Sur N 44-117   \n",
       "3                               Calle 7 Sur N 44-117   \n",
       "4                         calle 10 #30-210  apto 501   \n",
       "\n",
       "                        Autor       Fecha registro        Fecha edición  \n",
       "0  Paula  Andrea Bernal Yepes  2024-01-03 11:28:12  2024-01-03 11:28:12  \n",
       "1  Paula  Andrea Bernal Yepes  2024-04-06 20:25:07  2024-04-06 20:25:07  \n",
       "2  Paula  Andrea Bernal Yepes  2024-01-03 11:24:06  2024-01-03 11:24:06  \n",
       "3  Paula  Andrea Bernal Yepes  2024-01-03 11:25:31  2024-01-03 11:25:31  \n",
       "4          Carolina Velasquez  2024-07-08 13:11:05  2024-07-08 13:14:28  "
      ]
     },
     "execution_count": 5,
     "metadata": {},
     "output_type": "execute_result"
    }
   ],
   "source": [
    "df.head() # ACCIONES: Eliminar columnas\n",
    "# Convertir a datetime: \"Fecha\", \"Fecha nacimiento\", \"Fecha registro\", \"Fecha edición\"\n",
    "# Cambiar nombre de columnas Nombre --> Paciente; Nombre 1 --> Cliente"
   ]
  },
  {
   "cell_type": "code",
   "execution_count": 6,
   "id": "188cae81",
   "metadata": {
    "scrolled": true
   },
   "outputs": [
    {
     "name": "stdout",
     "output_type": "stream",
     "text": [
      "<class 'pandas.core.frame.DataFrame'>\n",
      "RangeIndex: 378 entries, 0 to 377\n",
      "Data columns (total 19 columns):\n",
      " #   Column                  Non-Null Count  Dtype \n",
      "---  ------                  --------------  ----- \n",
      " 0   Fecha                   378 non-null    object\n",
      " 1   Pruebas de laboratorio  378 non-null    object\n",
      " 2   Diagnóstico presuntivo  378 non-null    object\n",
      " 3   Nombre                  378 non-null    object\n",
      " 4   Especie                 378 non-null    object\n",
      " 5   Otra especie            5 non-null      object\n",
      " 6   Raza                    378 non-null    object\n",
      " 7   Otra Raza               37 non-null     object\n",
      " 8   Género                  378 non-null    object\n",
      " 9   E.Reproductivo          378 non-null    object\n",
      " 10  Fecha nacimiento        378 non-null    object\n",
      " 11  Edad                    378 non-null    object\n",
      " 12  Nombre.1                378 non-null    object\n",
      " 13  Identificación          378 non-null    object\n",
      " 14  Teléfono                290 non-null    object\n",
      " 15  Dirección               377 non-null    object\n",
      " 16  Autor                   378 non-null    object\n",
      " 17  Fecha registro          378 non-null    object\n",
      " 18  Fecha edición           378 non-null    object\n",
      "dtypes: object(19)\n",
      "memory usage: 56.2+ KB\n"
     ]
    }
   ],
   "source": [
    "df.info()"
   ]
  },
  {
   "cell_type": "code",
   "execution_count": 7,
   "id": "6a2929c0",
   "metadata": {},
   "outputs": [
    {
     "data": {
      "text/plain": [
       "Fecha                       0\n",
       "Pruebas de laboratorio      0\n",
       "Diagnóstico presuntivo      0\n",
       "Nombre                      0\n",
       "Especie                     0\n",
       "Otra especie              373\n",
       "Raza                        0\n",
       "Otra Raza                 341\n",
       "Género                      0\n",
       "E.Reproductivo              0\n",
       "Fecha nacimiento            0\n",
       "Edad                        0\n",
       "Nombre.1                    0\n",
       "Identificación              0\n",
       "Teléfono                   88\n",
       "Dirección                   1\n",
       "Autor                       0\n",
       "Fecha registro              0\n",
       "Fecha edición               0\n",
       "dtype: int64"
      ]
     },
     "execution_count": 7,
     "metadata": {},
     "output_type": "execute_result"
    }
   ],
   "source": [
    "df.isna().sum()"
   ]
  },
  {
   "cell_type": "code",
   "execution_count": 8,
   "id": "cdd3776f",
   "metadata": {
    "scrolled": true
   },
   "outputs": [
    {
     "data": {
      "text/plain": [
       "Fecha                     207\n",
       "Pruebas de laboratorio    378\n",
       "Diagnóstico presuntivo    256\n",
       "Nombre                    196\n",
       "Especie                     3\n",
       "Otra especie                3\n",
       "Raza                       52\n",
       "Otra Raza                  10\n",
       "Género                      2\n",
       "E.Reproductivo              3\n",
       "Fecha nacimiento          194\n",
       "Edad                      194\n",
       "Nombre.1                  148\n",
       "Identificación            149\n",
       "Teléfono                  110\n",
       "Dirección                 146\n",
       "Autor                       9\n",
       "Fecha registro            378\n",
       "Fecha edición             378\n",
       "dtype: int64"
      ]
     },
     "execution_count": 8,
     "metadata": {},
     "output_type": "execute_result"
    }
   ],
   "source": [
    "df.nunique()"
   ]
  },
  {
   "cell_type": "code",
   "execution_count": 9,
   "id": "651ac3a6",
   "metadata": {},
   "outputs": [
    {
     "data": {
      "text/plain": [
       "0"
      ]
     },
     "execution_count": 9,
     "metadata": {},
     "output_type": "execute_result"
    }
   ],
   "source": [
    "df.duplicated().sum()"
   ]
  },
  {
   "cell_type": "code",
   "execution_count": null,
   "id": "cd88e0fa",
   "metadata": {},
   "outputs": [],
   "source": []
  },
  {
   "cell_type": "code",
   "execution_count": null,
   "id": "51ac9919",
   "metadata": {},
   "outputs": [],
   "source": []
  },
  {
   "cell_type": "code",
   "execution_count": null,
   "id": "7c44f5fa",
   "metadata": {},
   "outputs": [],
   "source": []
  },
  {
   "cell_type": "code",
   "execution_count": 13,
   "id": "3460f984",
   "metadata": {},
   "outputs": [
    {
     "data": {
      "text/plain": [
       "E.Reproductivo\n",
       "Esterilizado       281\n",
       "No esterilizado     91\n",
       "Desconocido          6\n",
       "Name: count, dtype: int64"
      ]
     },
     "execution_count": 13,
     "metadata": {},
     "output_type": "execute_result"
    }
   ],
   "source": [
    "df[\"E.Reproductivo\"].value_counts()"
   ]
  },
  {
   "cell_type": "code",
   "execution_count": 11,
   "id": "95e5543d",
   "metadata": {},
   "outputs": [
    {
     "data": {
      "text/plain": [
       "Especie\n",
       "Canino    237\n",
       "Felino    137\n",
       "Equino      4\n",
       "Name: count, dtype: int64"
      ]
     },
     "execution_count": 11,
     "metadata": {},
     "output_type": "execute_result"
    }
   ],
   "source": [
    "df.Especie.value_counts()"
   ]
  },
  {
   "cell_type": "code",
   "execution_count": 12,
   "id": "8a7ce18f",
   "metadata": {},
   "outputs": [
    {
     "data": {
      "text/plain": [
       "Autor\n",
       "EN CASA SERVICIOS PARA MASCOTAS    127\n",
       "Paula  Andrea Bernal Yepes         105\n",
       "Carolina Velasquez                  51\n",
       "Natalia Ortiz Ríos                  40\n",
       "Eliana Andrea  Varela Rodríguez     25\n",
       "valentina Velasquez Beltran         15\n",
       "MA. CAMILA MEJIA (TP 26023)          7\n",
       "Mariana Serna Pinilla                5\n",
       "Daniela Bedoya Cardona               3\n",
       "Name: count, dtype: int64"
      ]
     },
     "execution_count": 12,
     "metadata": {},
     "output_type": "execute_result"
    }
   ],
   "source": [
    "df.Autor.value_counts()"
   ]
  },
  {
   "cell_type": "code",
   "execution_count": 24,
   "id": "79a33110",
   "metadata": {},
   "outputs": [],
   "source": [
    "df.drop(columns = [\"Otra especie\", \"Otra Raza\", \"Teléfono\" , \"Dirección\"]  , inplace = True)"
   ]
  },
  {
   "cell_type": "code",
   "execution_count": 25,
   "id": "02ac577c",
   "metadata": {
    "scrolled": false
   },
   "outputs": [
    {
     "name": "stdout",
     "output_type": "stream",
     "text": [
      "<class 'pandas.core.frame.DataFrame'>\n",
      "RangeIndex: 378 entries, 0 to 377\n",
      "Data columns (total 15 columns):\n",
      " #   Column                  Non-Null Count  Dtype         \n",
      "---  ------                  --------------  -----         \n",
      " 0   Fecha                   378 non-null    object        \n",
      " 1   Pruebas de laboratorio  378 non-null    object        \n",
      " 2   Diagnóstico presuntivo  378 non-null    object        \n",
      " 3   Paciente                378 non-null    object        \n",
      " 4   Especie                 378 non-null    object        \n",
      " 5   Raza                    378 non-null    object        \n",
      " 6   Género                  378 non-null    object        \n",
      " 7   E.Reproductivo          378 non-null    object        \n",
      " 8   Fecha nacimiento        378 non-null    datetime64[ns]\n",
      " 9   Edad                    378 non-null    object        \n",
      " 10  Cliente                 378 non-null    object        \n",
      " 11  Identificación          378 non-null    object        \n",
      " 12  Autor                   378 non-null    object        \n",
      " 13  Fecha registro          378 non-null    datetime64[ns]\n",
      " 14  Fecha edición           378 non-null    datetime64[ns]\n",
      "dtypes: datetime64[ns](3), object(12)\n",
      "memory usage: 44.4+ KB\n"
     ]
    }
   ],
   "source": [
    "df.info()"
   ]
  },
  {
   "cell_type": "code",
   "execution_count": 14,
   "id": "d9afc096",
   "metadata": {},
   "outputs": [],
   "source": [
    "df.rename(columns = {\"Nombre\": \"Paciente\"} , inplace = True)"
   ]
  },
  {
   "cell_type": "code",
   "execution_count": 15,
   "id": "4e80d404",
   "metadata": {},
   "outputs": [],
   "source": [
    "df.rename(columns = {\"Nombre.1\": \"Cliente\"} , inplace = True)"
   ]
  },
  {
   "cell_type": "code",
   "execution_count": 26,
   "id": "1259b8ae",
   "metadata": {},
   "outputs": [],
   "source": [
    "df[\"Fecha\"] = pd.to_datetime(df[\"Fecha\"])"
   ]
  },
  {
   "cell_type": "code",
   "execution_count": 27,
   "id": "c2145fbc",
   "metadata": {},
   "outputs": [],
   "source": [
    "df[\"Fecha nacimiento\"] = pd.to_datetime(df[\"Fecha nacimiento\"])"
   ]
  },
  {
   "cell_type": "code",
   "execution_count": 28,
   "id": "bf902e8d",
   "metadata": {},
   "outputs": [],
   "source": [
    "df[\"Fecha registro\"] = pd.to_datetime(df[\"Fecha registro\"])"
   ]
  },
  {
   "cell_type": "code",
   "execution_count": 29,
   "id": "b499e8ac",
   "metadata": {},
   "outputs": [],
   "source": [
    "df[\"Fecha edición\"] = pd.to_datetime(df[\"Fecha edición\"])"
   ]
  },
  {
   "cell_type": "code",
   "execution_count": 30,
   "id": "5946b5ed",
   "metadata": {},
   "outputs": [
    {
     "data": {
      "text/plain": [
       "Fecha                     datetime64[ns]\n",
       "Pruebas de laboratorio            object\n",
       "Diagnóstico presuntivo            object\n",
       "Paciente                          object\n",
       "Especie                           object\n",
       "Raza                              object\n",
       "Género                            object\n",
       "E.Reproductivo                    object\n",
       "Fecha nacimiento          datetime64[ns]\n",
       "Edad                              object\n",
       "Cliente                           object\n",
       "Identificación                    object\n",
       "Autor                             object\n",
       "Fecha registro            datetime64[ns]\n",
       "Fecha edición             datetime64[ns]\n",
       "dtype: object"
      ]
     },
     "execution_count": 30,
     "metadata": {},
     "output_type": "execute_result"
    }
   ],
   "source": [
    "df.dtypes"
   ]
  },
  {
   "cell_type": "code",
   "execution_count": 32,
   "id": "ec87294c",
   "metadata": {},
   "outputs": [],
   "source": [
    "# df[\"Identificación\"] = df[\"Identificación\"].astype(int); \n",
    "# ValueError: invalid literal for int() with base 10: '****8620'"
   ]
  },
  {
   "cell_type": "code",
   "execution_count": 34,
   "id": "559667b7",
   "metadata": {},
   "outputs": [],
   "source": [
    "# df.to_excel(\"/Users/karollvivianalopezvillegas/GitHub/OKVET_DA_Final_project/04_Datasets_final/df_OKVET_Exámenes de laboratorio.xlsx\", index = False)"
   ]
  },
  {
   "cell_type": "code",
   "execution_count": null,
   "id": "5f25ac64",
   "metadata": {},
   "outputs": [],
   "source": []
  }
 ],
 "metadata": {
  "kernelspec": {
   "display_name": "Python 3 (ipykernel)",
   "language": "python",
   "name": "python3"
  },
  "language_info": {
   "codemirror_mode": {
    "name": "ipython",
    "version": 3
   },
   "file_extension": ".py",
   "mimetype": "text/x-python",
   "name": "python",
   "nbconvert_exporter": "python",
   "pygments_lexer": "ipython3",
   "version": "3.11.7"
  }
 },
 "nbformat": 4,
 "nbformat_minor": 5
}
