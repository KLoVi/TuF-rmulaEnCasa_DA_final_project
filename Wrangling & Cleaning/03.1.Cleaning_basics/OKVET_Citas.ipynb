{
 "cells": [
  {
   "cell_type": "code",
   "execution_count": 1,
   "id": "186c404c",
   "metadata": {},
   "outputs": [],
   "source": [
    "import pandas as pd\n",
    "import numpy as np"
   ]
  },
  {
   "cell_type": "code",
   "execution_count": 2,
   "id": "583aa6be",
   "metadata": {},
   "outputs": [],
   "source": [
    "url = \"/Users/karollvivianalopezvillegas/GitHub/OKVET_DA_Final_project/02_Datasets_pre_cleaning/OKVET Citas.xlsx\""
   ]
  },
  {
   "cell_type": "code",
   "execution_count": 3,
   "id": "90c2a739",
   "metadata": {},
   "outputs": [],
   "source": [
    "df = pd.read_excel(url)"
   ]
  },
  {
   "cell_type": "code",
   "execution_count": 4,
   "id": "e94e7471",
   "metadata": {},
   "outputs": [
    {
     "data": {
      "text/plain": [
       "(113, 22)"
      ]
     },
     "execution_count": 4,
     "metadata": {},
     "output_type": "execute_result"
    }
   ],
   "source": [
    "df.shape"
   ]
  },
  {
   "cell_type": "code",
   "execution_count": 5,
   "id": "49c430d1",
   "metadata": {
    "collapsed": true
   },
   "outputs": [
    {
     "data": {
      "text/html": [
       "<div>\n",
       "<style scoped>\n",
       "    .dataframe tbody tr th:only-of-type {\n",
       "        vertical-align: middle;\n",
       "    }\n",
       "\n",
       "    .dataframe tbody tr th {\n",
       "        vertical-align: top;\n",
       "    }\n",
       "\n",
       "    .dataframe thead th {\n",
       "        text-align: right;\n",
       "    }\n",
       "</style>\n",
       "<table border=\"1\" class=\"dataframe\">\n",
       "  <thead>\n",
       "    <tr style=\"text-align: right;\">\n",
       "      <th></th>\n",
       "      <th>Encargado</th>\n",
       "      <th>Fecha y hora</th>\n",
       "      <th>Tipo</th>\n",
       "      <th>Estado y asistencia</th>\n",
       "      <th>Comentarios</th>\n",
       "      <th>Cancelado</th>\n",
       "      <th>Nombre</th>\n",
       "      <th>Especie</th>\n",
       "      <th>Otra especie</th>\n",
       "      <th>Raza</th>\n",
       "      <th>...</th>\n",
       "      <th>E.Reproductivo</th>\n",
       "      <th>Fecha nacimiento</th>\n",
       "      <th>Edad</th>\n",
       "      <th>Nombre.1</th>\n",
       "      <th>Identificación</th>\n",
       "      <th>Teléfono</th>\n",
       "      <th>Dirección</th>\n",
       "      <th>Autor</th>\n",
       "      <th>Fecha registro</th>\n",
       "      <th>Fecha edición</th>\n",
       "    </tr>\n",
       "  </thead>\n",
       "  <tbody>\n",
       "    <tr>\n",
       "      <th>0</th>\n",
       "      <td>NaN</td>\n",
       "      <td>2023-08-14 00:00:00</td>\n",
       "      <td>Consulta general</td>\n",
       "      <td>Pre-registro</td>\n",
       "      <td>NaN</td>\n",
       "      <td>NaN</td>\n",
       "      <td>Estrella Rivas</td>\n",
       "      <td>Canino</td>\n",
       "      <td>NaN</td>\n",
       "      <td>American Bully</td>\n",
       "      <td>...</td>\n",
       "      <td>Esterilizado</td>\n",
       "      <td>2021-04-21</td>\n",
       "      <td>3 años, 3 meses y 12 días</td>\n",
       "      <td>karen rivas</td>\n",
       "      <td>1.077429e+09</td>\n",
       "      <td>NaN</td>\n",
       "      <td>calle 55# 32 29 barrio boston piso 2</td>\n",
       "      <td>valentina Velasquez Beltran</td>\n",
       "      <td>2023-08-09 12:34:34</td>\n",
       "      <td>2023-08-09 12:34:34</td>\n",
       "    </tr>\n",
       "    <tr>\n",
       "      <th>1</th>\n",
       "      <td>NaN</td>\n",
       "      <td>2023-08-12 00:00:00</td>\n",
       "      <td>Consulta general</td>\n",
       "      <td>Pre-registro</td>\n",
       "      <td>NaN</td>\n",
       "      <td>NaN</td>\n",
       "      <td>RUNA</td>\n",
       "      <td>Canino</td>\n",
       "      <td>NaN</td>\n",
       "      <td>Pomerania</td>\n",
       "      <td>...</td>\n",
       "      <td>Esterilizado</td>\n",
       "      <td>2019-02-21</td>\n",
       "      <td>5 años, 5 meses y 12 días</td>\n",
       "      <td>Monica Sanchez</td>\n",
       "      <td>1.040735e+09</td>\n",
       "      <td>3168304040</td>\n",
       "      <td>Calle 7 Sur N 37A-25 Apto 14-04, Poblado, Mede...</td>\n",
       "      <td>valentina Velasquez Beltran</td>\n",
       "      <td>2023-08-10 12:40:29</td>\n",
       "      <td>2023-08-10 12:40:29</td>\n",
       "    </tr>\n",
       "    <tr>\n",
       "      <th>2</th>\n",
       "      <td>NaN</td>\n",
       "      <td>2024-08-22 00:00:00</td>\n",
       "      <td>Vacunación</td>\n",
       "      <td>Pre-registro</td>\n",
       "      <td>NaN</td>\n",
       "      <td>NaN</td>\n",
       "      <td>Morita Sanchez</td>\n",
       "      <td>Felino</td>\n",
       "      <td>NaN</td>\n",
       "      <td>Mestizo</td>\n",
       "      <td>...</td>\n",
       "      <td>Esterilizado</td>\n",
       "      <td>2021-07-15</td>\n",
       "      <td>3 años, 0 meses y 18 días</td>\n",
       "      <td>Laura Sanchez Lombana</td>\n",
       "      <td>1.152201e+09</td>\n",
       "      <td>318 3887403</td>\n",
       "      <td>calle 33 aa carrera 93 c 47</td>\n",
       "      <td>MA. CAMILA MEJIA (TP 26023)</td>\n",
       "      <td>2023-08-22 12:50:34</td>\n",
       "      <td>2023-08-22 12:50:34</td>\n",
       "    </tr>\n",
       "    <tr>\n",
       "      <th>3</th>\n",
       "      <td>NaN</td>\n",
       "      <td>2024-08-24 00:00:00</td>\n",
       "      <td>Vacunación</td>\n",
       "      <td>Pre-registro</td>\n",
       "      <td>NaN</td>\n",
       "      <td>NaN</td>\n",
       "      <td>Marrakesh</td>\n",
       "      <td>Canino</td>\n",
       "      <td>Canine</td>\n",
       "      <td>Otra</td>\n",
       "      <td>...</td>\n",
       "      <td>Esterilizado</td>\n",
       "      <td>2020-07-24</td>\n",
       "      <td>4 años, 0 meses y 9 días</td>\n",
       "      <td>alejandra garces</td>\n",
       "      <td>4.375803e+07</td>\n",
       "      <td>3152674689</td>\n",
       "      <td>edificio tramonte 201</td>\n",
       "      <td>MA. CAMILA MEJIA (TP 26023)</td>\n",
       "      <td>2023-08-24 08:24:23</td>\n",
       "      <td>2023-08-24 08:24:23</td>\n",
       "    </tr>\n",
       "    <tr>\n",
       "      <th>4</th>\n",
       "      <td>NaN</td>\n",
       "      <td>2023-09-08 00:00:00</td>\n",
       "      <td>Vacunación</td>\n",
       "      <td>Pre-registro</td>\n",
       "      <td>NaN</td>\n",
       "      <td>NaN</td>\n",
       "      <td>Marrón veleo</td>\n",
       "      <td>Felino</td>\n",
       "      <td>NaN</td>\n",
       "      <td>Criollo(a)</td>\n",
       "      <td>...</td>\n",
       "      <td>No esterilizado</td>\n",
       "      <td>2023-05-16</td>\n",
       "      <td>1 años, 2 meses y 17 días</td>\n",
       "      <td>Veronica Vélez</td>\n",
       "      <td>1.128408e+09</td>\n",
       "      <td>NaN</td>\n",
       "      <td>Calle 71 #58-112</td>\n",
       "      <td>MA. CAMILA MEJIA (TP 26023)</td>\n",
       "      <td>2023-08-24 12:20:12</td>\n",
       "      <td>2023-08-24 12:20:12</td>\n",
       "    </tr>\n",
       "  </tbody>\n",
       "</table>\n",
       "<p>5 rows × 22 columns</p>\n",
       "</div>"
      ],
      "text/plain": [
       "  Encargado         Fecha y hora              Tipo Estado y asistencia  \\\n",
       "0       NaN  2023-08-14 00:00:00  Consulta general        Pre-registro   \n",
       "1       NaN  2023-08-12 00:00:00  Consulta general        Pre-registro   \n",
       "2       NaN  2024-08-22 00:00:00        Vacunación        Pre-registro   \n",
       "3       NaN  2024-08-24 00:00:00        Vacunación        Pre-registro   \n",
       "4       NaN  2023-09-08 00:00:00        Vacunación        Pre-registro   \n",
       "\n",
       "   Comentarios  Cancelado          Nombre Especie Otra especie  \\\n",
       "0          NaN        NaN  Estrella Rivas  Canino          NaN   \n",
       "1          NaN        NaN            RUNA  Canino          NaN   \n",
       "2          NaN        NaN  Morita Sanchez  Felino          NaN   \n",
       "3          NaN        NaN       Marrakesh  Canino       Canine   \n",
       "4          NaN        NaN    Marrón veleo  Felino          NaN   \n",
       "\n",
       "             Raza  ...   E.Reproductivo Fecha nacimiento  \\\n",
       "0  American Bully  ...     Esterilizado       2021-04-21   \n",
       "1       Pomerania  ...     Esterilizado       2019-02-21   \n",
       "2         Mestizo  ...     Esterilizado       2021-07-15   \n",
       "3            Otra  ...     Esterilizado       2020-07-24   \n",
       "4      Criollo(a)  ...  No esterilizado       2023-05-16   \n",
       "\n",
       "                        Edad               Nombre.1 Identificación  \\\n",
       "0  3 años, 3 meses y 12 días            karen rivas   1.077429e+09   \n",
       "1  5 años, 5 meses y 12 días         Monica Sanchez   1.040735e+09   \n",
       "2  3 años, 0 meses y 18 días  Laura Sanchez Lombana   1.152201e+09   \n",
       "3   4 años, 0 meses y 9 días       alejandra garces   4.375803e+07   \n",
       "4  1 años, 2 meses y 17 días         Veronica Vélez   1.128408e+09   \n",
       "\n",
       "      Teléfono                                          Dirección  \\\n",
       "0          NaN               calle 55# 32 29 barrio boston piso 2   \n",
       "1   3168304040  Calle 7 Sur N 37A-25 Apto 14-04, Poblado, Mede...   \n",
       "2  318 3887403                        calle 33 aa carrera 93 c 47   \n",
       "3   3152674689                              edificio tramonte 201   \n",
       "4          NaN                                   Calle 71 #58-112   \n",
       "\n",
       "                         Autor       Fecha registro        Fecha edición  \n",
       "0  valentina Velasquez Beltran  2023-08-09 12:34:34  2023-08-09 12:34:34  \n",
       "1  valentina Velasquez Beltran  2023-08-10 12:40:29  2023-08-10 12:40:29  \n",
       "2  MA. CAMILA MEJIA (TP 26023)  2023-08-22 12:50:34  2023-08-22 12:50:34  \n",
       "3  MA. CAMILA MEJIA (TP 26023)  2023-08-24 08:24:23  2023-08-24 08:24:23  \n",
       "4  MA. CAMILA MEJIA (TP 26023)  2023-08-24 12:20:12  2023-08-24 12:20:12  \n",
       "\n",
       "[5 rows x 22 columns]"
      ]
     },
     "execution_count": 5,
     "metadata": {},
     "output_type": "execute_result"
    }
   ],
   "source": [
    "df.head() # ACCIONES: Columnas a eliminar: alrededor de 50 columnas!\n",
    "# Convertir a datetime: \"Fecha\", \"Fecha nacimiento\", \"Fecha registro\", \"Fecha edición\"\n",
    "# Cambiar nombre de columnas Nombre --> Paciente; Nombre 1 --> Cliente"
   ]
  },
  {
   "cell_type": "code",
   "execution_count": 6,
   "id": "188cae81",
   "metadata": {
    "scrolled": true
   },
   "outputs": [
    {
     "name": "stdout",
     "output_type": "stream",
     "text": [
      "<class 'pandas.core.frame.DataFrame'>\n",
      "RangeIndex: 113 entries, 0 to 112\n",
      "Data columns (total 22 columns):\n",
      " #   Column               Non-Null Count  Dtype  \n",
      "---  ------               --------------  -----  \n",
      " 0   Encargado            3 non-null      object \n",
      " 1   Fecha y hora         113 non-null    object \n",
      " 2   Tipo                 113 non-null    object \n",
      " 3   Estado y asistencia  113 non-null    object \n",
      " 4   Comentarios          0 non-null      float64\n",
      " 5   Cancelado            0 non-null      float64\n",
      " 6   Nombre               112 non-null    object \n",
      " 7   Especie              112 non-null    object \n",
      " 8   Otra especie         2 non-null      object \n",
      " 9   Raza                 112 non-null    object \n",
      " 10  Otra Raza            12 non-null     object \n",
      " 11  Género               112 non-null    object \n",
      " 12  E.Reproductivo       112 non-null    object \n",
      " 13  Fecha nacimiento     112 non-null    object \n",
      " 14  Edad                 112 non-null    object \n",
      " 15  Nombre.1             112 non-null    object \n",
      " 16  Identificación       112 non-null    float64\n",
      " 17  Teléfono             79 non-null     object \n",
      " 18  Dirección            112 non-null    object \n",
      " 19  Autor                113 non-null    object \n",
      " 20  Fecha registro       113 non-null    object \n",
      " 21  Fecha edición        113 non-null    object \n",
      "dtypes: float64(3), object(19)\n",
      "memory usage: 19.6+ KB\n"
     ]
    }
   ],
   "source": [
    "df.info()"
   ]
  },
  {
   "cell_type": "code",
   "execution_count": 7,
   "id": "6a2929c0",
   "metadata": {
    "collapsed": true
   },
   "outputs": [
    {
     "data": {
      "text/plain": [
       "Encargado              110\n",
       "Fecha y hora             0\n",
       "Tipo                     0\n",
       "Estado y asistencia      0\n",
       "Comentarios            113\n",
       "Cancelado              113\n",
       "Nombre                   1\n",
       "Especie                  1\n",
       "Otra especie           111\n",
       "Raza                     1\n",
       "Otra Raza              101\n",
       "Género                   1\n",
       "E.Reproductivo           1\n",
       "Fecha nacimiento         1\n",
       "Edad                     1\n",
       "Nombre.1                 1\n",
       "Identificación           1\n",
       "Teléfono                34\n",
       "Dirección                1\n",
       "Autor                    0\n",
       "Fecha registro           0\n",
       "Fecha edición            0\n",
       "dtype: int64"
      ]
     },
     "execution_count": 7,
     "metadata": {},
     "output_type": "execute_result"
    }
   ],
   "source": [
    "df.isna().sum()"
   ]
  },
  {
   "cell_type": "code",
   "execution_count": 8,
   "id": "cdd3776f",
   "metadata": {
    "collapsed": true
   },
   "outputs": [
    {
     "data": {
      "text/plain": [
       "Encargado                1\n",
       "Fecha y hora            82\n",
       "Tipo                     5\n",
       "Estado y asistencia      2\n",
       "Comentarios              0\n",
       "Cancelado                0\n",
       "Nombre                  83\n",
       "Especie                  2\n",
       "Otra especie             2\n",
       "Raza                    29\n",
       "Otra Raza                7\n",
       "Género                   2\n",
       "E.Reproductivo           2\n",
       "Fecha nacimiento        78\n",
       "Edad                    78\n",
       "Nombre.1                66\n",
       "Identificación          66\n",
       "Teléfono                48\n",
       "Dirección               66\n",
       "Autor                    8\n",
       "Fecha registro         113\n",
       "Fecha edición          113\n",
       "dtype: int64"
      ]
     },
     "execution_count": 8,
     "metadata": {},
     "output_type": "execute_result"
    }
   ],
   "source": [
    "df.nunique()"
   ]
  },
  {
   "cell_type": "code",
   "execution_count": 9,
   "id": "651ac3a6",
   "metadata": {},
   "outputs": [
    {
     "data": {
      "text/plain": [
       "0"
      ]
     },
     "execution_count": 9,
     "metadata": {},
     "output_type": "execute_result"
    }
   ],
   "source": [
    "df.duplicated().sum()"
   ]
  },
  {
   "cell_type": "code",
   "execution_count": 13,
   "id": "3460f984",
   "metadata": {
    "collapsed": true
   },
   "outputs": [
    {
     "data": {
      "text/plain": [
       "Tipo\n",
       "Vacunación                65\n",
       "Consulta general          27\n",
       "Desparasitación           17\n",
       "Examen de laboratorio      3\n",
       "Consulta especializada     1\n",
       "Name: count, dtype: int64"
      ]
     },
     "execution_count": 13,
     "metadata": {},
     "output_type": "execute_result"
    }
   ],
   "source": [
    "df.Tipo.value_counts()"
   ]
  },
  {
   "cell_type": "code",
   "execution_count": 14,
   "id": "95e5543d",
   "metadata": {
    "collapsed": true
   },
   "outputs": [
    {
     "data": {
      "text/plain": [
       "Especie\n",
       "Canino    75\n",
       "Felino    37\n",
       "Name: count, dtype: int64"
      ]
     },
     "execution_count": 14,
     "metadata": {},
     "output_type": "execute_result"
    }
   ],
   "source": [
    "df.Especie.value_counts()"
   ]
  },
  {
   "cell_type": "code",
   "execution_count": 15,
   "id": "8a7ce18f",
   "metadata": {
    "collapsed": true
   },
   "outputs": [
    {
     "data": {
      "text/plain": [
       "Autor\n",
       "Paula  Andrea Bernal Yepes         44\n",
       "valentina Velasquez Beltran        27\n",
       "EN CASA SERVICIOS PARA MASCOTAS    15\n",
       "Carolina Velasquez                 11\n",
       "Mariana Serna Pinilla              10\n",
       "MA. CAMILA MEJIA (TP 26023)         3\n",
       "Eliana Andrea  Varela Rodríguez     2\n",
       "Daniela Bedoya Cardona              1\n",
       "Name: count, dtype: int64"
      ]
     },
     "execution_count": 15,
     "metadata": {},
     "output_type": "execute_result"
    }
   ],
   "source": [
    "df.Autor.value_counts()"
   ]
  },
  {
   "cell_type": "code",
   "execution_count": 18,
   "id": "79a33110",
   "metadata": {},
   "outputs": [],
   "source": [
    "df.drop(columns = [\"Encargado\", \"Comentarios\", \"Cancelado\", \"Otra especie\", \"Otra Raza\",  \"Teléfono\" , \"Dirección\"]  , inplace = True)"
   ]
  },
  {
   "cell_type": "code",
   "execution_count": 19,
   "id": "02ac577c",
   "metadata": {
    "scrolled": true
   },
   "outputs": [
    {
     "name": "stdout",
     "output_type": "stream",
     "text": [
      "<class 'pandas.core.frame.DataFrame'>\n",
      "RangeIndex: 113 entries, 0 to 112\n",
      "Data columns (total 15 columns):\n",
      " #   Column               Non-Null Count  Dtype  \n",
      "---  ------               --------------  -----  \n",
      " 0   Fecha y hora         113 non-null    object \n",
      " 1   Tipo                 113 non-null    object \n",
      " 2   Estado y asistencia  113 non-null    object \n",
      " 3   Nombre               112 non-null    object \n",
      " 4   Especie              112 non-null    object \n",
      " 5   Raza                 112 non-null    object \n",
      " 6   Género               112 non-null    object \n",
      " 7   E.Reproductivo       112 non-null    object \n",
      " 8   Fecha nacimiento     112 non-null    object \n",
      " 9   Edad                 112 non-null    object \n",
      " 10  Nombre.1             112 non-null    object \n",
      " 11  Identificación       112 non-null    float64\n",
      " 12  Autor                113 non-null    object \n",
      " 13  Fecha registro       113 non-null    object \n",
      " 14  Fecha edición        113 non-null    object \n",
      "dtypes: float64(1), object(14)\n",
      "memory usage: 13.4+ KB\n"
     ]
    }
   ],
   "source": [
    "df.info()"
   ]
  },
  {
   "cell_type": "code",
   "execution_count": 20,
   "id": "d9afc096",
   "metadata": {},
   "outputs": [],
   "source": [
    "df.rename(columns = {\"Nombre\": \"Paciente\"} , inplace = True)"
   ]
  },
  {
   "cell_type": "code",
   "execution_count": 21,
   "id": "4e80d404",
   "metadata": {},
   "outputs": [],
   "source": [
    "df.rename(columns = {\"Nombre.1\": \"Cliente\"} , inplace = True)"
   ]
  },
  {
   "cell_type": "code",
   "execution_count": 23,
   "id": "1259b8ae",
   "metadata": {},
   "outputs": [],
   "source": [
    "df[\"Fecha y hora\"] = pd.to_datetime(df[\"Fecha y hora\"])"
   ]
  },
  {
   "cell_type": "code",
   "execution_count": 24,
   "id": "c2145fbc",
   "metadata": {},
   "outputs": [],
   "source": [
    "df[\"Fecha nacimiento\"] = pd.to_datetime(df[\"Fecha nacimiento\"])"
   ]
  },
  {
   "cell_type": "code",
   "execution_count": 25,
   "id": "bf902e8d",
   "metadata": {},
   "outputs": [],
   "source": [
    "df[\"Fecha registro\"] = pd.to_datetime(df[\"Fecha registro\"])"
   ]
  },
  {
   "cell_type": "code",
   "execution_count": 26,
   "id": "b499e8ac",
   "metadata": {},
   "outputs": [],
   "source": [
    "df[\"Fecha edición\"] = pd.to_datetime(df[\"Fecha edición\"])"
   ]
  },
  {
   "cell_type": "code",
   "execution_count": 27,
   "id": "5946b5ed",
   "metadata": {},
   "outputs": [
    {
     "data": {
      "text/plain": [
       "Fecha y hora           datetime64[ns]\n",
       "Tipo                           object\n",
       "Estado y asistencia            object\n",
       "Paciente                       object\n",
       "Especie                        object\n",
       "Raza                           object\n",
       "Género                         object\n",
       "E.Reproductivo                 object\n",
       "Fecha nacimiento       datetime64[ns]\n",
       "Edad                           object\n",
       "Cliente                        object\n",
       "Identificación                float64\n",
       "Autor                          object\n",
       "Fecha registro         datetime64[ns]\n",
       "Fecha edición          datetime64[ns]\n",
       "dtype: object"
      ]
     },
     "execution_count": 27,
     "metadata": {},
     "output_type": "execute_result"
    }
   ],
   "source": [
    "df.dtypes"
   ]
  },
  {
   "cell_type": "code",
   "execution_count": 29,
   "id": "36c21240",
   "metadata": {},
   "outputs": [],
   "source": [
    "df.dropna(subset = \"Identificación\", inplace = True)"
   ]
  },
  {
   "cell_type": "code",
   "execution_count": 30,
   "id": "ec87294c",
   "metadata": {},
   "outputs": [],
   "source": [
    "df[\"Identificación\"] = df[\"Identificación\"].astype(int)"
   ]
  },
  {
   "cell_type": "code",
   "execution_count": 31,
   "id": "412fc579",
   "metadata": {},
   "outputs": [
    {
     "data": {
      "text/plain": [
       "Fecha y hora           datetime64[ns]\n",
       "Tipo                           object\n",
       "Estado y asistencia            object\n",
       "Paciente                       object\n",
       "Especie                        object\n",
       "Raza                           object\n",
       "Género                         object\n",
       "E.Reproductivo                 object\n",
       "Fecha nacimiento       datetime64[ns]\n",
       "Edad                           object\n",
       "Cliente                        object\n",
       "Identificación                  int64\n",
       "Autor                          object\n",
       "Fecha registro         datetime64[ns]\n",
       "Fecha edición          datetime64[ns]\n",
       "dtype: object"
      ]
     },
     "execution_count": 31,
     "metadata": {},
     "output_type": "execute_result"
    }
   ],
   "source": [
    "df.dtypes"
   ]
  },
  {
   "cell_type": "code",
   "execution_count": 32,
   "id": "d9db4853",
   "metadata": {},
   "outputs": [
    {
     "name": "stdout",
     "output_type": "stream",
     "text": [
      "<class 'pandas.core.frame.DataFrame'>\n",
      "Index: 112 entries, 0 to 112\n",
      "Data columns (total 15 columns):\n",
      " #   Column               Non-Null Count  Dtype         \n",
      "---  ------               --------------  -----         \n",
      " 0   Fecha y hora         112 non-null    datetime64[ns]\n",
      " 1   Tipo                 112 non-null    object        \n",
      " 2   Estado y asistencia  112 non-null    object        \n",
      " 3   Paciente             112 non-null    object        \n",
      " 4   Especie              112 non-null    object        \n",
      " 5   Raza                 112 non-null    object        \n",
      " 6   Género               112 non-null    object        \n",
      " 7   E.Reproductivo       112 non-null    object        \n",
      " 8   Fecha nacimiento     112 non-null    datetime64[ns]\n",
      " 9   Edad                 112 non-null    object        \n",
      " 10  Cliente              112 non-null    object        \n",
      " 11  Identificación       112 non-null    int64         \n",
      " 12  Autor                112 non-null    object        \n",
      " 13  Fecha registro       112 non-null    datetime64[ns]\n",
      " 14  Fecha edición        112 non-null    datetime64[ns]\n",
      "dtypes: datetime64[ns](4), int64(1), object(10)\n",
      "memory usage: 14.0+ KB\n"
     ]
    }
   ],
   "source": [
    "df.info()"
   ]
  },
  {
   "cell_type": "code",
   "execution_count": null,
   "id": "a98024ad",
   "metadata": {},
   "outputs": [],
   "source": []
  },
  {
   "cell_type": "code",
   "execution_count": 33,
   "id": "559667b7",
   "metadata": {},
   "outputs": [],
   "source": [
    "# df.to_excel(\"/Users/karollvivianalopezvillegas/GitHub/OKVET_DA_Final_project/04_Datasets_final/df_OKVET_Citas.xlsx\", index = False)"
   ]
  },
  {
   "cell_type": "code",
   "execution_count": null,
   "id": "5f25ac64",
   "metadata": {},
   "outputs": [],
   "source": []
  }
 ],
 "metadata": {
  "kernelspec": {
   "display_name": "Python 3 (ipykernel)",
   "language": "python",
   "name": "python3"
  },
  "language_info": {
   "codemirror_mode": {
    "name": "ipython",
    "version": 3
   },
   "file_extension": ".py",
   "mimetype": "text/x-python",
   "name": "python",
   "nbconvert_exporter": "python",
   "pygments_lexer": "ipython3",
   "version": "3.11.7"
  }
 },
 "nbformat": 4,
 "nbformat_minor": 5
}
