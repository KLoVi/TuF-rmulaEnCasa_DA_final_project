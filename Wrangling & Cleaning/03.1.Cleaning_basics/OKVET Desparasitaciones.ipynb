{
 "cells": [
  {
   "cell_type": "code",
   "execution_count": 1,
   "id": "186c404c",
   "metadata": {},
   "outputs": [],
   "source": [
    "import pandas as pd\n",
    "import numpy as np"
   ]
  },
  {
   "cell_type": "code",
   "execution_count": 2,
   "id": "583aa6be",
   "metadata": {},
   "outputs": [],
   "source": [
    "url = \"/Users/karollvivianalopezvillegas/GitHub/OKVET_DA_Final_project/02_Datasets_pre_cleaning/OKVET Desparasitaciones.xlsx\""
   ]
  },
  {
   "cell_type": "code",
   "execution_count": 3,
   "id": "90c2a739",
   "metadata": {},
   "outputs": [],
   "source": [
    "df = pd.read_excel(url)"
   ]
  },
  {
   "cell_type": "code",
   "execution_count": 4,
   "id": "e94e7471",
   "metadata": {
    "scrolled": true
   },
   "outputs": [
    {
     "data": {
      "text/plain": [
       "(39, 23)"
      ]
     },
     "execution_count": 4,
     "metadata": {},
     "output_type": "execute_result"
    }
   ],
   "source": [
    "df.shape"
   ]
  },
  {
   "cell_type": "code",
   "execution_count": 5,
   "id": "49c430d1",
   "metadata": {},
   "outputs": [
    {
     "data": {
      "text/html": [
       "<div>\n",
       "<style scoped>\n",
       "    .dataframe tbody tr th:only-of-type {\n",
       "        vertical-align: middle;\n",
       "    }\n",
       "\n",
       "    .dataframe tbody tr th {\n",
       "        vertical-align: top;\n",
       "    }\n",
       "\n",
       "    .dataframe thead th {\n",
       "        text-align: right;\n",
       "    }\n",
       "</style>\n",
       "<table border=\"1\" class=\"dataframe\">\n",
       "  <thead>\n",
       "    <tr style=\"text-align: right;\">\n",
       "      <th></th>\n",
       "      <th>Fecha desparasitación</th>\n",
       "      <th>Producto</th>\n",
       "      <th>Dosis</th>\n",
       "      <th>Última desparasitación</th>\n",
       "      <th>Próximo control</th>\n",
       "      <th>Adjunto</th>\n",
       "      <th>Observaciones</th>\n",
       "      <th>Nombre</th>\n",
       "      <th>Especie</th>\n",
       "      <th>Otra especie</th>\n",
       "      <th>...</th>\n",
       "      <th>E.Reproductivo</th>\n",
       "      <th>Fecha nacimiento</th>\n",
       "      <th>Edad</th>\n",
       "      <th>Nombre.1</th>\n",
       "      <th>Identificación</th>\n",
       "      <th>Teléfono</th>\n",
       "      <th>Dirección</th>\n",
       "      <th>Autor</th>\n",
       "      <th>Fecha registro</th>\n",
       "      <th>Fecha edición</th>\n",
       "    </tr>\n",
       "  </thead>\n",
       "  <tbody>\n",
       "    <tr>\n",
       "      <th>0</th>\n",
       "      <td>2023-06-05</td>\n",
       "      <td>Levocan</td>\n",
       "      <td>2ml</td>\n",
       "      <td>NaN</td>\n",
       "      <td>NaN</td>\n",
       "      <td>-</td>\n",
       "      <td>NaN</td>\n",
       "      <td>Andy</td>\n",
       "      <td>Canino</td>\n",
       "      <td>NaN</td>\n",
       "      <td>...</td>\n",
       "      <td>No esterilizado</td>\n",
       "      <td>2022-08-02</td>\n",
       "      <td>2 años, 0 meses y 0 días</td>\n",
       "      <td>Vanessa Uran</td>\n",
       "      <td>1036670750</td>\n",
       "      <td>3218768118</td>\n",
       "      <td>Cra50a#46-25</td>\n",
       "      <td>Carolina Velasquez</td>\n",
       "      <td>2024-06-05 10:56:07</td>\n",
       "      <td>2024-06-05 10:56:07</td>\n",
       "    </tr>\n",
       "    <tr>\n",
       "      <th>1</th>\n",
       "      <td>2023-06-15</td>\n",
       "      <td>Bravecto</td>\n",
       "      <td>30 kg</td>\n",
       "      <td>NaN</td>\n",
       "      <td>NaN</td>\n",
       "      <td>-</td>\n",
       "      <td>NaN</td>\n",
       "      <td>Delta</td>\n",
       "      <td>Canino</td>\n",
       "      <td>NaN</td>\n",
       "      <td>...</td>\n",
       "      <td>Esterilizado</td>\n",
       "      <td>2021-03-07</td>\n",
       "      <td>3 años, 4 meses y 26 días</td>\n",
       "      <td>Valentina carretero</td>\n",
       "      <td>1152455509</td>\n",
       "      <td>573023736769</td>\n",
       "      <td>calle 32AA#69-88 piso 1</td>\n",
       "      <td>valentina Velasquez Beltran</td>\n",
       "      <td>2023-09-15 12:41:43</td>\n",
       "      <td>2023-09-15 12:42:08</td>\n",
       "    </tr>\n",
       "    <tr>\n",
       "      <th>2</th>\n",
       "      <td>2023-08-24</td>\n",
       "      <td>Panacur</td>\n",
       "      <td>50 mg/kg</td>\n",
       "      <td>NaN</td>\n",
       "      <td>2023-11-01</td>\n",
       "      <td>-</td>\n",
       "      <td>NaN</td>\n",
       "      <td>Olivia</td>\n",
       "      <td>Canino</td>\n",
       "      <td>NaN</td>\n",
       "      <td>...</td>\n",
       "      <td>No esterilizado</td>\n",
       "      <td>2021-01-01</td>\n",
       "      <td>3 años, 7 meses y 1 días</td>\n",
       "      <td>Natalia Santos</td>\n",
       "      <td>****9196</td>\n",
       "      <td>****1574</td>\n",
       "      <td>****llin</td>\n",
       "      <td>valentina Velasquez Beltran</td>\n",
       "      <td>2023-08-30 04:37:09</td>\n",
       "      <td>2023-08-30 04:37:09</td>\n",
       "    </tr>\n",
       "    <tr>\n",
       "      <th>3</th>\n",
       "      <td>2023-08-30</td>\n",
       "      <td>Panacur</td>\n",
       "      <td>50 mg/kg por 5 días 3 ciclos</td>\n",
       "      <td>2023-06-05</td>\n",
       "      <td>NaN</td>\n",
       "      <td>C788146E-0E4A-452E-ADB3-79169E534D09.jpeg</td>\n",
       "      <td>Giardia</td>\n",
       "      <td>Lourdes</td>\n",
       "      <td>Canino</td>\n",
       "      <td>NaN</td>\n",
       "      <td>...</td>\n",
       "      <td>No esterilizado</td>\n",
       "      <td>2021-01-01</td>\n",
       "      <td>3 años, 7 meses y 1 días</td>\n",
       "      <td>Natalia Santos</td>\n",
       "      <td>****9196</td>\n",
       "      <td>****1574</td>\n",
       "      <td>****llin</td>\n",
       "      <td>valentina Velasquez Beltran</td>\n",
       "      <td>2023-08-30 04:30:56</td>\n",
       "      <td>2023-08-30 04:30:56</td>\n",
       "    </tr>\n",
       "    <tr>\n",
       "      <th>4</th>\n",
       "      <td>2023-09-04</td>\n",
       "      <td>Total f lc</td>\n",
       "      <td>1 ml /kg</td>\n",
       "      <td>2023-08-19</td>\n",
       "      <td>NaN</td>\n",
       "      <td>IMG_1070.jpeg</td>\n",
       "      <td>Desparasitacion cada 15 días hasta 3 meses \\n ...</td>\n",
       "      <td>Nutellla</td>\n",
       "      <td>Canino</td>\n",
       "      <td>NaN</td>\n",
       "      <td>...</td>\n",
       "      <td>No esterilizado</td>\n",
       "      <td>2023-05-30</td>\n",
       "      <td>1 años, 2 meses y 3 días</td>\n",
       "      <td>Sara Cardona gonzales</td>\n",
       "      <td>1055836105</td>\n",
       "      <td>3007988986</td>\n",
       "      <td>Calle 60 sur 39 - 55</td>\n",
       "      <td>valentina Velasquez Beltran</td>\n",
       "      <td>2023-09-04 15:35:14</td>\n",
       "      <td>2023-09-04 15:35:14</td>\n",
       "    </tr>\n",
       "  </tbody>\n",
       "</table>\n",
       "<p>5 rows × 23 columns</p>\n",
       "</div>"
      ],
      "text/plain": [
       "  Fecha desparasitación    Producto                         Dosis  \\\n",
       "0            2023-06-05     Levocan                           2ml   \n",
       "1            2023-06-15    Bravecto                         30 kg   \n",
       "2            2023-08-24     Panacur                      50 mg/kg   \n",
       "3            2023-08-30     Panacur  50 mg/kg por 5 días 3 ciclos   \n",
       "4            2023-09-04  Total f lc                      1 ml /kg   \n",
       "\n",
       "  Última desparasitación Próximo control  \\\n",
       "0                    NaN             NaN   \n",
       "1                    NaN             NaN   \n",
       "2                    NaN      2023-11-01   \n",
       "3             2023-06-05             NaN   \n",
       "4             2023-08-19             NaN   \n",
       "\n",
       "                                     Adjunto  \\\n",
       "0                                          -   \n",
       "1                                          -   \n",
       "2                                          -   \n",
       "3  C788146E-0E4A-452E-ADB3-79169E534D09.jpeg   \n",
       "4                              IMG_1070.jpeg   \n",
       "\n",
       "                                       Observaciones    Nombre Especie  \\\n",
       "0                                                NaN      Andy  Canino   \n",
       "1                                                NaN     Delta  Canino   \n",
       "2                                                NaN    Olivia  Canino   \n",
       "3                                            Giardia   Lourdes  Canino   \n",
       "4  Desparasitacion cada 15 días hasta 3 meses \\n ...  Nutellla  Canino   \n",
       "\n",
       "   Otra especie  ...   E.Reproductivo Fecha nacimiento  \\\n",
       "0           NaN  ...  No esterilizado       2022-08-02   \n",
       "1           NaN  ...     Esterilizado       2021-03-07   \n",
       "2           NaN  ...  No esterilizado       2021-01-01   \n",
       "3           NaN  ...  No esterilizado       2021-01-01   \n",
       "4           NaN  ...  No esterilizado       2023-05-30   \n",
       "\n",
       "                        Edad               Nombre.1 Identificación  \\\n",
       "0   2 años, 0 meses y 0 días           Vanessa Uran     1036670750   \n",
       "1  3 años, 4 meses y 26 días    Valentina carretero     1152455509   \n",
       "2   3 años, 7 meses y 1 días         Natalia Santos       ****9196   \n",
       "3   3 años, 7 meses y 1 días         Natalia Santos       ****9196   \n",
       "4   1 años, 2 meses y 3 días  Sara Cardona gonzales     1055836105   \n",
       "\n",
       "       Teléfono                Dirección                        Autor  \\\n",
       "0    3218768118             Cra50a#46-25           Carolina Velasquez   \n",
       "1  573023736769  calle 32AA#69-88 piso 1  valentina Velasquez Beltran   \n",
       "2      ****1574                 ****llin  valentina Velasquez Beltran   \n",
       "3      ****1574                 ****llin  valentina Velasquez Beltran   \n",
       "4    3007988986     Calle 60 sur 39 - 55  valentina Velasquez Beltran   \n",
       "\n",
       "        Fecha registro        Fecha edición  \n",
       "0  2024-06-05 10:56:07  2024-06-05 10:56:07  \n",
       "1  2023-09-15 12:41:43  2023-09-15 12:42:08  \n",
       "2  2023-08-30 04:37:09  2023-08-30 04:37:09  \n",
       "3  2023-08-30 04:30:56  2023-08-30 04:30:56  \n",
       "4  2023-09-04 15:35:14  2023-09-04 15:35:14  \n",
       "\n",
       "[5 rows x 23 columns]"
      ]
     },
     "execution_count": 5,
     "metadata": {},
     "output_type": "execute_result"
    }
   ],
   "source": [
    "df.head() # ACCIONES: Eliminar columnas\n",
    "# Convertir a datetime: \"Fecha\", \"Fecha nacimiento\", \"Fecha registro\", \"Fecha edición\"\n",
    "# Cambiar nombre de columnas Nombre --> Paciente; Nombre 1 --> Cliente"
   ]
  },
  {
   "cell_type": "code",
   "execution_count": 6,
   "id": "188cae81",
   "metadata": {
    "scrolled": true
   },
   "outputs": [
    {
     "name": "stdout",
     "output_type": "stream",
     "text": [
      "<class 'pandas.core.frame.DataFrame'>\n",
      "RangeIndex: 39 entries, 0 to 38\n",
      "Data columns (total 23 columns):\n",
      " #   Column                  Non-Null Count  Dtype  \n",
      "---  ------                  --------------  -----  \n",
      " 0   Fecha desparasitación   39 non-null     object \n",
      " 1   Producto                39 non-null     object \n",
      " 2   Dosis                   39 non-null     object \n",
      " 3   Última desparasitación  12 non-null     object \n",
      " 4   Próximo control         21 non-null     object \n",
      " 5   Adjunto                 39 non-null     object \n",
      " 6   Observaciones           11 non-null     object \n",
      " 7   Nombre                  39 non-null     object \n",
      " 8   Especie                 39 non-null     object \n",
      " 9   Otra especie            0 non-null      float64\n",
      " 10  Raza                    39 non-null     object \n",
      " 11  Otra Raza               4 non-null      object \n",
      " 12  Género                  39 non-null     object \n",
      " 13  E.Reproductivo          39 non-null     object \n",
      " 14  Fecha nacimiento        39 non-null     object \n",
      " 15  Edad                    39 non-null     object \n",
      " 16  Nombre.1                39 non-null     object \n",
      " 17  Identificación          39 non-null     object \n",
      " 18  Teléfono                33 non-null     object \n",
      " 19  Dirección               39 non-null     object \n",
      " 20  Autor                   39 non-null     object \n",
      " 21  Fecha registro          39 non-null     object \n",
      " 22  Fecha edición           39 non-null     object \n",
      "dtypes: float64(1), object(22)\n",
      "memory usage: 7.1+ KB\n"
     ]
    }
   ],
   "source": [
    "df.info()"
   ]
  },
  {
   "cell_type": "code",
   "execution_count": 7,
   "id": "6a2929c0",
   "metadata": {},
   "outputs": [
    {
     "data": {
      "text/plain": [
       "Fecha desparasitación      0\n",
       "Producto                   0\n",
       "Dosis                      0\n",
       "Última desparasitación    27\n",
       "Próximo control           18\n",
       "Adjunto                    0\n",
       "Observaciones             28\n",
       "Nombre                     0\n",
       "Especie                    0\n",
       "Otra especie              39\n",
       "Raza                       0\n",
       "Otra Raza                 35\n",
       "Género                     0\n",
       "E.Reproductivo             0\n",
       "Fecha nacimiento           0\n",
       "Edad                       0\n",
       "Nombre.1                   0\n",
       "Identificación             0\n",
       "Teléfono                   6\n",
       "Dirección                  0\n",
       "Autor                      0\n",
       "Fecha registro             0\n",
       "Fecha edición              0\n",
       "dtype: int64"
      ]
     },
     "execution_count": 7,
     "metadata": {},
     "output_type": "execute_result"
    }
   ],
   "source": [
    "df.isna().sum()"
   ]
  },
  {
   "cell_type": "code",
   "execution_count": 8,
   "id": "651ac3a6",
   "metadata": {},
   "outputs": [
    {
     "data": {
      "text/plain": [
       "0"
      ]
     },
     "execution_count": 8,
     "metadata": {},
     "output_type": "execute_result"
    }
   ],
   "source": [
    "df.duplicated().sum()"
   ]
  },
  {
   "cell_type": "code",
   "execution_count": 9,
   "id": "cdd3776f",
   "metadata": {
    "scrolled": false
   },
   "outputs": [
    {
     "data": {
      "text/plain": [
       "Fecha desparasitación     27\n",
       "Producto                  26\n",
       "Dosis                     35\n",
       "Última desparasitación    11\n",
       "Próximo control           16\n",
       "Adjunto                    3\n",
       "Observaciones             11\n",
       "Nombre                    30\n",
       "Especie                    2\n",
       "Otra especie               0\n",
       "Raza                      17\n",
       "Otra Raza                  3\n",
       "Género                     2\n",
       "E.Reproductivo             2\n",
       "Fecha nacimiento          28\n",
       "Edad                      28\n",
       "Nombre.1                  24\n",
       "Identificación            24\n",
       "Teléfono                  21\n",
       "Dirección                 23\n",
       "Autor                      7\n",
       "Fecha registro            39\n",
       "Fecha edición             39\n",
       "dtype: int64"
      ]
     },
     "execution_count": 9,
     "metadata": {},
     "output_type": "execute_result"
    }
   ],
   "source": [
    "df.nunique()"
   ]
  },
  {
   "cell_type": "code",
   "execution_count": 11,
   "id": "95e5543d",
   "metadata": {
    "scrolled": true
   },
   "outputs": [
    {
     "data": {
      "text/plain": [
       "Especie\n",
       "Canino    30\n",
       "Felino     9\n",
       "Name: count, dtype: int64"
      ]
     },
     "execution_count": 11,
     "metadata": {},
     "output_type": "execute_result"
    }
   ],
   "source": [
    "df.Especie.value_counts()"
   ]
  },
  {
   "cell_type": "code",
   "execution_count": 12,
   "id": "8a7ce18f",
   "metadata": {
    "scrolled": false
   },
   "outputs": [
    {
     "data": {
      "text/plain": [
       "Autor\n",
       "valentina Velasquez Beltran        19\n",
       "Mariana Serna Pinilla               6\n",
       "Paula  Andrea Bernal Yepes          4\n",
       "Carolina Velasquez                  3\n",
       "EN CASA SERVICIOS PARA MASCOTAS     3\n",
       "Natalia Ortiz Ríos                  3\n",
       "Daniela Bedoya Cardona              1\n",
       "Name: count, dtype: int64"
      ]
     },
     "execution_count": 12,
     "metadata": {},
     "output_type": "execute_result"
    }
   ],
   "source": [
    "df.Autor.value_counts()"
   ]
  },
  {
   "cell_type": "code",
   "execution_count": 14,
   "id": "79a33110",
   "metadata": {},
   "outputs": [],
   "source": [
    "df.drop(columns = [\"Última desparasitación\", \"Próximo control\", \"Adjunto\" , \"Observaciones\", \"Otra especie\", \"Otra Raza\", \"Teléfono\", \"Dirección\"]  , inplace = True)"
   ]
  },
  {
   "cell_type": "code",
   "execution_count": 15,
   "id": "d9afc096",
   "metadata": {},
   "outputs": [],
   "source": [
    "df.rename(columns = {\"Nombre\": \"Paciente\"} , inplace = True)"
   ]
  },
  {
   "cell_type": "code",
   "execution_count": 16,
   "id": "4e80d404",
   "metadata": {},
   "outputs": [],
   "source": [
    "df.rename(columns = {\"Nombre.1\": \"Cliente\"} , inplace = True)"
   ]
  },
  {
   "cell_type": "code",
   "execution_count": 17,
   "id": "1259b8ae",
   "metadata": {},
   "outputs": [],
   "source": [
    "df[\"Fecha desparasitación\"] = pd.to_datetime(df[\"Fecha desparasitación\"])"
   ]
  },
  {
   "cell_type": "code",
   "execution_count": 18,
   "id": "c2145fbc",
   "metadata": {},
   "outputs": [],
   "source": [
    "df[\"Fecha nacimiento\"] = pd.to_datetime(df[\"Fecha nacimiento\"])"
   ]
  },
  {
   "cell_type": "code",
   "execution_count": 19,
   "id": "bf902e8d",
   "metadata": {},
   "outputs": [],
   "source": [
    "df[\"Fecha registro\"] = pd.to_datetime(df[\"Fecha registro\"])"
   ]
  },
  {
   "cell_type": "code",
   "execution_count": 20,
   "id": "b499e8ac",
   "metadata": {},
   "outputs": [],
   "source": [
    "df[\"Fecha edición\"] = pd.to_datetime(df[\"Fecha edición\"])"
   ]
  },
  {
   "cell_type": "code",
   "execution_count": 21,
   "id": "5946b5ed",
   "metadata": {},
   "outputs": [
    {
     "data": {
      "text/plain": [
       "Fecha desparasitación    datetime64[ns]\n",
       "Producto                         object\n",
       "Dosis                            object\n",
       "Paciente                         object\n",
       "Especie                          object\n",
       "Raza                             object\n",
       "Género                           object\n",
       "E.Reproductivo                   object\n",
       "Fecha nacimiento         datetime64[ns]\n",
       "Edad                             object\n",
       "Cliente                          object\n",
       "Identificación                   object\n",
       "Autor                            object\n",
       "Fecha registro           datetime64[ns]\n",
       "Fecha edición            datetime64[ns]\n",
       "dtype: object"
      ]
     },
     "execution_count": 21,
     "metadata": {},
     "output_type": "execute_result"
    }
   ],
   "source": [
    "df.dtypes"
   ]
  },
  {
   "cell_type": "code",
   "execution_count": null,
   "id": "ec87294c",
   "metadata": {},
   "outputs": [],
   "source": [
    "# df[\"Identificación\"] = df[\"Identificación\"].astype(int); \n",
    "# ValueError: invalid literal for int() with base 10: '****8620'"
   ]
  },
  {
   "cell_type": "code",
   "execution_count": 22,
   "id": "559667b7",
   "metadata": {},
   "outputs": [],
   "source": []
  },
  {
   "cell_type": "code",
   "execution_count": null,
   "id": "5f25ac64",
   "metadata": {},
   "outputs": [],
   "source": []
  }
 ],
 "metadata": {
  "kernelspec": {
   "display_name": "Python 3 (ipykernel)",
   "language": "python",
   "name": "python3"
  },
  "language_info": {
   "codemirror_mode": {
    "name": "ipython",
    "version": 3
   },
   "file_extension": ".py",
   "mimetype": "text/x-python",
   "name": "python",
   "nbconvert_exporter": "python",
   "pygments_lexer": "ipython3",
   "version": "3.11.7"
  }
 },
 "nbformat": 4,
 "nbformat_minor": 5
}
