{
 "cells": [
  {
   "cell_type": "code",
   "execution_count": 5,
   "id": "186c404c",
   "metadata": {},
   "outputs": [],
   "source": [
    "import pandas as pd\n",
    "import numpy as np"
   ]
  },
  {
   "cell_type": "code",
   "execution_count": 7,
   "id": "583aa6be",
   "metadata": {},
   "outputs": [],
   "source": [
    "url = \"/Users/karollvivianalopezvillegas/GitHub/OKVET_DA_Final_project/02_Datasets_pre_cleaning/OKVET Vacunaciones.xlsx\""
   ]
  },
  {
   "cell_type": "code",
   "execution_count": 8,
   "id": "90c2a739",
   "metadata": {},
   "outputs": [],
   "source": [
    "df = pd.read_excel(url)"
   ]
  },
  {
   "cell_type": "code",
   "execution_count": 9,
   "id": "e94e7471",
   "metadata": {
    "scrolled": false
   },
   "outputs": [
    {
     "data": {
      "text/plain": [
       "(127, 22)"
      ]
     },
     "execution_count": 9,
     "metadata": {},
     "output_type": "execute_result"
    }
   ],
   "source": [
    "df.shape"
   ]
  },
  {
   "cell_type": "code",
   "execution_count": 10,
   "id": "49c430d1",
   "metadata": {},
   "outputs": [
    {
     "data": {
      "text/html": [
       "<div>\n",
       "<style scoped>\n",
       "    .dataframe tbody tr th:only-of-type {\n",
       "        vertical-align: middle;\n",
       "    }\n",
       "\n",
       "    .dataframe tbody tr th {\n",
       "        vertical-align: top;\n",
       "    }\n",
       "\n",
       "    .dataframe thead th {\n",
       "        text-align: right;\n",
       "    }\n",
       "</style>\n",
       "<table border=\"1\" class=\"dataframe\">\n",
       "  <thead>\n",
       "    <tr style=\"text-align: right;\">\n",
       "      <th></th>\n",
       "      <th>Fecha vacunación</th>\n",
       "      <th>Vacuna</th>\n",
       "      <th>Laboratorio</th>\n",
       "      <th>Lote</th>\n",
       "      <th>Observaciones</th>\n",
       "      <th>Próxima vacunación</th>\n",
       "      <th>Nombre</th>\n",
       "      <th>Especie</th>\n",
       "      <th>Otra especie</th>\n",
       "      <th>Raza</th>\n",
       "      <th>...</th>\n",
       "      <th>E.Reproductivo</th>\n",
       "      <th>Fecha nacimiento</th>\n",
       "      <th>Edad</th>\n",
       "      <th>Nombre.1</th>\n",
       "      <th>Identificación</th>\n",
       "      <th>Teléfono</th>\n",
       "      <th>Dirección</th>\n",
       "      <th>Autor</th>\n",
       "      <th>Fecha registro</th>\n",
       "      <th>Fecha edición</th>\n",
       "    </tr>\n",
       "  </thead>\n",
       "  <tbody>\n",
       "    <tr>\n",
       "      <th>0</th>\n",
       "      <td>2022-02-18</td>\n",
       "      <td>Nobivac DH2PPi + RL</td>\n",
       "      <td>NaN</td>\n",
       "      <td>NaN</td>\n",
       "      <td>NaN</td>\n",
       "      <td>NaN</td>\n",
       "      <td>Darién rico</td>\n",
       "      <td>Canino</td>\n",
       "      <td>NaN</td>\n",
       "      <td>Bernes de la montaña o Boyero de Berna</td>\n",
       "      <td>...</td>\n",
       "      <td>No esterilizado</td>\n",
       "      <td>2022-09-28</td>\n",
       "      <td>1 años, 10 meses y 5 días</td>\n",
       "      <td>mariana rico ospina</td>\n",
       "      <td>1037667622</td>\n",
       "      <td>3116065251</td>\n",
       "      <td>biocity 1114</td>\n",
       "      <td>valentina Velasquez Beltran</td>\n",
       "      <td>2023-10-18 08:15:36</td>\n",
       "      <td>2023-10-18 08:15:36</td>\n",
       "    </tr>\n",
       "    <tr>\n",
       "      <th>1</th>\n",
       "      <td>2023-03-06</td>\n",
       "      <td>Nobivac DH2PPi + RL</td>\n",
       "      <td>NaN</td>\n",
       "      <td>NaN</td>\n",
       "      <td>NaN</td>\n",
       "      <td>NaN</td>\n",
       "      <td>Mimi</td>\n",
       "      <td>Canino</td>\n",
       "      <td>NaN</td>\n",
       "      <td>Pomerania</td>\n",
       "      <td>...</td>\n",
       "      <td>No esterilizado</td>\n",
       "      <td>2019-02-18</td>\n",
       "      <td>5 años, 5 meses y 15 días</td>\n",
       "      <td>Melynna Tabares</td>\n",
       "      <td>1017177718</td>\n",
       "      <td>3158019954</td>\n",
       "      <td>reserva santa catalina casa 105</td>\n",
       "      <td>valentina Velasquez Beltran</td>\n",
       "      <td>2023-09-18 07:06:15</td>\n",
       "      <td>2023-09-18 07:06:15</td>\n",
       "    </tr>\n",
       "    <tr>\n",
       "      <th>2</th>\n",
       "      <td>2023-03-06</td>\n",
       "      <td>Nobivac KC</td>\n",
       "      <td>NaN</td>\n",
       "      <td>NaN</td>\n",
       "      <td>NaN</td>\n",
       "      <td>NaN</td>\n",
       "      <td>Mimi</td>\n",
       "      <td>Canino</td>\n",
       "      <td>NaN</td>\n",
       "      <td>Pomerania</td>\n",
       "      <td>...</td>\n",
       "      <td>No esterilizado</td>\n",
       "      <td>2019-02-18</td>\n",
       "      <td>5 años, 5 meses y 15 días</td>\n",
       "      <td>Melynna Tabares</td>\n",
       "      <td>1017177718</td>\n",
       "      <td>3158019954</td>\n",
       "      <td>reserva santa catalina casa 105</td>\n",
       "      <td>valentina Velasquez Beltran</td>\n",
       "      <td>2023-09-18 07:06:34</td>\n",
       "      <td>2023-09-18 07:06:34</td>\n",
       "    </tr>\n",
       "    <tr>\n",
       "      <th>3</th>\n",
       "      <td>2023-05-23</td>\n",
       "      <td>Nobivac DH2PPi + RL</td>\n",
       "      <td>NaN</td>\n",
       "      <td>NaN</td>\n",
       "      <td>Más kc</td>\n",
       "      <td>NaN</td>\n",
       "      <td>Leo</td>\n",
       "      <td>Canino</td>\n",
       "      <td>NaN</td>\n",
       "      <td>Pomsky</td>\n",
       "      <td>...</td>\n",
       "      <td>No esterilizado</td>\n",
       "      <td>2021-01-04</td>\n",
       "      <td>3 años, 6 meses y 29 días</td>\n",
       "      <td>Ana Maria Holguin</td>\n",
       "      <td>42798157</td>\n",
       "      <td>NaN</td>\n",
       "      <td>Carrera 38 # 7 A Sur 83 apto 401</td>\n",
       "      <td>valentina Velasquez Beltran</td>\n",
       "      <td>2023-09-04 09:37:12</td>\n",
       "      <td>2023-09-04 09:37:12</td>\n",
       "    </tr>\n",
       "    <tr>\n",
       "      <th>4</th>\n",
       "      <td>2023-06-24</td>\n",
       "      <td>Feligen CRP</td>\n",
       "      <td>VIRBAC</td>\n",
       "      <td>8WBA</td>\n",
       "      <td>NaN</td>\n",
       "      <td>NaN</td>\n",
       "      <td>KIWI</td>\n",
       "      <td>Felino</td>\n",
       "      <td>NaN</td>\n",
       "      <td>Criollo(a)</td>\n",
       "      <td>...</td>\n",
       "      <td>Esterilizado</td>\n",
       "      <td>2023-03-15</td>\n",
       "      <td>1 años, 4 meses y 18 días</td>\n",
       "      <td>TATIANA BALBUENA</td>\n",
       "      <td>1152455677</td>\n",
       "      <td>3002244620</td>\n",
       "      <td>calle 24 # 79A -134 belen</td>\n",
       "      <td>Carolina Velasquez</td>\n",
       "      <td>2023-09-21 12:23:38</td>\n",
       "      <td>2023-09-21 12:23:38</td>\n",
       "    </tr>\n",
       "  </tbody>\n",
       "</table>\n",
       "<p>5 rows × 22 columns</p>\n",
       "</div>"
      ],
      "text/plain": [
       "  Fecha vacunación               Vacuna Laboratorio  Lote Observaciones  \\\n",
       "0       2022-02-18  Nobivac DH2PPi + RL         NaN   NaN           NaN   \n",
       "1       2023-03-06  Nobivac DH2PPi + RL         NaN   NaN           NaN   \n",
       "2       2023-03-06           Nobivac KC         NaN   NaN           NaN   \n",
       "3       2023-05-23  Nobivac DH2PPi + RL         NaN   NaN        Más kc   \n",
       "4       2023-06-24          Feligen CRP      VIRBAC  8WBA           NaN   \n",
       "\n",
       "  Próxima vacunación       Nombre Especie Otra especie  \\\n",
       "0                NaN  Darién rico  Canino          NaN   \n",
       "1                NaN         Mimi  Canino          NaN   \n",
       "2                NaN         Mimi  Canino          NaN   \n",
       "3                NaN          Leo  Canino          NaN   \n",
       "4                NaN         KIWI  Felino          NaN   \n",
       "\n",
       "                                     Raza  ...   E.Reproductivo  \\\n",
       "0  Bernes de la montaña o Boyero de Berna  ...  No esterilizado   \n",
       "1                               Pomerania  ...  No esterilizado   \n",
       "2                               Pomerania  ...  No esterilizado   \n",
       "3                                  Pomsky  ...  No esterilizado   \n",
       "4                              Criollo(a)  ...     Esterilizado   \n",
       "\n",
       "  Fecha nacimiento                       Edad             Nombre.1  \\\n",
       "0       2022-09-28  1 años, 10 meses y 5 días  mariana rico ospina   \n",
       "1       2019-02-18  5 años, 5 meses y 15 días      Melynna Tabares   \n",
       "2       2019-02-18  5 años, 5 meses y 15 días      Melynna Tabares   \n",
       "3       2021-01-04  3 años, 6 meses y 29 días    Ana Maria Holguin   \n",
       "4       2023-03-15  1 años, 4 meses y 18 días     TATIANA BALBUENA   \n",
       "\n",
       "  Identificación    Teléfono                         Dirección  \\\n",
       "0     1037667622  3116065251                      biocity 1114   \n",
       "1     1017177718  3158019954   reserva santa catalina casa 105   \n",
       "2     1017177718  3158019954   reserva santa catalina casa 105   \n",
       "3       42798157         NaN  Carrera 38 # 7 A Sur 83 apto 401   \n",
       "4     1152455677  3002244620         calle 24 # 79A -134 belen   \n",
       "\n",
       "                         Autor       Fecha registro        Fecha edición  \n",
       "0  valentina Velasquez Beltran  2023-10-18 08:15:36  2023-10-18 08:15:36  \n",
       "1  valentina Velasquez Beltran  2023-09-18 07:06:15  2023-09-18 07:06:15  \n",
       "2  valentina Velasquez Beltran  2023-09-18 07:06:34  2023-09-18 07:06:34  \n",
       "3  valentina Velasquez Beltran  2023-09-04 09:37:12  2023-09-04 09:37:12  \n",
       "4           Carolina Velasquez  2023-09-21 12:23:38  2023-09-21 12:23:38  \n",
       "\n",
       "[5 rows x 22 columns]"
      ]
     },
     "execution_count": 10,
     "metadata": {},
     "output_type": "execute_result"
    }
   ],
   "source": [
    "df.head() # ACCIONES: Eliminar columnas\n",
    "# Convertir a datetime: \"Fecha\", \"Fecha nacimiento\", \"Fecha registro\", \"Fecha edición\"\n",
    "# Cambiar nombre de columnas Nombre --> Paciente; Nombre 1 --> Cliente"
   ]
  },
  {
   "cell_type": "code",
   "execution_count": 11,
   "id": "188cae81",
   "metadata": {
    "scrolled": true
   },
   "outputs": [
    {
     "name": "stdout",
     "output_type": "stream",
     "text": [
      "<class 'pandas.core.frame.DataFrame'>\n",
      "RangeIndex: 127 entries, 0 to 126\n",
      "Data columns (total 22 columns):\n",
      " #   Column              Non-Null Count  Dtype \n",
      "---  ------              --------------  ----- \n",
      " 0   Fecha vacunación    127 non-null    object\n",
      " 1   Vacuna              127 non-null    object\n",
      " 2   Laboratorio         81 non-null     object\n",
      " 3   Lote                23 non-null     object\n",
      " 4   Observaciones       79 non-null     object\n",
      " 5   Próxima vacunación  79 non-null     object\n",
      " 6   Nombre              127 non-null    object\n",
      " 7   Especie             127 non-null    object\n",
      " 8   Otra especie        4 non-null      object\n",
      " 9   Raza                127 non-null    object\n",
      " 10  Otra Raza           12 non-null     object\n",
      " 11  Género              127 non-null    object\n",
      " 12  E.Reproductivo      127 non-null    object\n",
      " 13  Fecha nacimiento    127 non-null    object\n",
      " 14  Edad                127 non-null    object\n",
      " 15  Nombre.1            127 non-null    object\n",
      " 16  Identificación      127 non-null    object\n",
      " 17  Teléfono            85 non-null     object\n",
      " 18  Dirección           127 non-null    object\n",
      " 19  Autor               127 non-null    object\n",
      " 20  Fecha registro      127 non-null    object\n",
      " 21  Fecha edición       127 non-null    object\n",
      "dtypes: object(22)\n",
      "memory usage: 22.0+ KB\n"
     ]
    }
   ],
   "source": [
    "df.info()"
   ]
  },
  {
   "cell_type": "code",
   "execution_count": 12,
   "id": "6a2929c0",
   "metadata": {},
   "outputs": [
    {
     "data": {
      "text/plain": [
       "Fecha vacunación        0\n",
       "Vacuna                  0\n",
       "Laboratorio            46\n",
       "Lote                  104\n",
       "Observaciones          48\n",
       "Próxima vacunación     48\n",
       "Nombre                  0\n",
       "Especie                 0\n",
       "Otra especie          123\n",
       "Raza                    0\n",
       "Otra Raza             115\n",
       "Género                  0\n",
       "E.Reproductivo          0\n",
       "Fecha nacimiento        0\n",
       "Edad                    0\n",
       "Nombre.1                0\n",
       "Identificación          0\n",
       "Teléfono               42\n",
       "Dirección               0\n",
       "Autor                   0\n",
       "Fecha registro          0\n",
       "Fecha edición           0\n",
       "dtype: int64"
      ]
     },
     "execution_count": 12,
     "metadata": {},
     "output_type": "execute_result"
    }
   ],
   "source": [
    "df.isna().sum()"
   ]
  },
  {
   "cell_type": "code",
   "execution_count": 14,
   "id": "651ac3a6",
   "metadata": {},
   "outputs": [
    {
     "data": {
      "text/plain": [
       "0"
      ]
     },
     "execution_count": 14,
     "metadata": {},
     "output_type": "execute_result"
    }
   ],
   "source": [
    "df.duplicated().sum()"
   ]
  },
  {
   "cell_type": "code",
   "execution_count": 13,
   "id": "cdd3776f",
   "metadata": {
    "scrolled": false
   },
   "outputs": [
    {
     "data": {
      "text/plain": [
       "Fecha vacunación       75\n",
       "Vacuna                  9\n",
       "Laboratorio            17\n",
       "Lote                   17\n",
       "Observaciones          69\n",
       "Próxima vacunación     49\n",
       "Nombre                 99\n",
       "Especie                 2\n",
       "Otra especie            3\n",
       "Raza                   29\n",
       "Otra Raza               5\n",
       "Género                  2\n",
       "E.Reproductivo          3\n",
       "Fecha nacimiento       96\n",
       "Edad                   96\n",
       "Nombre.1               75\n",
       "Identificación         75\n",
       "Teléfono               51\n",
       "Dirección              75\n",
       "Autor                   8\n",
       "Fecha registro        127\n",
       "Fecha edición         127\n",
       "dtype: int64"
      ]
     },
     "execution_count": 13,
     "metadata": {},
     "output_type": "execute_result"
    }
   ],
   "source": [
    "df.nunique()"
   ]
  },
  {
   "cell_type": "code",
   "execution_count": 29,
   "id": "427c205a",
   "metadata": {
    "scrolled": true
   },
   "outputs": [
    {
     "data": {
      "text/plain": [
       "Vacuna\n",
       "Nobivac DH2PPi + RL    53\n",
       "Feligen CRP            26\n",
       "Nobivac KC             15\n",
       "Feligen CRP + R        15\n",
       "Nobivac DH2PPi + L      5\n",
       "Leucogen                5\n",
       "Nobivac DH2PPi          4\n",
       "Nobivac Tricat          3\n",
       "RABIA                   1\n",
       "Name: count, dtype: int64"
      ]
     },
     "execution_count": 29,
     "metadata": {},
     "output_type": "execute_result"
    }
   ],
   "source": [
    "df.Vacuna.value_counts()"
   ]
  },
  {
   "cell_type": "code",
   "execution_count": 16,
   "id": "95e5543d",
   "metadata": {
    "scrolled": false
   },
   "outputs": [
    {
     "data": {
      "text/plain": [
       "Especie\n",
       "Canino    76\n",
       "Felino    51\n",
       "Name: count, dtype: int64"
      ]
     },
     "execution_count": 16,
     "metadata": {},
     "output_type": "execute_result"
    }
   ],
   "source": [
    "df.Especie.value_counts()"
   ]
  },
  {
   "cell_type": "code",
   "execution_count": 17,
   "id": "8a7ce18f",
   "metadata": {
    "scrolled": false
   },
   "outputs": [
    {
     "data": {
      "text/plain": [
       "Autor\n",
       "Paula  Andrea Bernal Yepes         44\n",
       "valentina Velasquez Beltran        32\n",
       "Carolina Velasquez                 22\n",
       "EN CASA SERVICIOS PARA MASCOTAS    13\n",
       "Natalia Ortiz Ríos                  5\n",
       "Mariana Serna Pinilla               4\n",
       "Daniela Bedoya Cardona              4\n",
       "MA. CAMILA MEJIA (TP 26023)         3\n",
       "Name: count, dtype: int64"
      ]
     },
     "execution_count": 17,
     "metadata": {},
     "output_type": "execute_result"
    }
   ],
   "source": [
    "df.Autor.value_counts()"
   ]
  },
  {
   "cell_type": "code",
   "execution_count": 19,
   "id": "79a33110",
   "metadata": {},
   "outputs": [],
   "source": [
    "df.drop(columns = [\"Laboratorio\", \"Lote\", \"Observaciones\" , \"Próxima vacunación\", \"Otra especie\", \"Otra Raza\", \"Teléfono\", \"Dirección\"]  , inplace = True)"
   ]
  },
  {
   "cell_type": "code",
   "execution_count": 21,
   "id": "d9afc096",
   "metadata": {},
   "outputs": [],
   "source": [
    "df.rename(columns = {\"Nombre\": \"Paciente\"} , inplace = True)"
   ]
  },
  {
   "cell_type": "code",
   "execution_count": 22,
   "id": "4e80d404",
   "metadata": {},
   "outputs": [],
   "source": [
    "df.rename(columns = {\"Nombre.1\": \"Cliente\"} , inplace = True)"
   ]
  },
  {
   "cell_type": "code",
   "execution_count": 23,
   "id": "1259b8ae",
   "metadata": {},
   "outputs": [],
   "source": [
    "df[\"Fecha vacunación\"] = pd.to_datetime(df[\"Fecha vacunación\"])"
   ]
  },
  {
   "cell_type": "code",
   "execution_count": 24,
   "id": "c2145fbc",
   "metadata": {},
   "outputs": [],
   "source": [
    "df[\"Fecha nacimiento\"] = pd.to_datetime(df[\"Fecha nacimiento\"])"
   ]
  },
  {
   "cell_type": "code",
   "execution_count": 25,
   "id": "bf902e8d",
   "metadata": {},
   "outputs": [],
   "source": [
    "df[\"Fecha registro\"] = pd.to_datetime(df[\"Fecha registro\"])"
   ]
  },
  {
   "cell_type": "code",
   "execution_count": 26,
   "id": "b499e8ac",
   "metadata": {},
   "outputs": [],
   "source": [
    "df[\"Fecha edición\"] = pd.to_datetime(df[\"Fecha edición\"])"
   ]
  },
  {
   "cell_type": "code",
   "execution_count": 27,
   "id": "5946b5ed",
   "metadata": {},
   "outputs": [
    {
     "data": {
      "text/plain": [
       "Fecha vacunación    datetime64[ns]\n",
       "Vacuna                      object\n",
       "Paciente                    object\n",
       "Especie                     object\n",
       "Raza                        object\n",
       "Género                      object\n",
       "E.Reproductivo              object\n",
       "Fecha nacimiento    datetime64[ns]\n",
       "Edad                        object\n",
       "Cliente                     object\n",
       "Identificación              object\n",
       "Autor                       object\n",
       "Fecha registro      datetime64[ns]\n",
       "Fecha edición       datetime64[ns]\n",
       "dtype: object"
      ]
     },
     "execution_count": 27,
     "metadata": {},
     "output_type": "execute_result"
    }
   ],
   "source": [
    "df.dtypes"
   ]
  },
  {
   "cell_type": "code",
   "execution_count": 32,
   "id": "ec87294c",
   "metadata": {},
   "outputs": [],
   "source": [
    "# df[\"Identificación\"] = df[\"Identificación\"].astype(int); \n",
    "# ValueError: invalid literal for int() with base 10: '****8620'"
   ]
  },
  {
   "cell_type": "code",
   "execution_count": 31,
   "id": "559667b7",
   "metadata": {},
   "outputs": [],
   "source": [
    "# df.to_excel(\"/Users/karollvivianalopezvillegas/GitHub/OKVET_DA_Final_project/04_Datasets_final/df_OKVET Vacunaciones.xlsx\", index = False)"
   ]
  },
  {
   "cell_type": "code",
   "execution_count": null,
   "id": "5f25ac64",
   "metadata": {},
   "outputs": [],
   "source": []
  }
 ],
 "metadata": {
  "kernelspec": {
   "display_name": "Python 3 (ipykernel)",
   "language": "python",
   "name": "python3"
  },
  "language_info": {
   "codemirror_mode": {
    "name": "ipython",
    "version": 3
   },
   "file_extension": ".py",
   "mimetype": "text/x-python",
   "name": "python",
   "nbconvert_exporter": "python",
   "pygments_lexer": "ipython3",
   "version": "3.11.7"
  }
 },
 "nbformat": 4,
 "nbformat_minor": 5
}
