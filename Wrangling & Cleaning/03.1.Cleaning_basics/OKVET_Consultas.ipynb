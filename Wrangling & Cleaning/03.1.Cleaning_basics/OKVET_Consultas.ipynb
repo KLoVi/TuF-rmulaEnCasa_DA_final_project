{
 "cells": [
  {
   "cell_type": "code",
   "execution_count": 1,
   "id": "186c404c",
   "metadata": {},
   "outputs": [],
   "source": [
    "import pandas as pd\n",
    "import numpy as np"
   ]
  },
  {
   "cell_type": "code",
   "execution_count": 2,
   "id": "583aa6be",
   "metadata": {},
   "outputs": [],
   "source": [
    "url = \"/Users/karollvivianalopezvillegas/GitHub/OKVET_DA_Final_project/02_Datasets_pre_cleaning/OKVET Consultas.xlsx\""
   ]
  },
  {
   "cell_type": "code",
   "execution_count": 3,
   "id": "90c2a739",
   "metadata": {},
   "outputs": [],
   "source": [
    "df = pd.read_excel(url)"
   ]
  },
  {
   "cell_type": "code",
   "execution_count": 4,
   "id": "e94e7471",
   "metadata": {},
   "outputs": [
    {
     "data": {
      "text/plain": [
       "(266, 71)"
      ]
     },
     "execution_count": 4,
     "metadata": {},
     "output_type": "execute_result"
    }
   ],
   "source": [
    "df.shape"
   ]
  },
  {
   "cell_type": "code",
   "execution_count": 5,
   "id": "49c430d1",
   "metadata": {},
   "outputs": [
    {
     "data": {
      "text/html": [
       "<div>\n",
       "<style scoped>\n",
       "    .dataframe tbody tr th:only-of-type {\n",
       "        vertical-align: middle;\n",
       "    }\n",
       "\n",
       "    .dataframe tbody tr th {\n",
       "        vertical-align: top;\n",
       "    }\n",
       "\n",
       "    .dataframe thead th {\n",
       "        text-align: right;\n",
       "    }\n",
       "</style>\n",
       "<table border=\"1\" class=\"dataframe\">\n",
       "  <thead>\n",
       "    <tr style=\"text-align: right;\">\n",
       "      <th></th>\n",
       "      <th>Fecha</th>\n",
       "      <th>Motivo</th>\n",
       "      <th>Anamnesis</th>\n",
       "      <th>Examen</th>\n",
       "      <th>Diagnóstico</th>\n",
       "      <th>Plan terapéutico</th>\n",
       "      <th>Plan diagnóstico</th>\n",
       "      <th>Temperatura</th>\n",
       "      <th>U.Temperatura</th>\n",
       "      <th>Peso</th>\n",
       "      <th>...</th>\n",
       "      <th>E.Reproductivo</th>\n",
       "      <th>Fecha nacimiento</th>\n",
       "      <th>Edad</th>\n",
       "      <th>Nombre.1</th>\n",
       "      <th>Identificación</th>\n",
       "      <th>Teléfono</th>\n",
       "      <th>Dirección</th>\n",
       "      <th>Autor</th>\n",
       "      <th>Fecha registro</th>\n",
       "      <th>Fecha edición</th>\n",
       "    </tr>\n",
       "  </thead>\n",
       "  <tbody>\n",
       "    <tr>\n",
       "      <th>0</th>\n",
       "      <td>2022-08-03 17:16:00</td>\n",
       "      <td>NaN</td>\n",
       "      <td>Revisión general \\n Vomito\\n Cambio consistenc...</td>\n",
       "      <td>Paciente presenta sus constantes fisiologicas ...</td>\n",
       "      <td>I. Gastritis. II. Parasitosis. III. Gastritis....</td>\n",
       "      <td>Ver formula  Formula</td>\n",
       "      <td>Perfil basico\\n Ecografia abdominal</td>\n",
       "      <td>38.9 °C</td>\n",
       "      <td>Celcius</td>\n",
       "      <td>N/D</td>\n",
       "      <td>...</td>\n",
       "      <td>Esterilizado</td>\n",
       "      <td>2020-05-12</td>\n",
       "      <td>4 años, 2 meses y 21 días</td>\n",
       "      <td>Maria Camila Mejia</td>\n",
       "      <td>1128283447</td>\n",
       "      <td>3012422795</td>\n",
       "      <td>Calle 35 A 66 A 37</td>\n",
       "      <td>Carolina Velasquez</td>\n",
       "      <td>2024-02-06 17:28:42</td>\n",
       "      <td>2024-02-06 17:28:42</td>\n",
       "    </tr>\n",
       "    <tr>\n",
       "      <th>1</th>\n",
       "      <td>2023-07-26 16:00:00</td>\n",
       "      <td>NaN</td>\n",
       "      <td>lucky tiene una bola en el estomago\\n vomita c...</td>\n",
       "      <td>paciente ingresa a a consulta ,presenta contan...</td>\n",
       "      <td>I. sarcoma de punto de inyeccion. II. sarcoma ...</td>\n",
       "      <td>ver formula\\n extraccion masa +biopsia\\n inmun...</td>\n",
       "      <td>citologia paf\\n signos\\n perfil basico</td>\n",
       "      <td>37 °C</td>\n",
       "      <td>Celcius</td>\n",
       "      <td>8.8 kg</td>\n",
       "      <td>...</td>\n",
       "      <td>Esterilizado</td>\n",
       "      <td>2018-12-12</td>\n",
       "      <td>5 años, 7 meses y 21 días</td>\n",
       "      <td>maria Nohemi Garcia</td>\n",
       "      <td>1037650612</td>\n",
       "      <td>3046582722</td>\n",
       "      <td>calle 24 #65-18 2piso</td>\n",
       "      <td>Carolina Velasquez</td>\n",
       "      <td>2023-08-08 12:23:26</td>\n",
       "      <td>2023-08-08 12:23:26</td>\n",
       "    </tr>\n",
       "    <tr>\n",
       "      <th>2</th>\n",
       "      <td>2023-07-30 17:36:00</td>\n",
       "      <td>NaN</td>\n",
       "      <td>Lo llevaron a la finca y el otro gato lo mordi...</td>\n",
       "      <td>Paciente decaído, MPD con presencia de edema d...</td>\n",
       "      <td>I. Absceso MPD. II. Hemotropicos. III. Linfade...</td>\n",
       "      <td>Se canaliza vena cefálica MAD. Se administra:\\...</td>\n",
       "      <td>Perfil prequirúrgico (hemograma, ALT, Creatini...</td>\n",
       "      <td>40.2 °C</td>\n",
       "      <td>Celcius</td>\n",
       "      <td>6.6 kg</td>\n",
       "      <td>...</td>\n",
       "      <td>Esterilizado</td>\n",
       "      <td>2012-06-20</td>\n",
       "      <td>12 años, 1 meses y 13 días</td>\n",
       "      <td>Julia Ramirez</td>\n",
       "      <td>1017147335</td>\n",
       "      <td>3103792695</td>\n",
       "      <td>CALLE 48 B # 78 A - 28 ESTADIO</td>\n",
       "      <td>Natalia Ortiz Ríos</td>\n",
       "      <td>2023-08-03 15:51:55</td>\n",
       "      <td>2023-08-03 16:13:18</td>\n",
       "    </tr>\n",
       "    <tr>\n",
       "      <th>3</th>\n",
       "      <td>2023-08-02 10:35:00</td>\n",
       "      <td>NaN</td>\n",
       "      <td>Viene inapetente, no está comiendo bien y sin ...</td>\n",
       "      <td>Paciente atento, dolor abdominal moderado en e...</td>\n",
       "      <td>I. LRC-LRA. II. Pancreatitis. III. EDA / Osteo...</td>\n",
       "      <td>Se canaliza vena cefálica MAI, se administra:\\...</td>\n",
       "      <td>Perfil (hemograma, ALT, Creatinina, Urea-BUN, ...</td>\n",
       "      <td>37.8 °C</td>\n",
       "      <td>Celcius</td>\n",
       "      <td>N/D</td>\n",
       "      <td>...</td>\n",
       "      <td>Esterilizado</td>\n",
       "      <td>2017-06-21</td>\n",
       "      <td>7 años, 1 meses y 12 días</td>\n",
       "      <td>Lina Maria Arango</td>\n",
       "      <td>42882715</td>\n",
       "      <td>3147729169</td>\n",
       "      <td>Carrera 29 A # 3-146 Apto 403, Medellin, Medellin</td>\n",
       "      <td>Natalia Ortiz Ríos</td>\n",
       "      <td>2023-08-04 08:41:34</td>\n",
       "      <td>2023-08-04 08:43:23</td>\n",
       "    </tr>\n",
       "    <tr>\n",
       "      <th>4</th>\n",
       "      <td>2023-08-04 11:20:00</td>\n",
       "      <td>NaN</td>\n",
       "      <td>A él lo operaron el martes de castración, hoy ...</td>\n",
       "      <td>Inapetencia \\n Con dolor a la palpación abdomi...</td>\n",
       "      <td>I. Parasitosis. II. Disbiosis intestinal. III....</td>\n",
       "      <td>Cerenia  Ver anexo</td>\n",
       "      <td>Coprologicos seriados</td>\n",
       "      <td>N/D</td>\n",
       "      <td>NaN</td>\n",
       "      <td>N/D</td>\n",
       "      <td>...</td>\n",
       "      <td>Esterilizado</td>\n",
       "      <td>2022-01-10</td>\n",
       "      <td>2 años, 6 meses y 23 días</td>\n",
       "      <td>Maria Adelaida Restrepo</td>\n",
       "      <td>43615445</td>\n",
       "      <td>5820272</td>\n",
       "      <td>NaN</td>\n",
       "      <td>MA. CAMILA MEJIA (TP 26023)</td>\n",
       "      <td>2023-08-04 11:31:18</td>\n",
       "      <td>2023-08-04 11:31:18</td>\n",
       "    </tr>\n",
       "  </tbody>\n",
       "</table>\n",
       "<p>5 rows × 71 columns</p>\n",
       "</div>"
      ],
      "text/plain": [
       "                 Fecha Motivo  \\\n",
       "0  2022-08-03 17:16:00    NaN   \n",
       "1  2023-07-26 16:00:00    NaN   \n",
       "2  2023-07-30 17:36:00    NaN   \n",
       "3  2023-08-02 10:35:00    NaN   \n",
       "4  2023-08-04 11:20:00    NaN   \n",
       "\n",
       "                                           Anamnesis  \\\n",
       "0  Revisión general \\n Vomito\\n Cambio consistenc...   \n",
       "1  lucky tiene una bola en el estomago\\n vomita c...   \n",
       "2  Lo llevaron a la finca y el otro gato lo mordi...   \n",
       "3  Viene inapetente, no está comiendo bien y sin ...   \n",
       "4  A él lo operaron el martes de castración, hoy ...   \n",
       "\n",
       "                                              Examen  \\\n",
       "0  Paciente presenta sus constantes fisiologicas ...   \n",
       "1  paciente ingresa a a consulta ,presenta contan...   \n",
       "2  Paciente decaído, MPD con presencia de edema d...   \n",
       "3  Paciente atento, dolor abdominal moderado en e...   \n",
       "4  Inapetencia \\n Con dolor a la palpación abdomi...   \n",
       "\n",
       "                                         Diagnóstico  \\\n",
       "0  I. Gastritis. II. Parasitosis. III. Gastritis....   \n",
       "1  I. sarcoma de punto de inyeccion. II. sarcoma ...   \n",
       "2  I. Absceso MPD. II. Hemotropicos. III. Linfade...   \n",
       "3  I. LRC-LRA. II. Pancreatitis. III. EDA / Osteo...   \n",
       "4  I. Parasitosis. II. Disbiosis intestinal. III....   \n",
       "\n",
       "                                    Plan terapéutico  \\\n",
       "0                               Ver formula  Formula   \n",
       "1  ver formula\\n extraccion masa +biopsia\\n inmun...   \n",
       "2  Se canaliza vena cefálica MAD. Se administra:\\...   \n",
       "3  Se canaliza vena cefálica MAI, se administra:\\...   \n",
       "4                                 Cerenia  Ver anexo   \n",
       "\n",
       "                                    Plan diagnóstico Temperatura  \\\n",
       "0                Perfil basico\\n Ecografia abdominal     38.9 °C   \n",
       "1             citologia paf\\n signos\\n perfil basico       37 °C   \n",
       "2  Perfil prequirúrgico (hemograma, ALT, Creatini...     40.2 °C   \n",
       "3  Perfil (hemograma, ALT, Creatinina, Urea-BUN, ...     37.8 °C   \n",
       "4                              Coprologicos seriados         N/D   \n",
       "\n",
       "  U.Temperatura    Peso  ... E.Reproductivo Fecha nacimiento  \\\n",
       "0       Celcius     N/D  ...   Esterilizado       2020-05-12   \n",
       "1       Celcius  8.8 kg  ...   Esterilizado       2018-12-12   \n",
       "2       Celcius  6.6 kg  ...   Esterilizado       2012-06-20   \n",
       "3       Celcius     N/D  ...   Esterilizado       2017-06-21   \n",
       "4           NaN     N/D  ...   Esterilizado       2022-01-10   \n",
       "\n",
       "                         Edad                 Nombre.1 Identificación  \\\n",
       "0   4 años, 2 meses y 21 días       Maria Camila Mejia     1128283447   \n",
       "1   5 años, 7 meses y 21 días      maria Nohemi Garcia     1037650612   \n",
       "2  12 años, 1 meses y 13 días            Julia Ramirez     1017147335   \n",
       "3   7 años, 1 meses y 12 días        Lina Maria Arango       42882715   \n",
       "4   2 años, 6 meses y 23 días  Maria Adelaida Restrepo       43615445   \n",
       "\n",
       "     Teléfono                                          Dirección  \\\n",
       "0  3012422795                                 Calle 35 A 66 A 37   \n",
       "1  3046582722                              calle 24 #65-18 2piso   \n",
       "2  3103792695                     CALLE 48 B # 78 A - 28 ESTADIO   \n",
       "3  3147729169  Carrera 29 A # 3-146 Apto 403, Medellin, Medellin   \n",
       "4     5820272                                                NaN   \n",
       "\n",
       "                         Autor       Fecha registro        Fecha edición  \n",
       "0           Carolina Velasquez  2024-02-06 17:28:42  2024-02-06 17:28:42  \n",
       "1           Carolina Velasquez  2023-08-08 12:23:26  2023-08-08 12:23:26  \n",
       "2           Natalia Ortiz Ríos  2023-08-03 15:51:55  2023-08-03 16:13:18  \n",
       "3           Natalia Ortiz Ríos  2023-08-04 08:41:34  2023-08-04 08:43:23  \n",
       "4  MA. CAMILA MEJIA (TP 26023)  2023-08-04 11:31:18  2023-08-04 11:31:18  \n",
       "\n",
       "[5 rows x 71 columns]"
      ]
     },
     "execution_count": 5,
     "metadata": {},
     "output_type": "execute_result"
    }
   ],
   "source": [
    "df.head() # ACCIONES: Columnas a eliminar: alrededor de 50 columnas!\n",
    "# Convertir a datetime: \"Fecha\", \"Fecha nacimiento\", \"Fecha registro\", \"Fecha edición\"\n",
    "# Cambiar nombre de columnas Nombre --> Paciente; Nombre 1 --> Cliente"
   ]
  },
  {
   "cell_type": "code",
   "execution_count": 6,
   "id": "188cae81",
   "metadata": {
    "scrolled": true
   },
   "outputs": [
    {
     "name": "stdout",
     "output_type": "stream",
     "text": [
      "<class 'pandas.core.frame.DataFrame'>\n",
      "RangeIndex: 266 entries, 0 to 265\n",
      "Data columns (total 71 columns):\n",
      " #   Column                                           Non-Null Count  Dtype  \n",
      "---  ------                                           --------------  -----  \n",
      " 0   Fecha                                            266 non-null    object \n",
      " 1   Motivo                                           73 non-null     object \n",
      " 2   Anamnesis                                        266 non-null    object \n",
      " 3   Examen                                           266 non-null    object \n",
      " 4   Diagnóstico                                      252 non-null    object \n",
      " 5   Plan terapéutico                                 256 non-null    object \n",
      " 6   Plan diagnóstico                                 262 non-null    object \n",
      " 7   Temperatura                                      266 non-null    object \n",
      " 8   U.Temperatura                                    56 non-null     object \n",
      " 9   Peso                                             266 non-null    object \n",
      " 10  U.Peso                                           56 non-null     object \n",
      " 11  ICC                                              48 non-null     object \n",
      " 12  TLLC                                             56 non-null     object \n",
      " 13  Frecuencia cardiaca                              56 non-null     object \n",
      " 14  Frecuencia respiratoria                          55 non-null     object \n",
      " 15  Reflejos                                         46 non-null     object \n",
      " 16  Pulso                                            46 non-null     object \n",
      " 17  Saturación                                       7 non-null      object \n",
      " 18  Presión arterial                                 7 non-null      object \n",
      " 19  Mucosas                                          28 non-null     object \n",
      " 20  Glicemia                                         6 non-null      object \n",
      " 21  Palpación                                        19 non-null     object \n",
      " 22  Observaciones                                    17 non-null     object \n",
      " 23  Actitud                                          15 non-null     object \n",
      " 24  Observaciones: Actitud                           1 non-null      object \n",
      " 25  Hidratación                                      12 non-null     object \n",
      " 26  Observaciones: Hidratación                       1 non-null      object \n",
      " 27  Estado nutricional                               13 non-null     object \n",
      " 28  Observaciones: Estado nutricional                5 non-null      object \n",
      " 29  Nódulos linfáticos superficiales                 14 non-null     object \n",
      " 30  Observaciones: Nódulos linfáticos superficiales  3 non-null      object \n",
      " 31  Mucosas.1                                        13 non-null     object \n",
      " 32  Observaciones: Mucosas                           1 non-null      object \n",
      " 33  Sistema cardiovascular                           10 non-null     object \n",
      " 34  Observaciones: Sistema cardiovascular            0 non-null      float64\n",
      " 35  Sistema respiratorio                             10 non-null     object \n",
      " 36  Observaciones: Sistema respiratorio              0 non-null      float64\n",
      " 37  Sistema digestivo                                12 non-null     object \n",
      " 38  Observaciones: Sistema digestivo                 4 non-null      object \n",
      " 39  Sistema urinario                                 3 non-null      object \n",
      " 40  Observaciones: Sistema urinario                  0 non-null      float64\n",
      " 41  Sistema reproductivo                             5 non-null      object \n",
      " 42  Observaciones: Sistema reproductivo              1 non-null      object \n",
      " 43  Sistema musculoesquelético                       9 non-null      object \n",
      " 44  Observaciones: Sistema musculoesquelético        0 non-null      float64\n",
      " 45  Sistema nervioso                                 9 non-null      object \n",
      " 46  Observaciones: Sistema nervioso                  1 non-null      object \n",
      " 47  Piel y anexos                                    12 non-null     object \n",
      " 48  Observaciones: Piel y anexos                     2 non-null      object \n",
      " 49  Ojos                                             14 non-null     object \n",
      " 50  Observaciones: Ojos                              3 non-null      object \n",
      " 51  Oídos                                            13 non-null     object \n",
      " 52  Observaciones: Oídos                             2 non-null      object \n",
      " 53  Próximo control                                  44 non-null     object \n",
      " 54  Imágenes/Fotos/Adjuntos                          266 non-null    object \n",
      " 55  Nombre                                           266 non-null    object \n",
      " 56  Especie                                          266 non-null    object \n",
      " 57  Otra especie                                     2 non-null      object \n",
      " 58  Raza                                             266 non-null    object \n",
      " 59  Otra Raza                                        27 non-null     object \n",
      " 60  Género                                           266 non-null    object \n",
      " 61  E.Reproductivo                                   266 non-null    object \n",
      " 62  Fecha nacimiento                                 266 non-null    object \n",
      " 63  Edad                                             266 non-null    object \n",
      " 64  Nombre.1                                         266 non-null    object \n",
      " 65  Identificación                                   266 non-null    object \n",
      " 66  Teléfono                                         203 non-null    object \n",
      " 67  Dirección                                        265 non-null    object \n",
      " 68  Autor                                            266 non-null    object \n",
      " 69  Fecha registro                                   266 non-null    object \n",
      " 70  Fecha edición                                    266 non-null    object \n",
      "dtypes: float64(4), object(67)\n",
      "memory usage: 147.7+ KB\n"
     ]
    }
   ],
   "source": [
    "df.info()"
   ]
  },
  {
   "cell_type": "code",
   "execution_count": 7,
   "id": "6a2929c0",
   "metadata": {},
   "outputs": [
    {
     "data": {
      "text/plain": [
       "Fecha               0\n",
       "Motivo            193\n",
       "Anamnesis           0\n",
       "Examen              0\n",
       "Diagnóstico        14\n",
       "                 ... \n",
       "Teléfono           63\n",
       "Dirección           1\n",
       "Autor               0\n",
       "Fecha registro      0\n",
       "Fecha edición       0\n",
       "Length: 71, dtype: int64"
      ]
     },
     "execution_count": 7,
     "metadata": {},
     "output_type": "execute_result"
    }
   ],
   "source": [
    "df.isna().sum()"
   ]
  },
  {
   "cell_type": "code",
   "execution_count": 8,
   "id": "cdd3776f",
   "metadata": {},
   "outputs": [
    {
     "data": {
      "text/plain": [
       "Fecha             266\n",
       "Motivo              4\n",
       "Anamnesis         260\n",
       "Examen            266\n",
       "Diagnóstico       246\n",
       "                 ... \n",
       "Teléfono          119\n",
       "Dirección         160\n",
       "Autor              13\n",
       "Fecha registro    266\n",
       "Fecha edición     266\n",
       "Length: 71, dtype: int64"
      ]
     },
     "execution_count": 8,
     "metadata": {},
     "output_type": "execute_result"
    }
   ],
   "source": [
    "df.nunique()"
   ]
  },
  {
   "cell_type": "code",
   "execution_count": 9,
   "id": "651ac3a6",
   "metadata": {},
   "outputs": [
    {
     "data": {
      "text/plain": [
       "0"
      ]
     },
     "execution_count": 9,
     "metadata": {},
     "output_type": "execute_result"
    }
   ],
   "source": [
    "df.duplicated().sum()"
   ]
  },
  {
   "cell_type": "code",
   "execution_count": 10,
   "id": "aefb6413",
   "metadata": {},
   "outputs": [],
   "source": [
    "# eliminación masiva de las columnas 11 a la 54:"
   ]
  },
  {
   "cell_type": "code",
   "execution_count": 11,
   "id": "cd717a29",
   "metadata": {},
   "outputs": [],
   "source": [
    "df = df.drop(df.iloc[:, 11:55].columns, axis = 1)"
   ]
  },
  {
   "cell_type": "code",
   "execution_count": 13,
   "id": "79a33110",
   "metadata": {},
   "outputs": [],
   "source": [
    "df.drop(columns = [\"Motivo\", \"Otra especie\", \"Otra Raza\", \"Plan terapéutico\", \"Plan diagnóstico\", \"U.Temperatura\", \"U.Peso\", \"Teléfono\" , \"Dirección\"]  , inplace = True)"
   ]
  },
  {
   "cell_type": "code",
   "execution_count": 14,
   "id": "02ac577c",
   "metadata": {},
   "outputs": [
    {
     "name": "stdout",
     "output_type": "stream",
     "text": [
      "<class 'pandas.core.frame.DataFrame'>\n",
      "RangeIndex: 266 entries, 0 to 265\n",
      "Data columns (total 18 columns):\n",
      " #   Column            Non-Null Count  Dtype \n",
      "---  ------            --------------  ----- \n",
      " 0   Fecha             266 non-null    object\n",
      " 1   Anamnesis         266 non-null    object\n",
      " 2   Examen            266 non-null    object\n",
      " 3   Diagnóstico       252 non-null    object\n",
      " 4   Temperatura       266 non-null    object\n",
      " 5   Peso              266 non-null    object\n",
      " 6   Nombre            266 non-null    object\n",
      " 7   Especie           266 non-null    object\n",
      " 8   Raza              266 non-null    object\n",
      " 9   Género            266 non-null    object\n",
      " 10  E.Reproductivo    266 non-null    object\n",
      " 11  Fecha nacimiento  266 non-null    object\n",
      " 12  Edad              266 non-null    object\n",
      " 13  Nombre.1          266 non-null    object\n",
      " 14  Identificación    266 non-null    object\n",
      " 15  Autor             266 non-null    object\n",
      " 16  Fecha registro    266 non-null    object\n",
      " 17  Fecha edición     266 non-null    object\n",
      "dtypes: object(18)\n",
      "memory usage: 37.5+ KB\n"
     ]
    }
   ],
   "source": [
    "df.info()"
   ]
  },
  {
   "cell_type": "code",
   "execution_count": 15,
   "id": "d9afc096",
   "metadata": {},
   "outputs": [],
   "source": [
    "df.rename(columns = {\"Nombre\": \"Paciente\"} , inplace = True)"
   ]
  },
  {
   "cell_type": "code",
   "execution_count": 16,
   "id": "4e80d404",
   "metadata": {},
   "outputs": [],
   "source": [
    "df.rename(columns = {\"Nombre.1\": \"Cliente\"} , inplace = True)"
   ]
  },
  {
   "cell_type": "code",
   "execution_count": 19,
   "id": "1259b8ae",
   "metadata": {},
   "outputs": [],
   "source": [
    "df[\"Fecha\"] = pd.to_datetime(df[\"Fecha\"])"
   ]
  },
  {
   "cell_type": "code",
   "execution_count": 20,
   "id": "c2145fbc",
   "metadata": {},
   "outputs": [],
   "source": [
    "df[\"Fecha nacimiento\"] = pd.to_datetime(df[\"Fecha nacimiento\"])"
   ]
  },
  {
   "cell_type": "code",
   "execution_count": 21,
   "id": "bf902e8d",
   "metadata": {},
   "outputs": [],
   "source": [
    "df[\"Fecha registro\"] = pd.to_datetime(df[\"Fecha registro\"])"
   ]
  },
  {
   "cell_type": "code",
   "execution_count": 22,
   "id": "b499e8ac",
   "metadata": {},
   "outputs": [],
   "source": [
    "df[\"Fecha edición\"] = pd.to_datetime(df[\"Fecha edición\"])"
   ]
  },
  {
   "cell_type": "code",
   "execution_count": 23,
   "id": "5946b5ed",
   "metadata": {},
   "outputs": [
    {
     "data": {
      "text/plain": [
       "Fecha               datetime64[ns]\n",
       "Anamnesis                   object\n",
       "Examen                      object\n",
       "Diagnóstico                 object\n",
       "Temperatura                 object\n",
       "Peso                        object\n",
       "Paciente                    object\n",
       "Especie                     object\n",
       "Raza                        object\n",
       "Género                      object\n",
       "E.Reproductivo              object\n",
       "Fecha nacimiento    datetime64[ns]\n",
       "Edad                        object\n",
       "Cliente                     object\n",
       "Identificación              object\n",
       "Autor                       object\n",
       "Fecha registro      datetime64[ns]\n",
       "Fecha edición       datetime64[ns]\n",
       "dtype: object"
      ]
     },
     "execution_count": 23,
     "metadata": {},
     "output_type": "execute_result"
    }
   ],
   "source": [
    "df.dtypes"
   ]
  },
  {
   "cell_type": "code",
   "execution_count": null,
   "id": "ec87294c",
   "metadata": {},
   "outputs": [],
   "source": []
  },
  {
   "cell_type": "code",
   "execution_count": 24,
   "id": "559667b7",
   "metadata": {},
   "outputs": [],
   "source": [
    "# df.to_excel(\"/Users/karollvivianalopezvillegas/GitHub/OKVET_DA_Final_project/04_Datasets_final/df_OKVET_Consultas.xlsx\", index = False)"
   ]
  },
  {
   "cell_type": "code",
   "execution_count": null,
   "id": "5f25ac64",
   "metadata": {},
   "outputs": [],
   "source": []
  }
 ],
 "metadata": {
  "kernelspec": {
   "display_name": "Python 3 (ipykernel)",
   "language": "python",
   "name": "python3"
  },
  "language_info": {
   "codemirror_mode": {
    "name": "ipython",
    "version": 3
   },
   "file_extension": ".py",
   "mimetype": "text/x-python",
   "name": "python",
   "nbconvert_exporter": "python",
   "pygments_lexer": "ipython3",
   "version": "3.11.7"
  }
 },
 "nbformat": 4,
 "nbformat_minor": 5
}
