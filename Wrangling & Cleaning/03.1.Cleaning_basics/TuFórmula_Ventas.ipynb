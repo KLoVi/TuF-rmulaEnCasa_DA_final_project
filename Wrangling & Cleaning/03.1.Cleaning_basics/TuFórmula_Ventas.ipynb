{
 "cells": [
  {
   "cell_type": "code",
   "execution_count": 2,
   "id": "186c404c",
   "metadata": {},
   "outputs": [],
   "source": [
    "import pandas as pd\n",
    "import numpy as np"
   ]
  },
  {
   "cell_type": "code",
   "execution_count": 3,
   "id": "583aa6be",
   "metadata": {},
   "outputs": [],
   "source": [
    "url = \"/Users/karollvivianalopezvillegas/GitHub/OKVET_DA_Final_project/02_Datasets_pre_cleaning/TuFórmula_Ventas.xlsx\""
   ]
  },
  {
   "cell_type": "code",
   "execution_count": 4,
   "id": "90c2a739",
   "metadata": {},
   "outputs": [],
   "source": [
    "df = pd.read_excel(url)"
   ]
  },
  {
   "cell_type": "code",
   "execution_count": 5,
   "id": "e94e7471",
   "metadata": {},
   "outputs": [
    {
     "data": {
      "text/plain": [
       "(150, 12)"
      ]
     },
     "execution_count": 5,
     "metadata": {},
     "output_type": "execute_result"
    }
   ],
   "source": [
    "df.shape"
   ]
  },
  {
   "cell_type": "code",
   "execution_count": 6,
   "id": "49c430d1",
   "metadata": {},
   "outputs": [
    {
     "data": {
      "text/html": [
       "<div>\n",
       "<style scoped>\n",
       "    .dataframe tbody tr th:only-of-type {\n",
       "        vertical-align: middle;\n",
       "    }\n",
       "\n",
       "    .dataframe tbody tr th {\n",
       "        vertical-align: top;\n",
       "    }\n",
       "\n",
       "    .dataframe thead th {\n",
       "        text-align: right;\n",
       "    }\n",
       "</style>\n",
       "<table border=\"1\" class=\"dataframe\">\n",
       "  <thead>\n",
       "    <tr style=\"text-align: right;\">\n",
       "      <th></th>\n",
       "      <th>PACIENTE</th>\n",
       "      <th>CLIENTE</th>\n",
       "      <th>PRODUCTO</th>\n",
       "      <th>FECHA DE VENTA</th>\n",
       "      <th>SERIAL</th>\n",
       "      <th>UNIDAD</th>\n",
       "      <th>PRECIO UNIDAD</th>\n",
       "      <th>PRECIO TOTAL</th>\n",
       "      <th>FECHA DE PAGO</th>\n",
       "      <th>CONEXIÓN</th>\n",
       "      <th>MV</th>\n",
       "      <th>COMENTARIO</th>\n",
       "    </tr>\n",
       "  </thead>\n",
       "  <tbody>\n",
       "    <tr>\n",
       "      <th>0</th>\n",
       "      <td>Joaquin</td>\n",
       "      <td>NaN</td>\n",
       "      <td>Cardial B 5ml (comprimidos)</td>\n",
       "      <td>2024-02-06</td>\n",
       "      <td>7</td>\n",
       "      <td>1</td>\n",
       "      <td>135000</td>\n",
       "      <td>135000</td>\n",
       "      <td>-</td>\n",
       "      <td>MED325011</td>\n",
       "      <td>Paula Bernal</td>\n",
       "      <td>NaN</td>\n",
       "    </tr>\n",
       "    <tr>\n",
       "      <th>1</th>\n",
       "      <td>Penelope</td>\n",
       "      <td>NaN</td>\n",
       "      <td>Ocubiotic colirio esteroides 5ml (gotero)</td>\n",
       "      <td>2024-02-07</td>\n",
       "      <td>9</td>\n",
       "      <td>1</td>\n",
       "      <td>45000</td>\n",
       "      <td>45000</td>\n",
       "      <td>-</td>\n",
       "      <td>NaN</td>\n",
       "      <td>Paula Bernal</td>\n",
       "      <td>NaN</td>\n",
       "    </tr>\n",
       "    <tr>\n",
       "      <th>2</th>\n",
       "      <td>Penelope</td>\n",
       "      <td>NaN</td>\n",
       "      <td>Advocate gatos 0 a 4 kg (pipeta)</td>\n",
       "      <td>2024-02-07</td>\n",
       "      <td>9</td>\n",
       "      <td>1</td>\n",
       "      <td>46000</td>\n",
       "      <td>46000</td>\n",
       "      <td>-</td>\n",
       "      <td>NaN</td>\n",
       "      <td>Paula Bernal</td>\n",
       "      <td>NaN</td>\n",
       "    </tr>\n",
       "    <tr>\n",
       "      <th>3</th>\n",
       "      <td>Penelope</td>\n",
       "      <td>NaN</td>\n",
       "      <td>Cosequin 60 felino (gominolas)</td>\n",
       "      <td>2024-02-07</td>\n",
       "      <td>9</td>\n",
       "      <td>1</td>\n",
       "      <td>120000</td>\n",
       "      <td>120000</td>\n",
       "      <td>-</td>\n",
       "      <td>0000099600</td>\n",
       "      <td>Paula Bernal</td>\n",
       "      <td>NaN</td>\n",
       "    </tr>\n",
       "    <tr>\n",
       "      <th>4</th>\n",
       "      <td>Guardiana</td>\n",
       "      <td>Sandra Galvis</td>\n",
       "      <td>One (tabletas)</td>\n",
       "      <td>2024-02-09</td>\n",
       "      <td>12</td>\n",
       "      <td>8</td>\n",
       "      <td>12000</td>\n",
       "      <td>96000</td>\n",
       "      <td>-</td>\n",
       "      <td>NaN</td>\n",
       "      <td>Paula Bernal</td>\n",
       "      <td>NaN</td>\n",
       "    </tr>\n",
       "  </tbody>\n",
       "</table>\n",
       "</div>"
      ],
      "text/plain": [
       "    PACIENTE        CLIENTE                                   PRODUCTO  \\\n",
       "0    Joaquin            NaN                Cardial B 5ml (comprimidos)   \n",
       "1   Penelope            NaN  Ocubiotic colirio esteroides 5ml (gotero)   \n",
       "2   Penelope            NaN           Advocate gatos 0 a 4 kg (pipeta)   \n",
       "3   Penelope            NaN             Cosequin 60 felino (gominolas)   \n",
       "4  Guardiana  Sandra Galvis                             One (tabletas)   \n",
       "\n",
       "  FECHA DE VENTA  SERIAL  UNIDAD  PRECIO UNIDAD  PRECIO TOTAL FECHA DE PAGO  \\\n",
       "0     2024-02-06       7       1         135000        135000             -   \n",
       "1     2024-02-07       9       1          45000         45000             -   \n",
       "2     2024-02-07       9       1          46000         46000             -   \n",
       "3     2024-02-07       9       1         120000        120000             -   \n",
       "4     2024-02-09      12       8          12000         96000             -   \n",
       "\n",
       "     CONEXIÓN            MV COMENTARIO  \n",
       "0   MED325011  Paula Bernal        NaN  \n",
       "1         NaN  Paula Bernal        NaN  \n",
       "2         NaN  Paula Bernal        NaN  \n",
       "3  0000099600  Paula Bernal        NaN  \n",
       "4         NaN  Paula Bernal        NaN  "
      ]
     },
     "execution_count": 6,
     "metadata": {},
     "output_type": "execute_result"
    }
   ],
   "source": [
    "df.head() # ACCIONES: Columnas a eliminar: \"Serial\" (fact), \"Fecha de Pago\", \"Conexión\", \"Comentario\", \"Cliente\"?\n",
    "# Transformar a float los precios \n",
    "# Cambiar nombre de columna MV a Autor (para conectar más adelante con otras BDD)"
   ]
  },
  {
   "cell_type": "code",
   "execution_count": 7,
   "id": "188cae81",
   "metadata": {
    "scrolled": true
   },
   "outputs": [
    {
     "name": "stdout",
     "output_type": "stream",
     "text": [
      "<class 'pandas.core.frame.DataFrame'>\n",
      "RangeIndex: 150 entries, 0 to 149\n",
      "Data columns (total 12 columns):\n",
      " #   Column          Non-Null Count  Dtype         \n",
      "---  ------          --------------  -----         \n",
      " 0   PACIENTE        150 non-null    object        \n",
      " 1   CLIENTE         33 non-null     object        \n",
      " 2   PRODUCTO        150 non-null    object        \n",
      " 3   FECHA DE VENTA  150 non-null    datetime64[ns]\n",
      " 4   SERIAL          150 non-null    int64         \n",
      " 5   UNIDAD          150 non-null    int64         \n",
      " 6   PRECIO UNIDAD   150 non-null    int64         \n",
      " 7   PRECIO TOTAL    150 non-null    int64         \n",
      " 8   FECHA DE PAGO   150 non-null    object        \n",
      " 9   CONEXIÓN        107 non-null    object        \n",
      " 10  MV              150 non-null    object        \n",
      " 11  COMENTARIO      17 non-null     object        \n",
      "dtypes: datetime64[ns](1), int64(4), object(7)\n",
      "memory usage: 14.2+ KB\n"
     ]
    }
   ],
   "source": [
    "df.info()"
   ]
  },
  {
   "cell_type": "code",
   "execution_count": 8,
   "id": "6a2929c0",
   "metadata": {},
   "outputs": [
    {
     "data": {
      "text/plain": [
       "PACIENTE            0\n",
       "CLIENTE           117\n",
       "PRODUCTO            0\n",
       "FECHA DE VENTA      0\n",
       "SERIAL              0\n",
       "UNIDAD              0\n",
       "PRECIO UNIDAD       0\n",
       "PRECIO TOTAL        0\n",
       "FECHA DE PAGO       0\n",
       "CONEXIÓN           43\n",
       "MV                  0\n",
       "COMENTARIO        133\n",
       "dtype: int64"
      ]
     },
     "execution_count": 8,
     "metadata": {},
     "output_type": "execute_result"
    }
   ],
   "source": [
    "df.isna().sum()"
   ]
  },
  {
   "cell_type": "code",
   "execution_count": 9,
   "id": "cdd3776f",
   "metadata": {},
   "outputs": [
    {
     "data": {
      "text/plain": [
       "PACIENTE          42\n",
       "CLIENTE           11\n",
       "PRODUCTO          99\n",
       "FECHA DE VENTA    46\n",
       "SERIAL            64\n",
       "UNIDAD            20\n",
       "PRECIO UNIDAD     68\n",
       "PRECIO TOTAL      74\n",
       "FECHA DE PAGO     31\n",
       "CONEXIÓN          62\n",
       "MV                 8\n",
       "COMENTARIO         7\n",
       "dtype: int64"
      ]
     },
     "execution_count": 9,
     "metadata": {},
     "output_type": "execute_result"
    }
   ],
   "source": [
    "df.nunique()"
   ]
  },
  {
   "cell_type": "code",
   "execution_count": null,
   "id": "72480660",
   "metadata": {},
   "outputs": [],
   "source": []
  },
  {
   "cell_type": "code",
   "execution_count": 10,
   "id": "3c0ba984",
   "metadata": {},
   "outputs": [],
   "source": [
    "df.drop(columns = [\"CLIENTE\", \"SERIAL\", \"FECHA DE PAGO\", \"CONEXIÓN\", \"COMENTARIO\"]  , inplace = True)"
   ]
  },
  {
   "cell_type": "code",
   "execution_count": 11,
   "id": "9cf6d997",
   "metadata": {},
   "outputs": [
    {
     "data": {
      "text/html": [
       "<div>\n",
       "<style scoped>\n",
       "    .dataframe tbody tr th:only-of-type {\n",
       "        vertical-align: middle;\n",
       "    }\n",
       "\n",
       "    .dataframe tbody tr th {\n",
       "        vertical-align: top;\n",
       "    }\n",
       "\n",
       "    .dataframe thead th {\n",
       "        text-align: right;\n",
       "    }\n",
       "</style>\n",
       "<table border=\"1\" class=\"dataframe\">\n",
       "  <thead>\n",
       "    <tr style=\"text-align: right;\">\n",
       "      <th></th>\n",
       "      <th>PACIENTE</th>\n",
       "      <th>PRODUCTO</th>\n",
       "      <th>FECHA DE VENTA</th>\n",
       "      <th>UNIDAD</th>\n",
       "      <th>PRECIO UNIDAD</th>\n",
       "      <th>PRECIO TOTAL</th>\n",
       "      <th>MV</th>\n",
       "    </tr>\n",
       "  </thead>\n",
       "  <tbody>\n",
       "    <tr>\n",
       "      <th>0</th>\n",
       "      <td>Joaquin</td>\n",
       "      <td>Cardial B 5ml (comprimidos)</td>\n",
       "      <td>2024-02-06</td>\n",
       "      <td>1</td>\n",
       "      <td>135000</td>\n",
       "      <td>135000</td>\n",
       "      <td>Paula Bernal</td>\n",
       "    </tr>\n",
       "    <tr>\n",
       "      <th>1</th>\n",
       "      <td>Penelope</td>\n",
       "      <td>Ocubiotic colirio esteroides 5ml (gotero)</td>\n",
       "      <td>2024-02-07</td>\n",
       "      <td>1</td>\n",
       "      <td>45000</td>\n",
       "      <td>45000</td>\n",
       "      <td>Paula Bernal</td>\n",
       "    </tr>\n",
       "    <tr>\n",
       "      <th>2</th>\n",
       "      <td>Penelope</td>\n",
       "      <td>Advocate gatos 0 a 4 kg (pipeta)</td>\n",
       "      <td>2024-02-07</td>\n",
       "      <td>1</td>\n",
       "      <td>46000</td>\n",
       "      <td>46000</td>\n",
       "      <td>Paula Bernal</td>\n",
       "    </tr>\n",
       "    <tr>\n",
       "      <th>3</th>\n",
       "      <td>Penelope</td>\n",
       "      <td>Cosequin 60 felino (gominolas)</td>\n",
       "      <td>2024-02-07</td>\n",
       "      <td>1</td>\n",
       "      <td>120000</td>\n",
       "      <td>120000</td>\n",
       "      <td>Paula Bernal</td>\n",
       "    </tr>\n",
       "    <tr>\n",
       "      <th>4</th>\n",
       "      <td>Guardiana</td>\n",
       "      <td>One (tabletas)</td>\n",
       "      <td>2024-02-09</td>\n",
       "      <td>8</td>\n",
       "      <td>12000</td>\n",
       "      <td>96000</td>\n",
       "      <td>Paula Bernal</td>\n",
       "    </tr>\n",
       "  </tbody>\n",
       "</table>\n",
       "</div>"
      ],
      "text/plain": [
       "    PACIENTE                                   PRODUCTO FECHA DE VENTA  \\\n",
       "0    Joaquin                Cardial B 5ml (comprimidos)     2024-02-06   \n",
       "1   Penelope  Ocubiotic colirio esteroides 5ml (gotero)     2024-02-07   \n",
       "2   Penelope           Advocate gatos 0 a 4 kg (pipeta)     2024-02-07   \n",
       "3   Penelope             Cosequin 60 felino (gominolas)     2024-02-07   \n",
       "4  Guardiana                             One (tabletas)     2024-02-09   \n",
       "\n",
       "   UNIDAD  PRECIO UNIDAD  PRECIO TOTAL            MV  \n",
       "0       1         135000        135000  Paula Bernal  \n",
       "1       1          45000         45000  Paula Bernal  \n",
       "2       1          46000         46000  Paula Bernal  \n",
       "3       1         120000        120000  Paula Bernal  \n",
       "4       8          12000         96000  Paula Bernal  "
      ]
     },
     "execution_count": 11,
     "metadata": {},
     "output_type": "execute_result"
    }
   ],
   "source": [
    "df.head()"
   ]
  },
  {
   "cell_type": "code",
   "execution_count": 12,
   "id": "5d35d921",
   "metadata": {},
   "outputs": [],
   "source": [
    "df[\"PRECIO UNIDAD\"] = df[\"PRECIO UNIDAD\"].astype(float)"
   ]
  },
  {
   "cell_type": "code",
   "execution_count": 13,
   "id": "173807ff",
   "metadata": {},
   "outputs": [],
   "source": [
    "df[\"PRECIO TOTAL\"] = df[\"PRECIO TOTAL\"].astype(float)"
   ]
  },
  {
   "cell_type": "code",
   "execution_count": 14,
   "id": "79b21d20",
   "metadata": {
    "scrolled": true
   },
   "outputs": [
    {
     "data": {
      "text/plain": [
       "PACIENTE                  object\n",
       "PRODUCTO                  object\n",
       "FECHA DE VENTA    datetime64[ns]\n",
       "UNIDAD                     int64\n",
       "PRECIO UNIDAD            float64\n",
       "PRECIO TOTAL             float64\n",
       "MV                        object\n",
       "dtype: object"
      ]
     },
     "execution_count": 14,
     "metadata": {},
     "output_type": "execute_result"
    }
   ],
   "source": [
    "df.dtypes"
   ]
  },
  {
   "cell_type": "code",
   "execution_count": 15,
   "id": "ef99464d",
   "metadata": {},
   "outputs": [],
   "source": [
    "df.rename( columns = {'MV': 'Autor'}, inplace=True)"
   ]
  },
  {
   "cell_type": "code",
   "execution_count": 16,
   "id": "272775f8",
   "metadata": {},
   "outputs": [
    {
     "data": {
      "text/html": [
       "<div>\n",
       "<style scoped>\n",
       "    .dataframe tbody tr th:only-of-type {\n",
       "        vertical-align: middle;\n",
       "    }\n",
       "\n",
       "    .dataframe tbody tr th {\n",
       "        vertical-align: top;\n",
       "    }\n",
       "\n",
       "    .dataframe thead th {\n",
       "        text-align: right;\n",
       "    }\n",
       "</style>\n",
       "<table border=\"1\" class=\"dataframe\">\n",
       "  <thead>\n",
       "    <tr style=\"text-align: right;\">\n",
       "      <th></th>\n",
       "      <th>PACIENTE</th>\n",
       "      <th>PRODUCTO</th>\n",
       "      <th>FECHA DE VENTA</th>\n",
       "      <th>UNIDAD</th>\n",
       "      <th>PRECIO UNIDAD</th>\n",
       "      <th>PRECIO TOTAL</th>\n",
       "      <th>Autor</th>\n",
       "    </tr>\n",
       "  </thead>\n",
       "  <tbody>\n",
       "    <tr>\n",
       "      <th>0</th>\n",
       "      <td>Joaquin</td>\n",
       "      <td>Cardial B 5ml (comprimidos)</td>\n",
       "      <td>2024-02-06</td>\n",
       "      <td>1</td>\n",
       "      <td>135000.0</td>\n",
       "      <td>135000.0</td>\n",
       "      <td>Paula Bernal</td>\n",
       "    </tr>\n",
       "    <tr>\n",
       "      <th>1</th>\n",
       "      <td>Penelope</td>\n",
       "      <td>Ocubiotic colirio esteroides 5ml (gotero)</td>\n",
       "      <td>2024-02-07</td>\n",
       "      <td>1</td>\n",
       "      <td>45000.0</td>\n",
       "      <td>45000.0</td>\n",
       "      <td>Paula Bernal</td>\n",
       "    </tr>\n",
       "    <tr>\n",
       "      <th>2</th>\n",
       "      <td>Penelope</td>\n",
       "      <td>Advocate gatos 0 a 4 kg (pipeta)</td>\n",
       "      <td>2024-02-07</td>\n",
       "      <td>1</td>\n",
       "      <td>46000.0</td>\n",
       "      <td>46000.0</td>\n",
       "      <td>Paula Bernal</td>\n",
       "    </tr>\n",
       "    <tr>\n",
       "      <th>3</th>\n",
       "      <td>Penelope</td>\n",
       "      <td>Cosequin 60 felino (gominolas)</td>\n",
       "      <td>2024-02-07</td>\n",
       "      <td>1</td>\n",
       "      <td>120000.0</td>\n",
       "      <td>120000.0</td>\n",
       "      <td>Paula Bernal</td>\n",
       "    </tr>\n",
       "    <tr>\n",
       "      <th>4</th>\n",
       "      <td>Guardiana</td>\n",
       "      <td>One (tabletas)</td>\n",
       "      <td>2024-02-09</td>\n",
       "      <td>8</td>\n",
       "      <td>12000.0</td>\n",
       "      <td>96000.0</td>\n",
       "      <td>Paula Bernal</td>\n",
       "    </tr>\n",
       "    <tr>\n",
       "      <th>...</th>\n",
       "      <td>...</td>\n",
       "      <td>...</td>\n",
       "      <td>...</td>\n",
       "      <td>...</td>\n",
       "      <td>...</td>\n",
       "      <td>...</td>\n",
       "      <td>...</td>\n",
       "    </tr>\n",
       "    <tr>\n",
       "      <th>145</th>\n",
       "      <td>Thor</td>\n",
       "      <td>Previcox 227mg (comprimidos)</td>\n",
       "      <td>2024-06-28</td>\n",
       "      <td>5</td>\n",
       "      <td>1300.0</td>\n",
       "      <td>6500.0</td>\n",
       "      <td>Isabella Quiroga</td>\n",
       "    </tr>\n",
       "    <tr>\n",
       "      <th>146</th>\n",
       "      <td>Thor</td>\n",
       "      <td>Amoxicilina + Ácido clavulanico (Nicilan) 200m...</td>\n",
       "      <td>2024-06-28</td>\n",
       "      <td>12</td>\n",
       "      <td>7800.0</td>\n",
       "      <td>93600.0</td>\n",
       "      <td>Isabella Quiroga</td>\n",
       "    </tr>\n",
       "    <tr>\n",
       "      <th>147</th>\n",
       "      <td>Thor</td>\n",
       "      <td>Ciclorac (ácido hipocloroso) 120ml (spray)</td>\n",
       "      <td>2024-06-28</td>\n",
       "      <td>1</td>\n",
       "      <td>30000.0</td>\n",
       "      <td>30000.0</td>\n",
       "      <td>Isabella Quiroga</td>\n",
       "    </tr>\n",
       "    <tr>\n",
       "      <th>148</th>\n",
       "      <td>Sofía</td>\n",
       "      <td>Fortiflora canino (sobres)</td>\n",
       "      <td>2024-06-30</td>\n",
       "      <td>5</td>\n",
       "      <td>5000.0</td>\n",
       "      <td>25000.0</td>\n",
       "      <td>Paula Bernal</td>\n",
       "    </tr>\n",
       "    <tr>\n",
       "      <th>149</th>\n",
       "      <td>Ron</td>\n",
       "      <td>Glicopan Pet 30ml (suspención)</td>\n",
       "      <td>2024-07-03</td>\n",
       "      <td>1</td>\n",
       "      <td>40000.0</td>\n",
       "      <td>40000.0</td>\n",
       "      <td>Paula Bernal</td>\n",
       "    </tr>\n",
       "  </tbody>\n",
       "</table>\n",
       "<p>150 rows × 7 columns</p>\n",
       "</div>"
      ],
      "text/plain": [
       "      PACIENTE                                           PRODUCTO  \\\n",
       "0      Joaquin                        Cardial B 5ml (comprimidos)   \n",
       "1     Penelope          Ocubiotic colirio esteroides 5ml (gotero)   \n",
       "2     Penelope                   Advocate gatos 0 a 4 kg (pipeta)   \n",
       "3     Penelope                     Cosequin 60 felino (gominolas)   \n",
       "4    Guardiana                                     One (tabletas)   \n",
       "..         ...                                                ...   \n",
       "145       Thor                       Previcox 227mg (comprimidos)   \n",
       "146       Thor  Amoxicilina + Ácido clavulanico (Nicilan) 200m...   \n",
       "147       Thor         Ciclorac (ácido hipocloroso) 120ml (spray)   \n",
       "148      Sofía                         Fortiflora canino (sobres)   \n",
       "149        Ron                     Glicopan Pet 30ml (suspención)   \n",
       "\n",
       "    FECHA DE VENTA  UNIDAD  PRECIO UNIDAD  PRECIO TOTAL             Autor  \n",
       "0       2024-02-06       1       135000.0      135000.0      Paula Bernal  \n",
       "1       2024-02-07       1        45000.0       45000.0      Paula Bernal  \n",
       "2       2024-02-07       1        46000.0       46000.0      Paula Bernal  \n",
       "3       2024-02-07       1       120000.0      120000.0      Paula Bernal  \n",
       "4       2024-02-09       8        12000.0       96000.0      Paula Bernal  \n",
       "..             ...     ...            ...           ...               ...  \n",
       "145     2024-06-28       5         1300.0        6500.0  Isabella Quiroga  \n",
       "146     2024-06-28      12         7800.0       93600.0  Isabella Quiroga  \n",
       "147     2024-06-28       1        30000.0       30000.0  Isabella Quiroga  \n",
       "148     2024-06-30       5         5000.0       25000.0      Paula Bernal  \n",
       "149     2024-07-03       1        40000.0       40000.0      Paula Bernal  \n",
       "\n",
       "[150 rows x 7 columns]"
      ]
     },
     "execution_count": 16,
     "metadata": {},
     "output_type": "execute_result"
    }
   ],
   "source": [
    "df"
   ]
  },
  {
   "cell_type": "code",
   "execution_count": 24,
   "id": "559667b7",
   "metadata": {},
   "outputs": [],
   "source": [
    "# df.to_excel(\"/Users/karollvivianalopezvillegas/GitHub/OKVET_DA_Final_project/04_Datasets_final/df_TuFórmula_Ventas.xlsx\", index = False)"
   ]
  },
  {
   "cell_type": "code",
   "execution_count": null,
   "id": "5f25ac64",
   "metadata": {},
   "outputs": [],
   "source": []
  }
 ],
 "metadata": {
  "kernelspec": {
   "display_name": "Python 3 (ipykernel)",
   "language": "python",
   "name": "python3"
  },
  "language_info": {
   "codemirror_mode": {
    "name": "ipython",
    "version": 3
   },
   "file_extension": ".py",
   "mimetype": "text/x-python",
   "name": "python",
   "nbconvert_exporter": "python",
   "pygments_lexer": "ipython3",
   "version": "3.11.7"
  }
 },
 "nbformat": 4,
 "nbformat_minor": 5
}
