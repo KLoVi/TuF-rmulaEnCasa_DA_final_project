{
 "cells": [
  {
   "cell_type": "code",
   "execution_count": 1,
   "id": "186c404c",
   "metadata": {},
   "outputs": [],
   "source": [
    "import pandas as pd\n",
    "import numpy as np"
   ]
  },
  {
   "cell_type": "code",
   "execution_count": 2,
   "id": "583aa6be",
   "metadata": {},
   "outputs": [],
   "source": [
    "url = \"/Users/karollvivianalopezvillegas/GitHub/OKVET_DA_Final_project/02_Datasets_pre_cleaning/OKVET Fórmulas médicas.xlsx\""
   ]
  },
  {
   "cell_type": "code",
   "execution_count": 3,
   "id": "90c2a739",
   "metadata": {},
   "outputs": [],
   "source": [
    "df = pd.read_excel(url)"
   ]
  },
  {
   "cell_type": "code",
   "execution_count": 4,
   "id": "e94e7471",
   "metadata": {},
   "outputs": [
    {
     "data": {
      "text/plain": [
       "(623, 21)"
      ]
     },
     "execution_count": 4,
     "metadata": {},
     "output_type": "execute_result"
    }
   ],
   "source": [
    "df.shape"
   ]
  },
  {
   "cell_type": "code",
   "execution_count": 5,
   "id": "49c430d1",
   "metadata": {},
   "outputs": [
    {
     "data": {
      "text/html": [
       "<div>\n",
       "<style scoped>\n",
       "    .dataframe tbody tr th:only-of-type {\n",
       "        vertical-align: middle;\n",
       "    }\n",
       "\n",
       "    .dataframe tbody tr th {\n",
       "        vertical-align: top;\n",
       "    }\n",
       "\n",
       "    .dataframe thead th {\n",
       "        text-align: right;\n",
       "    }\n",
       "</style>\n",
       "<table border=\"1\" class=\"dataframe\">\n",
       "  <thead>\n",
       "    <tr style=\"text-align: right;\">\n",
       "      <th></th>\n",
       "      <th>Fecha fórmula</th>\n",
       "      <th>Diagnóstico presuntivo y/o final</th>\n",
       "      <th>Medicamentos 1</th>\n",
       "      <th>Medicamentos 2</th>\n",
       "      <th>Observaciones</th>\n",
       "      <th>Nombre</th>\n",
       "      <th>Especie</th>\n",
       "      <th>Otra especie</th>\n",
       "      <th>Raza</th>\n",
       "      <th>Otra Raza</th>\n",
       "      <th>...</th>\n",
       "      <th>E.Reproductivo</th>\n",
       "      <th>Fecha nacimiento</th>\n",
       "      <th>Edad</th>\n",
       "      <th>Nombre.1</th>\n",
       "      <th>Identificación</th>\n",
       "      <th>Teléfono</th>\n",
       "      <th>Dirección</th>\n",
       "      <th>Autor</th>\n",
       "      <th>Fecha registro</th>\n",
       "      <th>Fecha edición</th>\n",
       "    </tr>\n",
       "  </thead>\n",
       "  <tbody>\n",
       "    <tr>\n",
       "      <th>0</th>\n",
       "      <td>2023-08-01</td>\n",
       "      <td>OVARISTERECTOMIA</td>\n",
       "      <td>Nombre: GASTRUMPresentación: TabletasCantidad:...</td>\n",
       "      <td>I. GASTRUM (Tabletas) #10. Suministrar via ora...</td>\n",
       "      <td>COLLAR ISABELINO PERMANENTE,HASTA EL RETIRO DE...</td>\n",
       "      <td>SASHA</td>\n",
       "      <td>Canino</td>\n",
       "      <td>Canino</td>\n",
       "      <td>Criollo(a)</td>\n",
       "      <td>Criollo(a)</td>\n",
       "      <td>...</td>\n",
       "      <td>No esterilizado</td>\n",
       "      <td>2022-08-18</td>\n",
       "      <td>1 años, 11 meses y 15 días</td>\n",
       "      <td>MARIA FERNANDA LONDOÑO</td>\n",
       "      <td>1001011787</td>\n",
       "      <td>NaN</td>\n",
       "      <td>CALLE 40 A SUR # 24 B 105 PALMERAS 3 TORRE 14 ...</td>\n",
       "      <td>EN CASA SERVICIOS PARA MASCOTAS</td>\n",
       "      <td>2023-08-01 11:35:00</td>\n",
       "      <td>2023-08-01 17:35:48</td>\n",
       "    </tr>\n",
       "    <tr>\n",
       "      <th>1</th>\n",
       "      <td>2023-08-01</td>\n",
       "      <td>OVARISTERECTOMIA</td>\n",
       "      <td>Nombre: GASTRUMPresentación: TabletasCantidad:...</td>\n",
       "      <td>I. GASTRUM (Tabletas) #10. Suministrar via ora...</td>\n",
       "      <td>COLLAR ISABELINO PERMANENTE HASTA EL RETIRO DE...</td>\n",
       "      <td>MACARENA</td>\n",
       "      <td>Canino</td>\n",
       "      <td>NaN</td>\n",
       "      <td>Otra</td>\n",
       "      <td>Criollo</td>\n",
       "      <td>...</td>\n",
       "      <td>No esterilizado</td>\n",
       "      <td>2022-08-19</td>\n",
       "      <td>1 años, 11 meses y 14 días</td>\n",
       "      <td>MARIA FERNANDA LONDOÑO</td>\n",
       "      <td>1001011787</td>\n",
       "      <td>NaN</td>\n",
       "      <td>CALLE 40 A SUR # 24 B 105 PALMERAS 3 TORRE 14 ...</td>\n",
       "      <td>EN CASA SERVICIOS PARA MASCOTAS</td>\n",
       "      <td>2023-08-01 11:46:00</td>\n",
       "      <td>2023-08-01 17:31:37</td>\n",
       "    </tr>\n",
       "    <tr>\n",
       "      <th>2</th>\n",
       "      <td>2023-08-01</td>\n",
       "      <td>PÚSTULAS EN PIEL</td>\n",
       "      <td>Nombre: labiderm ampolla regeneradoraPresentac...</td>\n",
       "      <td>I. labiderm ampolla regeneradora (Ampolla) #3....</td>\n",
       "      <td>REPORTAR TOS, Secreción nasal.\\n REPORTAR LESI...</td>\n",
       "      <td>Pistacho</td>\n",
       "      <td>Canino</td>\n",
       "      <td>NaN</td>\n",
       "      <td>Shih Tzu</td>\n",
       "      <td>NaN</td>\n",
       "      <td>...</td>\n",
       "      <td>Esterilizado</td>\n",
       "      <td>2011-06-23</td>\n",
       "      <td>13 años, 1 meses y 10 días</td>\n",
       "      <td>Maria Alejandra Ochoa</td>\n",
       "      <td>1037618439</td>\n",
       "      <td>3116057300, 3175646</td>\n",
       "      <td>Carrera 25 N 12 Sur 330, San Lucas, Medellin</td>\n",
       "      <td>valentina Velasquez Beltran</td>\n",
       "      <td>2023-08-01 15:33:25</td>\n",
       "      <td>2023-08-01 15:33:25</td>\n",
       "    </tr>\n",
       "    <tr>\n",
       "      <th>3</th>\n",
       "      <td>2023-08-01</td>\n",
       "      <td>ORQUIECTOMIA</td>\n",
       "      <td>Nombre: gastrumPresentación: TabletasCantidad:...</td>\n",
       "      <td>I. gastrum (Tabletas) #10. suministrar 1 table...</td>\n",
       "      <td>Quietud (No puede saltar, correr, salir a cami...</td>\n",
       "      <td>LENON</td>\n",
       "      <td>Canino</td>\n",
       "      <td>NaN</td>\n",
       "      <td>Criollo(a)</td>\n",
       "      <td>NaN</td>\n",
       "      <td>...</td>\n",
       "      <td>No esterilizado</td>\n",
       "      <td>2022-08-15</td>\n",
       "      <td>1 años, 11 meses y 18 días</td>\n",
       "      <td>OMAR APONTE</td>\n",
       "      <td>79602476</td>\n",
       "      <td>3108741817</td>\n",
       "      <td>m 27 Vía Las Palmas, casa 48, Cerros de Fizeba...</td>\n",
       "      <td>EN CASA SERVICIOS PARA MASCOTAS</td>\n",
       "      <td>2023-08-01 18:00:05</td>\n",
       "      <td>2023-08-01 18:00:05</td>\n",
       "    </tr>\n",
       "    <tr>\n",
       "      <th>4</th>\n",
       "      <td>2023-08-01</td>\n",
       "      <td>ORQUIECTOMIA</td>\n",
       "      <td>Nombre: gastrumPresentación: TabletasCantidad:...</td>\n",
       "      <td>I. gastrum (Tabletas) #3. suministrar 1/2 tabl...</td>\n",
       "      <td>Quietud (No puede saltar, correr, salir a cami...</td>\n",
       "      <td>Happy</td>\n",
       "      <td>Canino</td>\n",
       "      <td>NaN</td>\n",
       "      <td>Bulldog francés</td>\n",
       "      <td>NaN</td>\n",
       "      <td>...</td>\n",
       "      <td>Esterilizado</td>\n",
       "      <td>2022-01-10</td>\n",
       "      <td>2 años, 6 meses y 23 días</td>\n",
       "      <td>Maria Adelaida Restrepo</td>\n",
       "      <td>43615445</td>\n",
       "      <td>5820272</td>\n",
       "      <td>NaN</td>\n",
       "      <td>EN CASA SERVICIOS PARA MASCOTAS</td>\n",
       "      <td>2023-08-01 18:16:20</td>\n",
       "      <td>2023-08-01 18:16:20</td>\n",
       "    </tr>\n",
       "  </tbody>\n",
       "</table>\n",
       "<p>5 rows × 21 columns</p>\n",
       "</div>"
      ],
      "text/plain": [
       "  Fecha fórmula Diagnóstico presuntivo y/o final  \\\n",
       "0    2023-08-01                 OVARISTERECTOMIA   \n",
       "1    2023-08-01                 OVARISTERECTOMIA   \n",
       "2    2023-08-01                 PÚSTULAS EN PIEL   \n",
       "3    2023-08-01                     ORQUIECTOMIA   \n",
       "4    2023-08-01                     ORQUIECTOMIA   \n",
       "\n",
       "                                      Medicamentos 1  \\\n",
       "0  Nombre: GASTRUMPresentación: TabletasCantidad:...   \n",
       "1  Nombre: GASTRUMPresentación: TabletasCantidad:...   \n",
       "2  Nombre: labiderm ampolla regeneradoraPresentac...   \n",
       "3  Nombre: gastrumPresentación: TabletasCantidad:...   \n",
       "4  Nombre: gastrumPresentación: TabletasCantidad:...   \n",
       "\n",
       "                                      Medicamentos 2  \\\n",
       "0  I. GASTRUM (Tabletas) #10. Suministrar via ora...   \n",
       "1  I. GASTRUM (Tabletas) #10. Suministrar via ora...   \n",
       "2  I. labiderm ampolla regeneradora (Ampolla) #3....   \n",
       "3  I. gastrum (Tabletas) #10. suministrar 1 table...   \n",
       "4  I. gastrum (Tabletas) #3. suministrar 1/2 tabl...   \n",
       "\n",
       "                                       Observaciones    Nombre Especie  \\\n",
       "0  COLLAR ISABELINO PERMANENTE,HASTA EL RETIRO DE...     SASHA  Canino   \n",
       "1  COLLAR ISABELINO PERMANENTE HASTA EL RETIRO DE...  MACARENA  Canino   \n",
       "2  REPORTAR TOS, Secreción nasal.\\n REPORTAR LESI...  Pistacho  Canino   \n",
       "3  Quietud (No puede saltar, correr, salir a cami...     LENON  Canino   \n",
       "4  Quietud (No puede saltar, correr, salir a cami...     Happy  Canino   \n",
       "\n",
       "  Otra especie             Raza   Otra Raza  ...   E.Reproductivo  \\\n",
       "0       Canino       Criollo(a)  Criollo(a)  ...  No esterilizado   \n",
       "1          NaN             Otra     Criollo  ...  No esterilizado   \n",
       "2          NaN         Shih Tzu         NaN  ...     Esterilizado   \n",
       "3          NaN       Criollo(a)         NaN  ...  No esterilizado   \n",
       "4          NaN  Bulldog francés         NaN  ...     Esterilizado   \n",
       "\n",
       "  Fecha nacimiento                        Edad                 Nombre.1  \\\n",
       "0       2022-08-18  1 años, 11 meses y 15 días   MARIA FERNANDA LONDOÑO   \n",
       "1       2022-08-19  1 años, 11 meses y 14 días   MARIA FERNANDA LONDOÑO   \n",
       "2       2011-06-23  13 años, 1 meses y 10 días    Maria Alejandra Ochoa   \n",
       "3       2022-08-15  1 años, 11 meses y 18 días              OMAR APONTE   \n",
       "4       2022-01-10   2 años, 6 meses y 23 días  Maria Adelaida Restrepo   \n",
       "\n",
       "  Identificación             Teléfono  \\\n",
       "0     1001011787                  NaN   \n",
       "1     1001011787                  NaN   \n",
       "2     1037618439  3116057300, 3175646   \n",
       "3       79602476           3108741817   \n",
       "4       43615445              5820272   \n",
       "\n",
       "                                           Dirección  \\\n",
       "0  CALLE 40 A SUR # 24 B 105 PALMERAS 3 TORRE 14 ...   \n",
       "1  CALLE 40 A SUR # 24 B 105 PALMERAS 3 TORRE 14 ...   \n",
       "2       Carrera 25 N 12 Sur 330, San Lucas, Medellin   \n",
       "3  m 27 Vía Las Palmas, casa 48, Cerros de Fizeba...   \n",
       "4                                                NaN   \n",
       "\n",
       "                             Autor       Fecha registro        Fecha edición  \n",
       "0  EN CASA SERVICIOS PARA MASCOTAS  2023-08-01 11:35:00  2023-08-01 17:35:48  \n",
       "1  EN CASA SERVICIOS PARA MASCOTAS  2023-08-01 11:46:00  2023-08-01 17:31:37  \n",
       "2      valentina Velasquez Beltran  2023-08-01 15:33:25  2023-08-01 15:33:25  \n",
       "3  EN CASA SERVICIOS PARA MASCOTAS  2023-08-01 18:00:05  2023-08-01 18:00:05  \n",
       "4  EN CASA SERVICIOS PARA MASCOTAS  2023-08-01 18:16:20  2023-08-01 18:16:20  \n",
       "\n",
       "[5 rows x 21 columns]"
      ]
     },
     "execution_count": 5,
     "metadata": {},
     "output_type": "execute_result"
    }
   ],
   "source": [
    "df.head() # ACCIONES: Columnas a eliminar: \"Observaciones\", \"Otra especie\", \"Otra Raza\", \"Teléfono\", \"Dirección\"\n",
    "# Convertir a datetime: \"Fecha fórmula\", \"Fecha nacimiento\", \"Fecha registro\", \"Fecha edición\"\n",
    "# Cambiar nombre de columnas Nombre --> Paciente; Nombre 1 --> Cliente"
   ]
  },
  {
   "cell_type": "code",
   "execution_count": 6,
   "id": "188cae81",
   "metadata": {
    "scrolled": true
   },
   "outputs": [
    {
     "name": "stdout",
     "output_type": "stream",
     "text": [
      "<class 'pandas.core.frame.DataFrame'>\n",
      "RangeIndex: 623 entries, 0 to 622\n",
      "Data columns (total 21 columns):\n",
      " #   Column                            Non-Null Count  Dtype \n",
      "---  ------                            --------------  ----- \n",
      " 0   Fecha fórmula                     623 non-null    object\n",
      " 1   Diagnóstico presuntivo y/o final  623 non-null    object\n",
      " 2   Medicamentos 1                    623 non-null    object\n",
      " 3   Medicamentos 2                    623 non-null    object\n",
      " 4   Observaciones                     623 non-null    object\n",
      " 5   Nombre                            623 non-null    object\n",
      " 6   Especie                           623 non-null    object\n",
      " 7   Otra especie                      8 non-null      object\n",
      " 8   Raza                              623 non-null    object\n",
      " 9   Otra Raza                         56 non-null     object\n",
      " 10  Género                            623 non-null    object\n",
      " 11  E.Reproductivo                    623 non-null    object\n",
      " 12  Fecha nacimiento                  623 non-null    object\n",
      " 13  Edad                              623 non-null    object\n",
      " 14  Nombre.1                          623 non-null    object\n",
      " 15  Identificación                    623 non-null    object\n",
      " 16  Teléfono                          482 non-null    object\n",
      " 17  Dirección                         620 non-null    object\n",
      " 18  Autor                             623 non-null    object\n",
      " 19  Fecha registro                    623 non-null    object\n",
      " 20  Fecha edición                     623 non-null    object\n",
      "dtypes: object(21)\n",
      "memory usage: 102.3+ KB\n"
     ]
    }
   ],
   "source": [
    "df.info()"
   ]
  },
  {
   "cell_type": "code",
   "execution_count": 7,
   "id": "6a2929c0",
   "metadata": {
    "scrolled": true
   },
   "outputs": [
    {
     "data": {
      "text/plain": [
       "Fecha fórmula                         0\n",
       "Diagnóstico presuntivo y/o final      0\n",
       "Medicamentos 1                        0\n",
       "Medicamentos 2                        0\n",
       "Observaciones                         0\n",
       "Nombre                                0\n",
       "Especie                               0\n",
       "Otra especie                        615\n",
       "Raza                                  0\n",
       "Otra Raza                           567\n",
       "Género                                0\n",
       "E.Reproductivo                        0\n",
       "Fecha nacimiento                      0\n",
       "Edad                                  0\n",
       "Nombre.1                              0\n",
       "Identificación                        0\n",
       "Teléfono                            141\n",
       "Dirección                             3\n",
       "Autor                                 0\n",
       "Fecha registro                        0\n",
       "Fecha edición                         0\n",
       "dtype: int64"
      ]
     },
     "execution_count": 7,
     "metadata": {},
     "output_type": "execute_result"
    }
   ],
   "source": [
    "df.isna().sum()"
   ]
  },
  {
   "cell_type": "code",
   "execution_count": 16,
   "id": "a512323e",
   "metadata": {},
   "outputs": [
    {
     "data": {
      "text/plain": [
       "0"
      ]
     },
     "execution_count": 16,
     "metadata": {},
     "output_type": "execute_result"
    }
   ],
   "source": [
    "df.duplicated().sum()"
   ]
  },
  {
   "cell_type": "code",
   "execution_count": 8,
   "id": "cdd3776f",
   "metadata": {},
   "outputs": [
    {
     "data": {
      "text/plain": [
       "Fecha fórmula                       260\n",
       "Diagnóstico presuntivo y/o final    530\n",
       "Medicamentos 1                      622\n",
       "Medicamentos 2                      622\n",
       "Observaciones                       585\n",
       "Nombre                              363\n",
       "Especie                               3\n",
       "Otra especie                          4\n",
       "Raza                                 64\n",
       "Otra Raza                            19\n",
       "Género                                3\n",
       "E.Reproductivo                        3\n",
       "Fecha nacimiento                    362\n",
       "Edad                                362\n",
       "Nombre.1                            277\n",
       "Identificación                      278\n",
       "Teléfono                            208\n",
       "Dirección                           271\n",
       "Autor                                14\n",
       "Fecha registro                      623\n",
       "Fecha edición                       623\n",
       "dtype: int64"
      ]
     },
     "execution_count": 8,
     "metadata": {},
     "output_type": "execute_result"
    }
   ],
   "source": [
    "df.nunique()"
   ]
  },
  {
   "cell_type": "code",
   "execution_count": 9,
   "id": "3c0ba984",
   "metadata": {},
   "outputs": [],
   "source": [
    "df.drop(columns = [\"Observaciones\", \"Otra especie\", \"Otra Raza\", \"Teléfono\", \"Dirección\"]  , inplace = True)"
   ]
  },
  {
   "cell_type": "code",
   "execution_count": 10,
   "id": "9cf6d997",
   "metadata": {},
   "outputs": [
    {
     "data": {
      "text/html": [
       "<div>\n",
       "<style scoped>\n",
       "    .dataframe tbody tr th:only-of-type {\n",
       "        vertical-align: middle;\n",
       "    }\n",
       "\n",
       "    .dataframe tbody tr th {\n",
       "        vertical-align: top;\n",
       "    }\n",
       "\n",
       "    .dataframe thead th {\n",
       "        text-align: right;\n",
       "    }\n",
       "</style>\n",
       "<table border=\"1\" class=\"dataframe\">\n",
       "  <thead>\n",
       "    <tr style=\"text-align: right;\">\n",
       "      <th></th>\n",
       "      <th>Fecha fórmula</th>\n",
       "      <th>Diagnóstico presuntivo y/o final</th>\n",
       "      <th>Medicamentos 1</th>\n",
       "      <th>Medicamentos 2</th>\n",
       "      <th>Nombre</th>\n",
       "      <th>Especie</th>\n",
       "      <th>Raza</th>\n",
       "      <th>Género</th>\n",
       "      <th>E.Reproductivo</th>\n",
       "      <th>Fecha nacimiento</th>\n",
       "      <th>Edad</th>\n",
       "      <th>Nombre.1</th>\n",
       "      <th>Identificación</th>\n",
       "      <th>Autor</th>\n",
       "      <th>Fecha registro</th>\n",
       "      <th>Fecha edición</th>\n",
       "    </tr>\n",
       "  </thead>\n",
       "  <tbody>\n",
       "    <tr>\n",
       "      <th>0</th>\n",
       "      <td>2023-08-01</td>\n",
       "      <td>OVARISTERECTOMIA</td>\n",
       "      <td>Nombre: GASTRUMPresentación: TabletasCantidad:...</td>\n",
       "      <td>I. GASTRUM (Tabletas) #10. Suministrar via ora...</td>\n",
       "      <td>SASHA</td>\n",
       "      <td>Canino</td>\n",
       "      <td>Criollo(a)</td>\n",
       "      <td>Hembra</td>\n",
       "      <td>No esterilizado</td>\n",
       "      <td>2022-08-18</td>\n",
       "      <td>1 años, 11 meses y 15 días</td>\n",
       "      <td>MARIA FERNANDA LONDOÑO</td>\n",
       "      <td>1001011787</td>\n",
       "      <td>EN CASA SERVICIOS PARA MASCOTAS</td>\n",
       "      <td>2023-08-01 11:35:00</td>\n",
       "      <td>2023-08-01 17:35:48</td>\n",
       "    </tr>\n",
       "    <tr>\n",
       "      <th>1</th>\n",
       "      <td>2023-08-01</td>\n",
       "      <td>OVARISTERECTOMIA</td>\n",
       "      <td>Nombre: GASTRUMPresentación: TabletasCantidad:...</td>\n",
       "      <td>I. GASTRUM (Tabletas) #10. Suministrar via ora...</td>\n",
       "      <td>MACARENA</td>\n",
       "      <td>Canino</td>\n",
       "      <td>Otra</td>\n",
       "      <td>Hembra</td>\n",
       "      <td>No esterilizado</td>\n",
       "      <td>2022-08-19</td>\n",
       "      <td>1 años, 11 meses y 14 días</td>\n",
       "      <td>MARIA FERNANDA LONDOÑO</td>\n",
       "      <td>1001011787</td>\n",
       "      <td>EN CASA SERVICIOS PARA MASCOTAS</td>\n",
       "      <td>2023-08-01 11:46:00</td>\n",
       "      <td>2023-08-01 17:31:37</td>\n",
       "    </tr>\n",
       "    <tr>\n",
       "      <th>2</th>\n",
       "      <td>2023-08-01</td>\n",
       "      <td>PÚSTULAS EN PIEL</td>\n",
       "      <td>Nombre: labiderm ampolla regeneradoraPresentac...</td>\n",
       "      <td>I. labiderm ampolla regeneradora (Ampolla) #3....</td>\n",
       "      <td>Pistacho</td>\n",
       "      <td>Canino</td>\n",
       "      <td>Shih Tzu</td>\n",
       "      <td>Macho</td>\n",
       "      <td>Esterilizado</td>\n",
       "      <td>2011-06-23</td>\n",
       "      <td>13 años, 1 meses y 10 días</td>\n",
       "      <td>Maria Alejandra Ochoa</td>\n",
       "      <td>1037618439</td>\n",
       "      <td>valentina Velasquez Beltran</td>\n",
       "      <td>2023-08-01 15:33:25</td>\n",
       "      <td>2023-08-01 15:33:25</td>\n",
       "    </tr>\n",
       "    <tr>\n",
       "      <th>3</th>\n",
       "      <td>2023-08-01</td>\n",
       "      <td>ORQUIECTOMIA</td>\n",
       "      <td>Nombre: gastrumPresentación: TabletasCantidad:...</td>\n",
       "      <td>I. gastrum (Tabletas) #10. suministrar 1 table...</td>\n",
       "      <td>LENON</td>\n",
       "      <td>Canino</td>\n",
       "      <td>Criollo(a)</td>\n",
       "      <td>Macho</td>\n",
       "      <td>No esterilizado</td>\n",
       "      <td>2022-08-15</td>\n",
       "      <td>1 años, 11 meses y 18 días</td>\n",
       "      <td>OMAR APONTE</td>\n",
       "      <td>79602476</td>\n",
       "      <td>EN CASA SERVICIOS PARA MASCOTAS</td>\n",
       "      <td>2023-08-01 18:00:05</td>\n",
       "      <td>2023-08-01 18:00:05</td>\n",
       "    </tr>\n",
       "    <tr>\n",
       "      <th>4</th>\n",
       "      <td>2023-08-01</td>\n",
       "      <td>ORQUIECTOMIA</td>\n",
       "      <td>Nombre: gastrumPresentación: TabletasCantidad:...</td>\n",
       "      <td>I. gastrum (Tabletas) #3. suministrar 1/2 tabl...</td>\n",
       "      <td>Happy</td>\n",
       "      <td>Canino</td>\n",
       "      <td>Bulldog francés</td>\n",
       "      <td>Macho</td>\n",
       "      <td>Esterilizado</td>\n",
       "      <td>2022-01-10</td>\n",
       "      <td>2 años, 6 meses y 23 días</td>\n",
       "      <td>Maria Adelaida Restrepo</td>\n",
       "      <td>43615445</td>\n",
       "      <td>EN CASA SERVICIOS PARA MASCOTAS</td>\n",
       "      <td>2023-08-01 18:16:20</td>\n",
       "      <td>2023-08-01 18:16:20</td>\n",
       "    </tr>\n",
       "  </tbody>\n",
       "</table>\n",
       "</div>"
      ],
      "text/plain": [
       "  Fecha fórmula Diagnóstico presuntivo y/o final  \\\n",
       "0    2023-08-01                 OVARISTERECTOMIA   \n",
       "1    2023-08-01                 OVARISTERECTOMIA   \n",
       "2    2023-08-01                 PÚSTULAS EN PIEL   \n",
       "3    2023-08-01                     ORQUIECTOMIA   \n",
       "4    2023-08-01                     ORQUIECTOMIA   \n",
       "\n",
       "                                      Medicamentos 1  \\\n",
       "0  Nombre: GASTRUMPresentación: TabletasCantidad:...   \n",
       "1  Nombre: GASTRUMPresentación: TabletasCantidad:...   \n",
       "2  Nombre: labiderm ampolla regeneradoraPresentac...   \n",
       "3  Nombre: gastrumPresentación: TabletasCantidad:...   \n",
       "4  Nombre: gastrumPresentación: TabletasCantidad:...   \n",
       "\n",
       "                                      Medicamentos 2    Nombre Especie  \\\n",
       "0  I. GASTRUM (Tabletas) #10. Suministrar via ora...     SASHA  Canino   \n",
       "1  I. GASTRUM (Tabletas) #10. Suministrar via ora...  MACARENA  Canino   \n",
       "2  I. labiderm ampolla regeneradora (Ampolla) #3....  Pistacho  Canino   \n",
       "3  I. gastrum (Tabletas) #10. suministrar 1 table...     LENON  Canino   \n",
       "4  I. gastrum (Tabletas) #3. suministrar 1/2 tabl...     Happy  Canino   \n",
       "\n",
       "              Raza  Género   E.Reproductivo Fecha nacimiento  \\\n",
       "0       Criollo(a)  Hembra  No esterilizado       2022-08-18   \n",
       "1             Otra  Hembra  No esterilizado       2022-08-19   \n",
       "2         Shih Tzu   Macho     Esterilizado       2011-06-23   \n",
       "3       Criollo(a)   Macho  No esterilizado       2022-08-15   \n",
       "4  Bulldog francés   Macho     Esterilizado       2022-01-10   \n",
       "\n",
       "                         Edad                 Nombre.1 Identificación  \\\n",
       "0  1 años, 11 meses y 15 días   MARIA FERNANDA LONDOÑO     1001011787   \n",
       "1  1 años, 11 meses y 14 días   MARIA FERNANDA LONDOÑO     1001011787   \n",
       "2  13 años, 1 meses y 10 días    Maria Alejandra Ochoa     1037618439   \n",
       "3  1 años, 11 meses y 18 días              OMAR APONTE       79602476   \n",
       "4   2 años, 6 meses y 23 días  Maria Adelaida Restrepo       43615445   \n",
       "\n",
       "                             Autor       Fecha registro        Fecha edición  \n",
       "0  EN CASA SERVICIOS PARA MASCOTAS  2023-08-01 11:35:00  2023-08-01 17:35:48  \n",
       "1  EN CASA SERVICIOS PARA MASCOTAS  2023-08-01 11:46:00  2023-08-01 17:31:37  \n",
       "2      valentina Velasquez Beltran  2023-08-01 15:33:25  2023-08-01 15:33:25  \n",
       "3  EN CASA SERVICIOS PARA MASCOTAS  2023-08-01 18:00:05  2023-08-01 18:00:05  \n",
       "4  EN CASA SERVICIOS PARA MASCOTAS  2023-08-01 18:16:20  2023-08-01 18:16:20  "
      ]
     },
     "execution_count": 10,
     "metadata": {},
     "output_type": "execute_result"
    }
   ],
   "source": [
    "df.head()"
   ]
  },
  {
   "cell_type": "code",
   "execution_count": 11,
   "id": "79b21d20",
   "metadata": {
    "scrolled": true
   },
   "outputs": [
    {
     "data": {
      "text/plain": [
       "Fecha fórmula                       object\n",
       "Diagnóstico presuntivo y/o final    object\n",
       "Medicamentos 1                      object\n",
       "Medicamentos 2                      object\n",
       "Nombre                              object\n",
       "Especie                             object\n",
       "Raza                                object\n",
       "Género                              object\n",
       "E.Reproductivo                      object\n",
       "Fecha nacimiento                    object\n",
       "Edad                                object\n",
       "Nombre.1                            object\n",
       "Identificación                      object\n",
       "Autor                               object\n",
       "Fecha registro                      object\n",
       "Fecha edición                       object\n",
       "dtype: object"
      ]
     },
     "execution_count": 11,
     "metadata": {},
     "output_type": "execute_result"
    }
   ],
   "source": [
    "df.dtypes"
   ]
  },
  {
   "cell_type": "code",
   "execution_count": 13,
   "id": "44561351",
   "metadata": {},
   "outputs": [
    {
     "data": {
      "text/plain": [
       "Fecha fórmula                       260\n",
       "Diagnóstico presuntivo y/o final    530\n",
       "Medicamentos 1                      622\n",
       "Medicamentos 2                      622\n",
       "Nombre                              363\n",
       "Especie                               3\n",
       "Raza                                 64\n",
       "Género                                3\n",
       "E.Reproductivo                        3\n",
       "Fecha nacimiento                    362\n",
       "Edad                                362\n",
       "Nombre.1                            277\n",
       "Identificación                      278\n",
       "Autor                                14\n",
       "Fecha registro                      623\n",
       "Fecha edición                       623\n",
       "dtype: int64"
      ]
     },
     "execution_count": 13,
     "metadata": {},
     "output_type": "execute_result"
    }
   ],
   "source": [
    "df.nunique()"
   ]
  },
  {
   "cell_type": "code",
   "execution_count": 16,
   "id": "990e41d0",
   "metadata": {},
   "outputs": [
    {
     "data": {
      "text/plain": [
       "Especie\n",
       "Canino    417\n",
       "Felino    198\n",
       "Equino      8\n",
       "Name: count, dtype: int64"
      ]
     },
     "execution_count": 16,
     "metadata": {},
     "output_type": "execute_result"
    }
   ],
   "source": [
    "df.Especie.value_counts()"
   ]
  },
  {
   "cell_type": "code",
   "execution_count": 17,
   "id": "18f1d9a8",
   "metadata": {},
   "outputs": [
    {
     "data": {
      "text/plain": [
       "Género\n",
       "Macho     331\n",
       "Hembra    291\n",
       "N/D         1\n",
       "Name: count, dtype: int64"
      ]
     },
     "execution_count": 17,
     "metadata": {},
     "output_type": "execute_result"
    }
   ],
   "source": [
    "df.Género.value_counts()"
   ]
  },
  {
   "cell_type": "code",
   "execution_count": 18,
   "id": "7d64bafe",
   "metadata": {},
   "outputs": [
    {
     "data": {
      "text/plain": [
       "Autor\n",
       "Paula  Andrea Bernal Yepes         183\n",
       "Carolina Velasquez                 153\n",
       "EN CASA SERVICIOS PARA MASCOTAS     83\n",
       "valentina Velasquez Beltran         81\n",
       "Natalia Ortiz Ríos                  53\n",
       "MA. CAMILA MEJIA (TP 26023)         32\n",
       "Mariana Serna Pinilla               15\n",
       "Eliana Andrea  Varela Rodríguez      8\n",
       "Juan David Zapata Giraldo            4\n",
       "Daniela Bedoya Cardona               4\n",
       "Isabella Quiroga                     2\n",
       "Ximena Restrepo Botero               2\n",
       "María Paula Restrepo                 2\n",
       "susana garcia gomez                  1\n",
       "Name: count, dtype: int64"
      ]
     },
     "execution_count": 18,
     "metadata": {},
     "output_type": "execute_result"
    }
   ],
   "source": [
    "df.Autor.value_counts()"
   ]
  },
  {
   "cell_type": "code",
   "execution_count": 19,
   "id": "d9afc096",
   "metadata": {},
   "outputs": [],
   "source": [
    "df.rename(columns = {\"Nombre\": \"Paciente\"} , inplace = True)"
   ]
  },
  {
   "cell_type": "code",
   "execution_count": 20,
   "id": "4e80d404",
   "metadata": {},
   "outputs": [],
   "source": [
    "df.rename(columns = {\"Nombre.1\": \"Cliente\"} , inplace = True)"
   ]
  },
  {
   "cell_type": "code",
   "execution_count": 24,
   "id": "1259b8ae",
   "metadata": {},
   "outputs": [],
   "source": [
    "df[\"Fecha fórmula\"] = pd.to_datetime(df[\"Fecha fórmula\"])"
   ]
  },
  {
   "cell_type": "code",
   "execution_count": 25,
   "id": "c2145fbc",
   "metadata": {},
   "outputs": [],
   "source": [
    "df[\"Fecha nacimiento\"] = pd.to_datetime(df[\"Fecha nacimiento\"])"
   ]
  },
  {
   "cell_type": "code",
   "execution_count": 26,
   "id": "bf902e8d",
   "metadata": {},
   "outputs": [],
   "source": [
    "df[\"Fecha registro\"] = pd.to_datetime(df[\"Fecha registro\"])"
   ]
  },
  {
   "cell_type": "code",
   "execution_count": 27,
   "id": "b499e8ac",
   "metadata": {},
   "outputs": [],
   "source": [
    "df[\"Fecha edición\"] = pd.to_datetime(df[\"Fecha edición\"])"
   ]
  },
  {
   "cell_type": "code",
   "execution_count": 28,
   "id": "5946b5ed",
   "metadata": {},
   "outputs": [
    {
     "data": {
      "text/plain": [
       "Fecha fórmula                       datetime64[ns]\n",
       "Diagnóstico presuntivo y/o final            object\n",
       "Medicamentos 1                              object\n",
       "Medicamentos 2                              object\n",
       "Paciente                                    object\n",
       "Especie                                     object\n",
       "Raza                                        object\n",
       "Género                                      object\n",
       "E.Reproductivo                              object\n",
       "Fecha nacimiento                    datetime64[ns]\n",
       "Edad                                        object\n",
       "Cliente                                     object\n",
       "Identificación                              object\n",
       "Autor                                       object\n",
       "Fecha registro                      datetime64[ns]\n",
       "Fecha edición                       datetime64[ns]\n",
       "dtype: object"
      ]
     },
     "execution_count": 28,
     "metadata": {},
     "output_type": "execute_result"
    }
   ],
   "source": [
    "df.dtypes"
   ]
  },
  {
   "cell_type": "code",
   "execution_count": null,
   "id": "ec87294c",
   "metadata": {},
   "outputs": [],
   "source": []
  },
  {
   "cell_type": "code",
   "execution_count": 29,
   "id": "559667b7",
   "metadata": {},
   "outputs": [],
   "source": [
    "# df.to_excel(\"/Users/karollvivianalopezvillegas/GitHub/OKVET_DA_Final_project/04_Datasets_final/df_OKVET_Fórmulas_médicas.xlsx\", index = False)"
   ]
  },
  {
   "cell_type": "code",
   "execution_count": null,
   "id": "5f25ac64",
   "metadata": {},
   "outputs": [],
   "source": []
  }
 ],
 "metadata": {
  "kernelspec": {
   "display_name": "Python 3 (ipykernel)",
   "language": "python",
   "name": "python3"
  },
  "language_info": {
   "codemirror_mode": {
    "name": "ipython",
    "version": 3
   },
   "file_extension": ".py",
   "mimetype": "text/x-python",
   "name": "python",
   "nbconvert_exporter": "python",
   "pygments_lexer": "ipython3",
   "version": "3.11.7"
  }
 },
 "nbformat": 4,
 "nbformat_minor": 5
}
