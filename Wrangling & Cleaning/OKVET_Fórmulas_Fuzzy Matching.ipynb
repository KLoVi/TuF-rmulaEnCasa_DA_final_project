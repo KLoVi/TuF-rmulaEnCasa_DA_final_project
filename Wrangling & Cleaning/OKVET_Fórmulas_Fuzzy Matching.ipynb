{
 "cells": [
  {
   "cell_type": "code",
   "execution_count": 5,
   "id": "464f2a73",
   "metadata": {},
   "outputs": [
    {
     "name": "stdout",
     "output_type": "stream",
     "text": [
      "\u001b[33mWARNING: Ignoring invalid distribution ~qlalchemy (/opt/anaconda3/lib/python3.11/site-packages)\u001b[0m\u001b[33m\n",
      "\u001b[0mRequirement already satisfied: fuzzywuzzy in /opt/anaconda3/lib/python3.11/site-packages (0.18.0)\n",
      "Requirement already satisfied: python-Levenshtein in /opt/anaconda3/lib/python3.11/site-packages (0.25.1)\n",
      "Requirement already satisfied: Levenshtein==0.25.1 in /opt/anaconda3/lib/python3.11/site-packages (from python-Levenshtein) (0.25.1)\n",
      "Requirement already satisfied: rapidfuzz<4.0.0,>=3.8.0 in /opt/anaconda3/lib/python3.11/site-packages (from Levenshtein==0.25.1->python-Levenshtein) (3.9.3)\n",
      "\u001b[33mWARNING: Ignoring invalid distribution ~qlalchemy (/opt/anaconda3/lib/python3.11/site-packages)\u001b[0m\u001b[33m\n",
      "\u001b[0mNote: you may need to restart the kernel to use updated packages.\n"
     ]
    }
   ],
   "source": [
    "pip install fuzzywuzzy python-Levenshtein"
   ]
  },
  {
   "cell_type": "code",
   "execution_count": 6,
   "id": "d2230122",
   "metadata": {},
   "outputs": [],
   "source": [
    "from fuzzywuzzy import process"
   ]
  },
  {
   "cell_type": "code",
   "execution_count": 27,
   "id": "a3b6410f",
   "metadata": {},
   "outputs": [],
   "source": [
    "import pandas as pd\n",
    "import numpy as np"
   ]
  },
  {
   "cell_type": "code",
   "execution_count": 28,
   "id": "69aed422",
   "metadata": {},
   "outputs": [],
   "source": [
    "fórmulas = \"/Users/karollvivianalopezvillegas/GitHub/OKVET_DA_Final_project/04_Datasets_final/df_OKVET_Fórmulas_split.xlsx\""
   ]
  },
  {
   "cell_type": "code",
   "execution_count": 29,
   "id": "8f0d0315",
   "metadata": {},
   "outputs": [],
   "source": [
    "df_fórmulas = pd.read_excel(fórmulas)"
   ]
  },
  {
   "cell_type": "code",
   "execution_count": 30,
   "id": "d7d28db1",
   "metadata": {
    "scrolled": true
   },
   "outputs": [
    {
     "data": {
      "text/html": [
       "<div>\n",
       "<style scoped>\n",
       "    .dataframe tbody tr th:only-of-type {\n",
       "        vertical-align: middle;\n",
       "    }\n",
       "\n",
       "    .dataframe tbody tr th {\n",
       "        vertical-align: top;\n",
       "    }\n",
       "\n",
       "    .dataframe thead th {\n",
       "        text-align: right;\n",
       "    }\n",
       "</style>\n",
       "<table border=\"1\" class=\"dataframe\">\n",
       "  <thead>\n",
       "    <tr style=\"text-align: right;\">\n",
       "      <th></th>\n",
       "      <th>medicamento_num</th>\n",
       "      <th>nombre_medicamento</th>\n",
       "      <th>Paciente</th>\n",
       "      <th>Cliente</th>\n",
       "      <th>Especie</th>\n",
       "      <th>Raza</th>\n",
       "      <th>Género</th>\n",
       "      <th>E.Reproductivo</th>\n",
       "      <th>Identificación</th>\n",
       "      <th>Fecha fórmula</th>\n",
       "      <th>Fecha registro</th>\n",
       "      <th>Fecha edición</th>\n",
       "      <th>Autor</th>\n",
       "      <th>Medicamentos 1</th>\n",
       "      <th>Fecha nacimiento</th>\n",
       "      <th>Edad</th>\n",
       "      <th>Diagnóstico presuntivo y/o final</th>\n",
       "      <th>index</th>\n",
       "      <th>indice_original</th>\n",
       "    </tr>\n",
       "  </thead>\n",
       "  <tbody>\n",
       "    <tr>\n",
       "      <th>0</th>\n",
       "      <td>8</td>\n",
       "      <td>acar clean</td>\n",
       "      <td>GUARDIANA</td>\n",
       "      <td>Sandra Milena galvis</td>\n",
       "      <td>Canino</td>\n",
       "      <td>Dobermann</td>\n",
       "      <td>Hembra</td>\n",
       "      <td>No esterilizado</td>\n",
       "      <td>37750714</td>\n",
       "      <td>2024-02-09</td>\n",
       "      <td>2024-02-09 10:10:45</td>\n",
       "      <td>2024-02-09 10:10:45</td>\n",
       "      <td>Paula  Andrea Bernal Yepes</td>\n",
       "      <td>Nombre: gastricumeelPresentación: tabletasCant...</td>\n",
       "      <td>2023-01-27</td>\n",
       "      <td>1 años, 6 meses y 6 días</td>\n",
       "      <td>dermatitis alergica por contacto?</td>\n",
       "      <td>542</td>\n",
       "      <td>542</td>\n",
       "    </tr>\n",
       "  </tbody>\n",
       "</table>\n",
       "</div>"
      ],
      "text/plain": [
       "   medicamento_num nombre_medicamento   Paciente               Cliente  \\\n",
       "0                8         acar clean  GUARDIANA  Sandra Milena galvis   \n",
       "\n",
       "  Especie       Raza  Género   E.Reproductivo Identificación Fecha fórmula  \\\n",
       "0  Canino  Dobermann  Hembra  No esterilizado       37750714    2024-02-09   \n",
       "\n",
       "       Fecha registro       Fecha edición                       Autor  \\\n",
       "0 2024-02-09 10:10:45 2024-02-09 10:10:45  Paula  Andrea Bernal Yepes   \n",
       "\n",
       "                                      Medicamentos 1 Fecha nacimiento  \\\n",
       "0  Nombre: gastricumeelPresentación: tabletasCant...       2023-01-27   \n",
       "\n",
       "                       Edad   Diagnóstico presuntivo y/o final  index  \\\n",
       "0  1 años, 6 meses y 6 días  dermatitis alergica por contacto?    542   \n",
       "\n",
       "   indice_original  \n",
       "0              542  "
      ]
     },
     "execution_count": 30,
     "metadata": {},
     "output_type": "execute_result"
    }
   ],
   "source": [
    "df_fórmulas.head(1)"
   ]
  },
  {
   "cell_type": "code",
   "execution_count": 31,
   "id": "c20591a8",
   "metadata": {},
   "outputs": [],
   "source": [
    "productos = \"/Users/karollvivianalopezvillegas/GitHub/OKVET_DA_Final_project/02_Datasets_pre_cleaning/TuFórmula_Productos.xlsx\" "
   ]
  },
  {
   "cell_type": "code",
   "execution_count": 32,
   "id": "64b75d92",
   "metadata": {},
   "outputs": [],
   "source": [
    "df_productos = pd.read_excel(productos)"
   ]
  },
  {
   "cell_type": "code",
   "execution_count": 33,
   "id": "16cceb21",
   "metadata": {},
   "outputs": [
    {
     "data": {
      "text/html": [
       "<div>\n",
       "<style scoped>\n",
       "    .dataframe tbody tr th:only-of-type {\n",
       "        vertical-align: middle;\n",
       "    }\n",
       "\n",
       "    .dataframe tbody tr th {\n",
       "        vertical-align: top;\n",
       "    }\n",
       "\n",
       "    .dataframe thead th {\n",
       "        text-align: right;\n",
       "    }\n",
       "</style>\n",
       "<table border=\"1\" class=\"dataframe\">\n",
       "  <thead>\n",
       "    <tr style=\"text-align: right;\">\n",
       "      <th></th>\n",
       "      <th>PRODUCTO</th>\n",
       "    </tr>\n",
       "  </thead>\n",
       "  <tbody>\n",
       "    <tr>\n",
       "      <th>0</th>\n",
       "      <td>Acar clean 400ml (spray)</td>\n",
       "    </tr>\n",
       "  </tbody>\n",
       "</table>\n",
       "</div>"
      ],
      "text/plain": [
       "                   PRODUCTO\n",
       "0  Acar clean 400ml (spray)"
      ]
     },
     "execution_count": 33,
     "metadata": {},
     "output_type": "execute_result"
    }
   ],
   "source": [
    "df_productos.head(1)"
   ]
  },
  {
   "cell_type": "code",
   "execution_count": 34,
   "id": "584172b2",
   "metadata": {},
   "outputs": [],
   "source": [
    "nombres_estandar = df_productos['PRODUCTO'].tolist()"
   ]
  },
  {
   "cell_type": "code",
   "execution_count": 35,
   "id": "33da0ce6",
   "metadata": {},
   "outputs": [],
   "source": [
    "# Función para encontrar la mejor coincidencia\n",
    "def encontrar_coincidencia(nombre, lista_nombres, score_corte=80):\n",
    "    coincidencia = process.extractOne(nombre, lista_nombres, score_cutoff=score_corte)\n",
    "    if coincidencia:\n",
    "        return coincidencia[0]  # Nombre estandarizado\n",
    "    else:\n",
    "        return 'no disponible'"
   ]
  },
  {
   "cell_type": "code",
   "execution_count": null,
   "id": "7c1b286e",
   "metadata": {},
   "outputs": [],
   "source": []
  },
  {
   "cell_type": "code",
   "execution_count": 37,
   "id": "c584e09d",
   "metadata": {},
   "outputs": [],
   "source": [
    "# Aplicar a la columna de interés\n",
    "df_fórmulas['nombre_estandarizado'] = df_fórmulas['nombre_medicamento'].apply(lambda x: encontrar_coincidencia(x, nombres_estandar))"
   ]
  },
  {
   "cell_type": "code",
   "execution_count": 40,
   "id": "46e2b5f6",
   "metadata": {},
   "outputs": [
    {
     "data": {
      "text/plain": [
       "Index(['medicamento_num', 'nombre_medicamento', 'Paciente', 'Cliente',\n",
       "       'Especie', 'Raza', 'Género', 'E.Reproductivo', 'Identificación',\n",
       "       'Fecha fórmula', 'Fecha registro', 'Fecha edición', 'Autor',\n",
       "       'Medicamentos 1', 'Fecha nacimiento', 'Edad',\n",
       "       'Diagnóstico presuntivo y/o final', 'index', 'indice_original',\n",
       "       'nombre_estandarizado'],\n",
       "      dtype='object')"
      ]
     },
     "execution_count": 40,
     "metadata": {},
     "output_type": "execute_result"
    }
   ],
   "source": [
    "df_fórmulas.columns"
   ]
  },
  {
   "cell_type": "code",
   "execution_count": 42,
   "id": "27e3ff64",
   "metadata": {},
   "outputs": [],
   "source": [
    "df_fórmulas = df_fórmulas[['medicamento_num', 'nombre_medicamento', 'nombre_estandarizado', 'Paciente', 'Cliente',\n",
    "       'Especie', 'Raza', 'Género', 'E.Reproductivo', 'Identificación',\n",
    "       'Fecha fórmula', 'Fecha registro', 'Fecha edición', 'Autor',\n",
    "       'Medicamentos 1', 'Fecha nacimiento', 'Edad',\n",
    "       'Diagnóstico presuntivo y/o final', 'index', 'indice_original']]"
   ]
  },
  {
   "cell_type": "code",
   "execution_count": 45,
   "id": "f2a5988e",
   "metadata": {},
   "outputs": [
    {
     "data": {
      "text/html": [
       "<div>\n",
       "<style scoped>\n",
       "    .dataframe tbody tr th:only-of-type {\n",
       "        vertical-align: middle;\n",
       "    }\n",
       "\n",
       "    .dataframe tbody tr th {\n",
       "        vertical-align: top;\n",
       "    }\n",
       "\n",
       "    .dataframe thead th {\n",
       "        text-align: right;\n",
       "    }\n",
       "</style>\n",
       "<table border=\"1\" class=\"dataframe\">\n",
       "  <thead>\n",
       "    <tr style=\"text-align: right;\">\n",
       "      <th></th>\n",
       "      <th>medicamento_num</th>\n",
       "      <th>nombre_medicamento</th>\n",
       "      <th>nombre_estandarizado</th>\n",
       "      <th>Paciente</th>\n",
       "      <th>Cliente</th>\n",
       "      <th>Especie</th>\n",
       "      <th>Raza</th>\n",
       "      <th>Género</th>\n",
       "      <th>E.Reproductivo</th>\n",
       "      <th>Identificación</th>\n",
       "      <th>Fecha fórmula</th>\n",
       "      <th>Fecha registro</th>\n",
       "      <th>Fecha edición</th>\n",
       "      <th>Autor</th>\n",
       "      <th>Medicamentos 1</th>\n",
       "      <th>Fecha nacimiento</th>\n",
       "      <th>Edad</th>\n",
       "      <th>Diagnóstico presuntivo y/o final</th>\n",
       "      <th>index</th>\n",
       "      <th>indice_original</th>\n",
       "    </tr>\n",
       "  </thead>\n",
       "  <tbody>\n",
       "    <tr>\n",
       "      <th>0</th>\n",
       "      <td>8</td>\n",
       "      <td>acar clean</td>\n",
       "      <td>Acar clean 400ml (spray)</td>\n",
       "      <td>GUARDIANA</td>\n",
       "      <td>Sandra Milena galvis</td>\n",
       "      <td>Canino</td>\n",
       "      <td>Dobermann</td>\n",
       "      <td>Hembra</td>\n",
       "      <td>No esterilizado</td>\n",
       "      <td>37750714</td>\n",
       "      <td>2024-02-09</td>\n",
       "      <td>2024-02-09 10:10:45</td>\n",
       "      <td>2024-02-09 10:10:45</td>\n",
       "      <td>Paula  Andrea Bernal Yepes</td>\n",
       "      <td>Nombre: gastricumeelPresentación: tabletasCant...</td>\n",
       "      <td>2023-01-27</td>\n",
       "      <td>1 años, 6 meses y 6 días</td>\n",
       "      <td>dermatitis alergica por contacto?</td>\n",
       "      <td>542</td>\n",
       "      <td>542</td>\n",
       "    </tr>\n",
       "  </tbody>\n",
       "</table>\n",
       "</div>"
      ],
      "text/plain": [
       "   medicamento_num nombre_medicamento      nombre_estandarizado   Paciente  \\\n",
       "0                8         acar clean  Acar clean 400ml (spray)  GUARDIANA   \n",
       "\n",
       "                Cliente Especie       Raza  Género   E.Reproductivo  \\\n",
       "0  Sandra Milena galvis  Canino  Dobermann  Hembra  No esterilizado   \n",
       "\n",
       "  Identificación Fecha fórmula      Fecha registro       Fecha edición  \\\n",
       "0       37750714    2024-02-09 2024-02-09 10:10:45 2024-02-09 10:10:45   \n",
       "\n",
       "                        Autor  \\\n",
       "0  Paula  Andrea Bernal Yepes   \n",
       "\n",
       "                                      Medicamentos 1 Fecha nacimiento  \\\n",
       "0  Nombre: gastricumeelPresentación: tabletasCant...       2023-01-27   \n",
       "\n",
       "                       Edad   Diagnóstico presuntivo y/o final  index  \\\n",
       "0  1 años, 6 meses y 6 días  dermatitis alergica por contacto?    542   \n",
       "\n",
       "   indice_original  \n",
       "0              542  "
      ]
     },
     "execution_count": 45,
     "metadata": {},
     "output_type": "execute_result"
    }
   ],
   "source": [
    "df_fórmulas.head(1)"
   ]
  },
  {
   "cell_type": "code",
   "execution_count": 44,
   "id": "cc1b273c",
   "metadata": {
    "scrolled": true
   },
   "outputs": [],
   "source": [
    "# df_fórmulas.to_excel(\"/Users/karollvivianalopezvillegas/GitHub/OKVET_DA_Final_project/04_Datasets_final/df_OKVET_Fórmulas_Fuzzy Matching.xlsx\", index = False)"
   ]
  },
  {
   "cell_type": "code",
   "execution_count": null,
   "id": "5bf45286",
   "metadata": {},
   "outputs": [],
   "source": []
  }
 ],
 "metadata": {
  "kernelspec": {
   "display_name": "Python 3 (ipykernel)",
   "language": "python",
   "name": "python3"
  },
  "language_info": {
   "codemirror_mode": {
    "name": "ipython",
    "version": 3
   },
   "file_extension": ".py",
   "mimetype": "text/x-python",
   "name": "python",
   "nbconvert_exporter": "python",
   "pygments_lexer": "ipython3",
   "version": "3.11.7"
  }
 },
 "nbformat": 4,
 "nbformat_minor": 5
}
